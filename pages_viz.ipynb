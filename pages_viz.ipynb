{
 "cells": [
  {
   "cell_type": "markdown",
   "metadata": {},
   "source": [
    "# Stock exchange – visualising page data"
   ]
  },
  {
   "cell_type": "code",
   "execution_count": 1,
   "metadata": {},
   "outputs": [],
   "source": [
    "import pandas as pd\n",
    "from IPython.display import display, HTML\n",
    "import altair as alt"
   ]
  },
  {
   "cell_type": "code",
   "execution_count": 2,
   "metadata": {},
   "outputs": [],
   "source": [
    "df = pd.read_csv('complete_page_list.csv', parse_dates=['date'])"
   ]
  },
  {
   "cell_type": "code",
   "execution_count": 3,
   "metadata": {},
   "outputs": [
    {
     "data": {
      "text/plain": [
       "A    27244\n",
       "M    24538\n",
       "N    20971\n",
       "U        1\n",
       "Name: session, dtype: int64"
      ]
     },
     "execution_count": 3,
     "metadata": {},
     "output_type": "execute_result"
    }
   ],
   "source": [
    "df['session'].value_counts()"
   ]
  },
  {
   "cell_type": "code",
   "execution_count": 4,
   "metadata": {},
   "outputs": [],
   "source": [
    "df['year'] = df['date'].dt.year"
   ]
  },
  {
   "cell_type": "code",
   "execution_count": 5,
   "metadata": {},
   "outputs": [],
   "source": [
    "df_years = df['year'].value_counts().to_frame().reset_index()\n",
    "df_years.columns = ['year', 'count']"
   ]
  },
  {
   "cell_type": "code",
   "execution_count": 6,
   "metadata": {},
   "outputs": [
    {
     "data": {
      "text/html": [
       "\n",
       "<div id=\"altair-viz-814a5c1125584449a97a575950a1a8d5\"></div>\n",
       "<script type=\"text/javascript\">\n",
       "  (function(spec, embedOpt){\n",
       "    let outputDiv = document.currentScript.previousElementSibling;\n",
       "    if (outputDiv.id !== \"altair-viz-814a5c1125584449a97a575950a1a8d5\") {\n",
       "      outputDiv = document.getElementById(\"altair-viz-814a5c1125584449a97a575950a1a8d5\");\n",
       "    }\n",
       "    const paths = {\n",
       "      \"vega\": \"https://cdn.jsdelivr.net/npm//vega@5?noext\",\n",
       "      \"vega-lib\": \"https://cdn.jsdelivr.net/npm//vega-lib?noext\",\n",
       "      \"vega-lite\": \"https://cdn.jsdelivr.net/npm//vega-lite@4.8.1?noext\",\n",
       "      \"vega-embed\": \"https://cdn.jsdelivr.net/npm//vega-embed@6?noext\",\n",
       "    };\n",
       "\n",
       "    function loadScript(lib) {\n",
       "      return new Promise(function(resolve, reject) {\n",
       "        var s = document.createElement('script');\n",
       "        s.src = paths[lib];\n",
       "        s.async = true;\n",
       "        s.onload = () => resolve(paths[lib]);\n",
       "        s.onerror = () => reject(`Error loading script: ${paths[lib]}`);\n",
       "        document.getElementsByTagName(\"head\")[0].appendChild(s);\n",
       "      });\n",
       "    }\n",
       "\n",
       "    function showError(err) {\n",
       "      outputDiv.innerHTML = `<div class=\"error\" style=\"color:red;\">${err}</div>`;\n",
       "      throw err;\n",
       "    }\n",
       "\n",
       "    function displayChart(vegaEmbed) {\n",
       "      vegaEmbed(outputDiv, spec, embedOpt)\n",
       "        .catch(err => showError(`Javascript Error: ${err.message}<br>This usually means there's a typo in your chart specification. See the javascript console for the full traceback.`));\n",
       "    }\n",
       "\n",
       "    if(typeof define === \"function\" && define.amd) {\n",
       "      requirejs.config({paths});\n",
       "      require([\"vega-embed\"], displayChart, err => showError(`Error loading script: ${err.message}`));\n",
       "    } else if (typeof vegaEmbed === \"function\") {\n",
       "      displayChart(vegaEmbed);\n",
       "    } else {\n",
       "      loadScript(\"vega\")\n",
       "        .then(() => loadScript(\"vega-lite\"))\n",
       "        .then(() => loadScript(\"vega-embed\"))\n",
       "        .catch(showError)\n",
       "        .then(() => displayChart(vegaEmbed));\n",
       "    }\n",
       "  })({\"config\": {\"view\": {\"continuousWidth\": 400, \"continuousHeight\": 300}}, \"data\": {\"name\": \"data-e43809a8f8acf6d7da7132a762c10fa9\"}, \"mark\": \"bar\", \"encoding\": {\"x\": {\"type\": \"nominal\", \"field\": \"year\"}, \"y\": {\"type\": \"quantitative\", \"field\": \"count\"}}, \"$schema\": \"https://vega.github.io/schema/vega-lite/v4.8.1.json\", \"datasets\": {\"data-e43809a8f8acf6d7da7132a762c10fa9\": [{\"year\": 1941, \"count\": 2381}, {\"year\": 1940, \"count\": 2372}, {\"year\": 1939, \"count\": 2336}, {\"year\": 1938, \"count\": 2318}, {\"year\": 1937, \"count\": 2149}, {\"year\": 1949, \"count\": 1936}, {\"year\": 1942, \"count\": 1690}, {\"year\": 1948, \"count\": 1680}, {\"year\": 1943, \"count\": 1644}, {\"year\": 1944, \"count\": 1617}, {\"year\": 1947, \"count\": 1598}, {\"year\": 1945, \"count\": 1587}, {\"year\": 1936, \"count\": 1536}, {\"year\": 1935, \"count\": 1528}, {\"year\": 1946, \"count\": 1434}, {\"year\": 1934, \"count\": 1367}, {\"year\": 1904, \"count\": 1320}, {\"year\": 1907, \"count\": 1318}, {\"year\": 1909, \"count\": 1318}, {\"year\": 1903, \"count\": 1314}, {\"year\": 1912, \"count\": 1312}, {\"year\": 1905, \"count\": 1311}, {\"year\": 1908, \"count\": 1310}, {\"year\": 1920, \"count\": 1308}, {\"year\": 1902, \"count\": 1305}, {\"year\": 1911, \"count\": 1303}, {\"year\": 1932, \"count\": 1299}, {\"year\": 1931, \"count\": 1299}, {\"year\": 1928, \"count\": 1299}, {\"year\": 1906, \"count\": 1298}, {\"year\": 1913, \"count\": 1297}, {\"year\": 1933, \"count\": 1297}, {\"year\": 1930, \"count\": 1297}, {\"year\": 1929, \"count\": 1296}, {\"year\": 1910, \"count\": 1295}, {\"year\": 1924, \"count\": 1294}, {\"year\": 1926, \"count\": 1293}, {\"year\": 1927, \"count\": 1290}, {\"year\": 1919, \"count\": 1289}, {\"year\": 1915, \"count\": 1287}, {\"year\": 1925, \"count\": 1285}, {\"year\": 1922, \"count\": 1285}, {\"year\": 1916, \"count\": 1283}, {\"year\": 1923, \"count\": 1283}, {\"year\": 1918, \"count\": 1282}, {\"year\": 1917, \"count\": 1280}, {\"year\": 1921, \"count\": 1276}, {\"year\": 1901, \"count\": 1272}, {\"year\": 1914, \"count\": 1122}, {\"year\": 1950, \"count\": 964}]}}, {\"mode\": \"vega-lite\"});\n",
       "</script>"
      ],
      "text/plain": [
       "alt.Chart(...)"
      ]
     },
     "execution_count": 6,
     "metadata": {},
     "output_type": "execute_result"
    }
   ],
   "source": [
    "# Pages per year\n",
    "\n",
    "alt.Chart(df_years).mark_bar().encode(\n",
    "    x='year:N',\n",
    "    y='count:Q'\n",
    ")"
   ]
  },
  {
   "cell_type": "code",
   "execution_count": 7,
   "metadata": {},
   "outputs": [],
   "source": [
    "df_dates = pd.DataFrame(df['date'].unique())\n",
    "df_dates['year'] = df_dates[0].dt.year\n",
    "df_years_dates = df_dates['year'].value_counts().to_frame().reset_index()\n",
    "df_years_dates.columns = ['year', 'count']"
   ]
  },
  {
   "cell_type": "code",
   "execution_count": 8,
   "metadata": {},
   "outputs": [
    {
     "data": {
      "text/html": [
       "\n",
       "<div id=\"altair-viz-60b6acb9c4554519a296de194081c4f2\"></div>\n",
       "<script type=\"text/javascript\">\n",
       "  (function(spec, embedOpt){\n",
       "    let outputDiv = document.currentScript.previousElementSibling;\n",
       "    if (outputDiv.id !== \"altair-viz-60b6acb9c4554519a296de194081c4f2\") {\n",
       "      outputDiv = document.getElementById(\"altair-viz-60b6acb9c4554519a296de194081c4f2\");\n",
       "    }\n",
       "    const paths = {\n",
       "      \"vega\": \"https://cdn.jsdelivr.net/npm//vega@5?noext\",\n",
       "      \"vega-lib\": \"https://cdn.jsdelivr.net/npm//vega-lib?noext\",\n",
       "      \"vega-lite\": \"https://cdn.jsdelivr.net/npm//vega-lite@4.8.1?noext\",\n",
       "      \"vega-embed\": \"https://cdn.jsdelivr.net/npm//vega-embed@6?noext\",\n",
       "    };\n",
       "\n",
       "    function loadScript(lib) {\n",
       "      return new Promise(function(resolve, reject) {\n",
       "        var s = document.createElement('script');\n",
       "        s.src = paths[lib];\n",
       "        s.async = true;\n",
       "        s.onload = () => resolve(paths[lib]);\n",
       "        s.onerror = () => reject(`Error loading script: ${paths[lib]}`);\n",
       "        document.getElementsByTagName(\"head\")[0].appendChild(s);\n",
       "      });\n",
       "    }\n",
       "\n",
       "    function showError(err) {\n",
       "      outputDiv.innerHTML = `<div class=\"error\" style=\"color:red;\">${err}</div>`;\n",
       "      throw err;\n",
       "    }\n",
       "\n",
       "    function displayChart(vegaEmbed) {\n",
       "      vegaEmbed(outputDiv, spec, embedOpt)\n",
       "        .catch(err => showError(`Javascript Error: ${err.message}<br>This usually means there's a typo in your chart specification. See the javascript console for the full traceback.`));\n",
       "    }\n",
       "\n",
       "    if(typeof define === \"function\" && define.amd) {\n",
       "      requirejs.config({paths});\n",
       "      require([\"vega-embed\"], displayChart, err => showError(`Error loading script: ${err.message}`));\n",
       "    } else if (typeof vegaEmbed === \"function\") {\n",
       "      displayChart(vegaEmbed);\n",
       "    } else {\n",
       "      loadScript(\"vega\")\n",
       "        .then(() => loadScript(\"vega-lite\"))\n",
       "        .then(() => loadScript(\"vega-embed\"))\n",
       "        .catch(showError)\n",
       "        .then(() => displayChart(vegaEmbed));\n",
       "    }\n",
       "  })({\"config\": {\"view\": {\"continuousWidth\": 400, \"continuousHeight\": 300}}, \"data\": {\"name\": \"data-d22dfff7d6d3b64e92797638b2e9029f\"}, \"mark\": \"bar\", \"encoding\": {\"x\": {\"type\": \"nominal\", \"field\": \"year\"}, \"y\": {\"type\": \"quantitative\", \"field\": \"count\"}}, \"$schema\": \"https://vega.github.io/schema/vega-lite/v4.8.1.json\", \"datasets\": {\"data-d22dfff7d6d3b64e92797638b2e9029f\": [{\"year\": 1942, \"count\": 302}, {\"year\": 1943, \"count\": 300}, {\"year\": 1941, \"count\": 300}, {\"year\": 1940, \"count\": 298}, {\"year\": 1907, \"count\": 296}, {\"year\": 1944, \"count\": 295}, {\"year\": 1904, \"count\": 295}, {\"year\": 1903, \"count\": 294}, {\"year\": 1909, \"count\": 294}, {\"year\": 1939, \"count\": 294}, {\"year\": 1908, \"count\": 293}, {\"year\": 1912, \"count\": 293}, {\"year\": 1937, \"count\": 293}, {\"year\": 1920, \"count\": 292}, {\"year\": 1905, \"count\": 292}, {\"year\": 1906, \"count\": 292}, {\"year\": 1947, \"count\": 292}, {\"year\": 1911, \"count\": 291}, {\"year\": 1928, \"count\": 291}, {\"year\": 1913, \"count\": 291}, {\"year\": 1938, \"count\": 291}, {\"year\": 1931, \"count\": 291}, {\"year\": 1902, \"count\": 291}, {\"year\": 1933, \"count\": 291}, {\"year\": 1932, \"count\": 290}, {\"year\": 1910, \"count\": 290}, {\"year\": 1945, \"count\": 290}, {\"year\": 1930, \"count\": 290}, {\"year\": 1936, \"count\": 290}, {\"year\": 1915, \"count\": 289}, {\"year\": 1929, \"count\": 289}, {\"year\": 1935, \"count\": 289}, {\"year\": 1926, \"count\": 289}, {\"year\": 1919, \"count\": 288}, {\"year\": 1927, \"count\": 288}, {\"year\": 1924, \"count\": 288}, {\"year\": 1923, \"count\": 287}, {\"year\": 1925, \"count\": 287}, {\"year\": 1922, \"count\": 287}, {\"year\": 1917, \"count\": 287}, {\"year\": 1901, \"count\": 286}, {\"year\": 1921, \"count\": 286}, {\"year\": 1918, \"count\": 286}, {\"year\": 1916, \"count\": 286}, {\"year\": 1934, \"count\": 286}, {\"year\": 1946, \"count\": 263}, {\"year\": 1914, \"count\": 252}, {\"year\": 1948, \"count\": 245}, {\"year\": 1949, \"count\": 243}, {\"year\": 1950, \"count\": 121}]}}, {\"mode\": \"vega-lite\"});\n",
       "</script>"
      ],
      "text/plain": [
       "alt.Chart(...)"
      ]
     },
     "execution_count": 8,
     "metadata": {},
     "output_type": "execute_result"
    }
   ],
   "source": [
    "# Days per year\n",
    "\n",
    "alt.Chart(df_years_dates).mark_bar().encode(\n",
    "    x='year:N',\n",
    "    y='count:Q'\n",
    ")"
   ]
  },
  {
   "cell_type": "code",
   "execution_count": 9,
   "metadata": {},
   "outputs": [],
   "source": [
    "orders = {'M': 1, 'N': 2, 'A': 3, 'U': 4}\n",
    "df_sessions = df.groupby(by='year')['session'].value_counts().to_frame().rename(columns={'session': 'count'}, level=0).reset_index()\n",
    "df_sessions['order'] = df_sessions['session'].apply(lambda x: orders[x])"
   ]
  },
  {
   "cell_type": "code",
   "execution_count": 10,
   "metadata": {},
   "outputs": [
    {
     "data": {
      "text/html": [
       "\n",
       "<div id=\"altair-viz-36270714905248ae8849e596fd28fb18\"></div>\n",
       "<script type=\"text/javascript\">\n",
       "  (function(spec, embedOpt){\n",
       "    let outputDiv = document.currentScript.previousElementSibling;\n",
       "    if (outputDiv.id !== \"altair-viz-36270714905248ae8849e596fd28fb18\") {\n",
       "      outputDiv = document.getElementById(\"altair-viz-36270714905248ae8849e596fd28fb18\");\n",
       "    }\n",
       "    const paths = {\n",
       "      \"vega\": \"https://cdn.jsdelivr.net/npm//vega@5?noext\",\n",
       "      \"vega-lib\": \"https://cdn.jsdelivr.net/npm//vega-lib?noext\",\n",
       "      \"vega-lite\": \"https://cdn.jsdelivr.net/npm//vega-lite@4.8.1?noext\",\n",
       "      \"vega-embed\": \"https://cdn.jsdelivr.net/npm//vega-embed@6?noext\",\n",
       "    };\n",
       "\n",
       "    function loadScript(lib) {\n",
       "      return new Promise(function(resolve, reject) {\n",
       "        var s = document.createElement('script');\n",
       "        s.src = paths[lib];\n",
       "        s.async = true;\n",
       "        s.onload = () => resolve(paths[lib]);\n",
       "        s.onerror = () => reject(`Error loading script: ${paths[lib]}`);\n",
       "        document.getElementsByTagName(\"head\")[0].appendChild(s);\n",
       "      });\n",
       "    }\n",
       "\n",
       "    function showError(err) {\n",
       "      outputDiv.innerHTML = `<div class=\"error\" style=\"color:red;\">${err}</div>`;\n",
       "      throw err;\n",
       "    }\n",
       "\n",
       "    function displayChart(vegaEmbed) {\n",
       "      vegaEmbed(outputDiv, spec, embedOpt)\n",
       "        .catch(err => showError(`Javascript Error: ${err.message}<br>This usually means there's a typo in your chart specification. See the javascript console for the full traceback.`));\n",
       "    }\n",
       "\n",
       "    if(typeof define === \"function\" && define.amd) {\n",
       "      requirejs.config({paths});\n",
       "      require([\"vega-embed\"], displayChart, err => showError(`Error loading script: ${err.message}`));\n",
       "    } else if (typeof vegaEmbed === \"function\") {\n",
       "      displayChart(vegaEmbed);\n",
       "    } else {\n",
       "      loadScript(\"vega\")\n",
       "        .then(() => loadScript(\"vega-lite\"))\n",
       "        .then(() => loadScript(\"vega-embed\"))\n",
       "        .catch(showError)\n",
       "        .then(() => displayChart(vegaEmbed));\n",
       "    }\n",
       "  })({\"config\": {\"view\": {\"continuousWidth\": 400, \"continuousHeight\": 300}}, \"data\": {\"name\": \"data-d59af497e8d7c3fbdd69453efb1a97f8\"}, \"mark\": \"bar\", \"encoding\": {\"color\": {\"type\": \"nominal\", \"field\": \"session\"}, \"order\": {\"type\": \"quantitative\", \"field\": \"order\", \"sort\": \"ascending\"}, \"x\": {\"type\": \"nominal\", \"field\": \"year\"}, \"y\": {\"type\": \"quantitative\", \"field\": \"count\"}}, \"$schema\": \"https://vega.github.io/schema/vega-lite/v4.8.1.json\", \"datasets\": {\"data-d59af497e8d7c3fbdd69453efb1a97f8\": [{\"year\": 1901, \"session\": \"N\", \"count\": 474, \"order\": 2}, {\"year\": 1901, \"session\": \"A\", \"count\": 467, \"order\": 3}, {\"year\": 1901, \"session\": \"M\", \"count\": 331, \"order\": 1}, {\"year\": 1902, \"session\": \"N\", \"count\": 486, \"order\": 2}, {\"year\": 1902, \"session\": \"A\", \"count\": 480, \"order\": 3}, {\"year\": 1902, \"session\": \"M\", \"count\": 339, \"order\": 1}, {\"year\": 1903, \"session\": \"N\", \"count\": 492, \"order\": 2}, {\"year\": 1903, \"session\": \"A\", \"count\": 483, \"order\": 3}, {\"year\": 1903, \"session\": \"M\", \"count\": 339, \"order\": 1}, {\"year\": 1904, \"session\": \"N\", \"count\": 492, \"order\": 2}, {\"year\": 1904, \"session\": \"A\", \"count\": 484, \"order\": 3}, {\"year\": 1904, \"session\": \"M\", \"count\": 344, \"order\": 1}, {\"year\": 1905, \"session\": \"N\", \"count\": 486, \"order\": 2}, {\"year\": 1905, \"session\": \"A\", \"count\": 484, \"order\": 3}, {\"year\": 1905, \"session\": \"M\", \"count\": 341, \"order\": 1}, {\"year\": 1906, \"session\": \"N\", \"count\": 486, \"order\": 2}, {\"year\": 1906, \"session\": \"A\", \"count\": 472, \"order\": 3}, {\"year\": 1906, \"session\": \"M\", \"count\": 340, \"order\": 1}, {\"year\": 1907, \"session\": \"N\", \"count\": 492, \"order\": 2}, {\"year\": 1907, \"session\": \"A\", \"count\": 481, \"order\": 3}, {\"year\": 1907, \"session\": \"M\", \"count\": 345, \"order\": 1}, {\"year\": 1908, \"session\": \"N\", \"count\": 486, \"order\": 2}, {\"year\": 1908, \"session\": \"A\", \"count\": 484, \"order\": 3}, {\"year\": 1908, \"session\": \"M\", \"count\": 340, \"order\": 1}, {\"year\": 1909, \"session\": \"N\", \"count\": 490, \"order\": 2}, {\"year\": 1909, \"session\": \"A\", \"count\": 485, \"order\": 3}, {\"year\": 1909, \"session\": \"M\", \"count\": 343, \"order\": 1}, {\"year\": 1910, \"session\": \"N\", \"count\": 480, \"order\": 2}, {\"year\": 1910, \"session\": \"A\", \"count\": 476, \"order\": 3}, {\"year\": 1910, \"session\": \"M\", \"count\": 339, \"order\": 1}, {\"year\": 1911, \"session\": \"N\", \"count\": 483, \"order\": 2}, {\"year\": 1911, \"session\": \"A\", \"count\": 481, \"order\": 3}, {\"year\": 1911, \"session\": \"M\", \"count\": 339, \"order\": 1}, {\"year\": 1912, \"session\": \"N\", \"count\": 485, \"order\": 2}, {\"year\": 1912, \"session\": \"A\", \"count\": 484, \"order\": 3}, {\"year\": 1912, \"session\": \"M\", \"count\": 343, \"order\": 1}, {\"year\": 1913, \"session\": \"N\", \"count\": 482, \"order\": 2}, {\"year\": 1913, \"session\": \"A\", \"count\": 479, \"order\": 3}, {\"year\": 1913, \"session\": \"M\", \"count\": 336, \"order\": 1}, {\"year\": 1914, \"session\": \"N\", \"count\": 417, \"order\": 2}, {\"year\": 1914, \"session\": \"A\", \"count\": 411, \"order\": 3}, {\"year\": 1914, \"session\": \"M\", \"count\": 294, \"order\": 1}, {\"year\": 1915, \"session\": \"N\", \"count\": 477, \"order\": 2}, {\"year\": 1915, \"session\": \"A\", \"count\": 473, \"order\": 3}, {\"year\": 1915, \"session\": \"M\", \"count\": 337, \"order\": 1}, {\"year\": 1916, \"session\": \"N\", \"count\": 478, \"order\": 2}, {\"year\": 1916, \"session\": \"A\", \"count\": 475, \"order\": 3}, {\"year\": 1916, \"session\": \"M\", \"count\": 330, \"order\": 1}, {\"year\": 1917, \"session\": \"A\", \"count\": 473, \"order\": 3}, {\"year\": 1917, \"session\": \"N\", \"count\": 473, \"order\": 2}, {\"year\": 1917, \"session\": \"M\", \"count\": 334, \"order\": 1}, {\"year\": 1918, \"session\": \"N\", \"count\": 477, \"order\": 2}, {\"year\": 1918, \"session\": \"A\", \"count\": 474, \"order\": 3}, {\"year\": 1918, \"session\": \"M\", \"count\": 331, \"order\": 1}, {\"year\": 1919, \"session\": \"A\", \"count\": 480, \"order\": 3}, {\"year\": 1919, \"session\": \"N\", \"count\": 478, \"order\": 2}, {\"year\": 1919, \"session\": \"M\", \"count\": 331, \"order\": 1}, {\"year\": 1920, \"session\": \"N\", \"count\": 487, \"order\": 2}, {\"year\": 1920, \"session\": \"A\", \"count\": 481, \"order\": 3}, {\"year\": 1920, \"session\": \"M\", \"count\": 340, \"order\": 1}, {\"year\": 1921, \"session\": \"N\", \"count\": 476, \"order\": 2}, {\"year\": 1921, \"session\": \"A\", \"count\": 467, \"order\": 3}, {\"year\": 1921, \"session\": \"M\", \"count\": 333, \"order\": 1}, {\"year\": 1922, \"session\": \"N\", \"count\": 478, \"order\": 2}, {\"year\": 1922, \"session\": \"A\", \"count\": 472, \"order\": 3}, {\"year\": 1922, \"session\": \"M\", \"count\": 335, \"order\": 1}, {\"year\": 1923, \"session\": \"N\", \"count\": 478, \"order\": 2}, {\"year\": 1923, \"session\": \"A\", \"count\": 474, \"order\": 3}, {\"year\": 1923, \"session\": \"M\", \"count\": 331, \"order\": 1}, {\"year\": 1924, \"session\": \"N\", \"count\": 481, \"order\": 2}, {\"year\": 1924, \"session\": \"A\", \"count\": 478, \"order\": 3}, {\"year\": 1924, \"session\": \"M\", \"count\": 335, \"order\": 1}, {\"year\": 1925, \"session\": \"N\", \"count\": 479, \"order\": 2}, {\"year\": 1925, \"session\": \"A\", \"count\": 472, \"order\": 3}, {\"year\": 1925, \"session\": \"M\", \"count\": 334, \"order\": 1}, {\"year\": 1926, \"session\": \"N\", \"count\": 481, \"order\": 2}, {\"year\": 1926, \"session\": \"A\", \"count\": 477, \"order\": 3}, {\"year\": 1926, \"session\": \"M\", \"count\": 335, \"order\": 1}, {\"year\": 1927, \"session\": \"N\", \"count\": 480, \"order\": 2}, {\"year\": 1927, \"session\": \"A\", \"count\": 474, \"order\": 3}, {\"year\": 1927, \"session\": \"M\", \"count\": 336, \"order\": 1}, {\"year\": 1928, \"session\": \"N\", \"count\": 484, \"order\": 2}, {\"year\": 1928, \"session\": \"A\", \"count\": 478, \"order\": 3}, {\"year\": 1928, \"session\": \"M\", \"count\": 337, \"order\": 1}, {\"year\": 1929, \"session\": \"N\", \"count\": 482, \"order\": 2}, {\"year\": 1929, \"session\": \"A\", \"count\": 478, \"order\": 3}, {\"year\": 1929, \"session\": \"M\", \"count\": 336, \"order\": 1}, {\"year\": 1930, \"session\": \"N\", \"count\": 484, \"order\": 2}, {\"year\": 1930, \"session\": \"A\", \"count\": 476, \"order\": 3}, {\"year\": 1930, \"session\": \"M\", \"count\": 337, \"order\": 1}, {\"year\": 1931, \"session\": \"N\", \"count\": 486, \"order\": 2}, {\"year\": 1931, \"session\": \"A\", \"count\": 475, \"order\": 3}, {\"year\": 1931, \"session\": \"M\", \"count\": 338, \"order\": 1}, {\"year\": 1932, \"session\": \"N\", \"count\": 484, \"order\": 2}, {\"year\": 1932, \"session\": \"A\", \"count\": 478, \"order\": 3}, {\"year\": 1932, \"session\": \"M\", \"count\": 337, \"order\": 1}, {\"year\": 1933, \"session\": \"N\", \"count\": 480, \"order\": 2}, {\"year\": 1933, \"session\": \"A\", \"count\": 477, \"order\": 3}, {\"year\": 1933, \"session\": \"M\", \"count\": 339, \"order\": 1}, {\"year\": 1933, \"session\": \"U\", \"count\": 1, \"order\": 4}, {\"year\": 1934, \"session\": \"A\", \"count\": 468, \"order\": 3}, {\"year\": 1934, \"session\": \"M\", \"count\": 463, \"order\": 1}, {\"year\": 1934, \"session\": \"N\", \"count\": 436, \"order\": 2}, {\"year\": 1935, \"session\": \"M\", \"count\": 575, \"order\": 1}, {\"year\": 1935, \"session\": \"N\", \"count\": 477, \"order\": 2}, {\"year\": 1935, \"session\": \"A\", \"count\": 476, \"order\": 3}, {\"year\": 1936, \"session\": \"M\", \"count\": 581, \"order\": 1}, {\"year\": 1936, \"session\": \"N\", \"count\": 483, \"order\": 2}, {\"year\": 1936, \"session\": \"A\", \"count\": 472, \"order\": 3}, {\"year\": 1937, \"session\": \"M\", \"count\": 814, \"order\": 1}, {\"year\": 1937, \"session\": \"N\", \"count\": 674, \"order\": 2}, {\"year\": 1937, \"session\": \"A\", \"count\": 661, \"order\": 3}, {\"year\": 1938, \"session\": \"M\", \"count\": 880, \"order\": 1}, {\"year\": 1938, \"session\": \"N\", \"count\": 725, \"order\": 2}, {\"year\": 1938, \"session\": \"A\", \"count\": 713, \"order\": 3}, {\"year\": 1939, \"session\": \"M\", \"count\": 874, \"order\": 1}, {\"year\": 1939, \"session\": \"N\", \"count\": 735, \"order\": 2}, {\"year\": 1939, \"session\": \"A\", \"count\": 727, \"order\": 3}, {\"year\": 1940, \"session\": \"M\", \"count\": 893, \"order\": 1}, {\"year\": 1940, \"session\": \"N\", \"count\": 744, \"order\": 2}, {\"year\": 1940, \"session\": \"A\", \"count\": 735, \"order\": 3}, {\"year\": 1941, \"session\": \"M\", \"count\": 894, \"order\": 1}, {\"year\": 1941, \"session\": \"N\", \"count\": 753, \"order\": 2}, {\"year\": 1941, \"session\": \"A\", \"count\": 734, \"order\": 3}, {\"year\": 1942, \"session\": \"M\", \"count\": 871, \"order\": 1}, {\"year\": 1942, \"session\": \"A\", \"count\": 729, \"order\": 3}, {\"year\": 1942, \"session\": \"N\", \"count\": 90, \"order\": 2}, {\"year\": 1943, \"session\": \"M\", \"count\": 898, \"order\": 1}, {\"year\": 1943, \"session\": \"A\", \"count\": 746, \"order\": 3}, {\"year\": 1944, \"session\": \"M\", \"count\": 885, \"order\": 1}, {\"year\": 1944, \"session\": \"A\", \"count\": 732, \"order\": 3}, {\"year\": 1945, \"session\": \"M\", \"count\": 870, \"order\": 1}, {\"year\": 1945, \"session\": \"A\", \"count\": 717, \"order\": 3}, {\"year\": 1946, \"session\": \"M\", \"count\": 786, \"order\": 1}, {\"year\": 1946, \"session\": \"A\", \"count\": 648, \"order\": 3}, {\"year\": 1947, \"session\": \"M\", \"count\": 876, \"order\": 1}, {\"year\": 1947, \"session\": \"A\", \"count\": 722, \"order\": 3}, {\"year\": 1948, \"session\": \"M\", \"count\": 843, \"order\": 1}, {\"year\": 1948, \"session\": \"A\", \"count\": 837, \"order\": 3}, {\"year\": 1949, \"session\": \"M\", \"count\": 972, \"order\": 1}, {\"year\": 1949, \"session\": \"A\", \"count\": 964, \"order\": 3}, {\"year\": 1950, \"session\": \"M\", \"count\": 484, \"order\": 1}, {\"year\": 1950, \"session\": \"A\", \"count\": 480, \"order\": 3}]}}, {\"mode\": \"vega-lite\"});\n",
       "</script>"
      ],
      "text/plain": [
       "alt.Chart(...)"
      ]
     },
     "execution_count": 10,
     "metadata": {},
     "output_type": "execute_result"
    }
   ],
   "source": [
    "# Days per year\n",
    "\n",
    "alt.Chart(df_sessions).mark_bar().encode(\n",
    "    x='year:N',\n",
    "    y='count:Q',\n",
    "    color='session:N',\n",
    "    order=alt.Order(\n",
    "      # Sort the segments of the bars by this field\n",
    "      'order',\n",
    "      sort='ascending'\n",
    "    )\n",
    ")"
   ]
  },
  {
   "cell_type": "code",
   "execution_count": null,
   "metadata": {},
   "outputs": [],
   "source": []
  }
 ],
 "metadata": {
  "kernelspec": {
   "display_name": "Python 3",
   "language": "python",
   "name": "python3"
  },
  "language_info": {
   "codemirror_mode": {
    "name": "ipython",
    "version": 3
   },
   "file_extension": ".py",
   "mimetype": "text/x-python",
   "name": "python",
   "nbconvert_exporter": "python",
   "pygments_lexer": "ipython3",
   "version": "3.8.5"
  }
 },
 "nbformat": 4,
 "nbformat_minor": 4
}
