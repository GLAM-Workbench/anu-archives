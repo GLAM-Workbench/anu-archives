{
 "cells": [
  {
   "cell_type": "markdown",
   "id": "e796d3ee",
   "metadata": {},
   "source": [
    "# ANU Archives\n",
    "\n",
    "Current version: [v1.1.0](https://github.com/GLAM-Workbench/anu-archives/releases/tag/v1.1.0)\n",
    "\n",
    "This repository contains Jupyter notebooks that help you work with data from the ANU Archives. The notebooks currently focus on the [Sydney Stock exchange stock and share lists](http://archivescollection.anu.edu.au/index.php/or59j). As the content note indicates:\n",
    "\n",
    "> These are large format bound volumes of the official lists that were posted up for the public to see - 3 times a day - forenoon, noon and afternoon - at the close of the trading session in the call room at the Sydney Stock Exchange. The closing prices of stocks and shares were entered in by hand on pre-printed sheets.\n",
    "\n",
    "There are 199 volumes covering the period from 1901 to 1950, containing more than 70,000 pages. Each page is divided into columns. The number of columns varies across the collection. Each column is divided into rows labelled with printed company or stock names. The prices are written alongside the company names.\n",
    "\n",
    "We're currently working on ways of extracting company and share names, as well as the handwritten prices, from the digitised images. For more information see [this repository](https://github.com/wragge/sydney-stock-exchange). The notebooks below provide ways of navigating, visualising, and using the digitised pages.\n",
    "\n",
    "See the [GLAM Workbench for more details](https://glam-workbench.github.io/anu-archives/).\n",
    "\n",
    "## Notebooks\n",
    "\n",
    "* [Summary information about volumes](stock-exchange-details-by-volume.ipynb) – collates links and metadata relating to the 199 bound volumes in the Sydney Stock Exchange collection.\n",
    "* [Calendar view of the complete collection](stock-exchange-pages-calendar.ipynb) – helps you see the number of stock and share sheets in the bound volumes from the Sydney Stock Exchange for each day from 1901 to 1950.\n",
    "* [Display information about a single day's trading](view-pages-by-date.ipynb) – select a date and this notebook will display information about any sheets that are available from this day. It notes where pages seem to be missing, and loads images of the pages for examination.\n",
    "* [Display details of pages within a date range](view-pages-by-date-range.ipynb) – select a date range and this notebook will display information about available sheets from all the days within the range.\n",
    "* [Visualise page data](pages_viz.ipynb) – explores the aggregated page metadata from all 199 volumes.\n",
    "* [Visualise activity](visualise_activity.ipynb) – visualises the amount of activity each day of trading by looking at the proportion of stocks that have prices recorded against them."
   ]
  },
  {
   "cell_type": "markdown",
   "id": "c32ddcfd",
   "metadata": {},
   "source": [
    "## Data files\n",
    "\n",
    "* [CSV-formatted list of all 70,000+ pages](https://github.com/GLAM-Workbench/anu-archives/blob/master/complete_page_list.csv) in the bound volumes including their date and session (Morning, Noon, Afternoon). Duplicate images are excluded.\n",
    "* [CSV-formatted list of all dates](https://github.com/GLAM-Workbench/anu-archives/blob/master/complete_date_list.csv) within the period of the volumes. Includes the number of pages available for each date, and the number of pages expected (the number of pages produced each day changes across the collection). On dates with no pages, the `reason` field is used to record details of holidays or other interruptions to trading (some with links to Trove).\n",
    "* [CSV-formatted list of holidays](https://github.com/GLAM-Workbench/anu-archives/blob/master/nsw_holidays_1900_1950.csv) in NSW from 1901 to 1950.\n",
    "* Full data about missing, misplaced, and duplicated pages is saved in [`page_data_master.py`](https://github.com/GLAM-Workbench/anu-archives/blob/master/page_data_master.py). This data is combined with the holiday data to generate the complete page and date lists above.\n",
    "* Print and handwritten data extracted from the images using Amazon Textract have been saved in a [series of CSV files available from Cloudstor](https://cloudstor.aarnet.edu.au/plus/s/RwRrCpisBac7N38). There's one file per year, and each row in the CSV represents a single column row. This data is in the process of being checked and cleaned, and is likely to change. The easiest way to explore this data is through the [Datasette interface](https://sydney-stock-exchange-xqtkxtd5za-ts.a.run.app) which provides fulltext and structured searching."
   ]
  },
  {
   "cell_type": "markdown",
   "id": "5b75bb9e",
   "metadata": {},
   "source": [
    "## Cite as\n",
    "\n",
    "See the GLAM Workbench or [Zenodo](https://doi.org/10.5281/zenodo.4660982) for up-to-date citation details.\n",
    "\n",
    "[![DOI](https://zenodo.org/badge/DOI/10.5281/zenodo.4660982.svg)](https://doi.org/10.5281/zenodo.4660982)\n",
    "\n",
    "----\n",
    "\n",
    "This repository is part of the [GLAM Workbench](https://glam-workbench.github.io/).  \n",
    "\n",
    "If you think this project is worthwhile, you might like [to support me on GitHub](https://github.com/sponsors/wragge)."
   ]
  }
 ],
 "metadata": {
  "jupytext": {
   "cell_metadata_filter": "-all"
  },
  "kernelspec": {
   "display_name": "Python 3 (ipykernel)",
   "language": "python",
   "name": "python3"
  }
 },
 "nbformat": 4,
 "nbformat_minor": 5
}
