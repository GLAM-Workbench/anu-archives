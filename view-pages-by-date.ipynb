{
 "cells": [
  {
   "cell_type": "markdown",
   "metadata": {},
   "source": [
    "# View trading on a particular day\n",
    "\n",
    "Select a date to view details of that day's trading (if any)."
   ]
  },
  {
   "cell_type": "code",
   "execution_count": 149,
   "metadata": {},
   "outputs": [],
   "source": [
    "import pandas as pd\n",
    "import ipywidgets as widgets\n",
    "import arrow\n",
    "import datetime\n",
    "from pathlib import Path\n",
    "from IPython.display import display, HTML, Image\n",
    "from urllib.parse import quote_plus\n",
    "import json\n",
    "from collections import Counter\n",
    "\n",
    "\n",
    "SESSIONS = {\n",
    "    'M': 'Morning',\n",
    "    'N': 'Noon',\n",
    "    'A': 'Afternoon',\n",
    "    'U': 'Unknown'\n",
    "}\n",
    "\n",
    "CLOUDSTOR_URL = 'https://cloudstor.aarnet.edu.au/plus/s/i02k4gxeEpMAUkm'"
   ]
  },
  {
   "cell_type": "code",
   "execution_count": 145,
   "metadata": {},
   "outputs": [],
   "source": [
    "pages_per_day = json.loads(Path('pages_per_day.json').read_text())\n",
    "\n",
    "def get_pages(vol_num, page_num):\n",
    "    for key, pages in pages_per_day.items():\n",
    "        vols = key.split('_')\n",
    "        vols = [int(y) for y in vols]\n",
    "        if len(vols) == 2:\n",
    "            vols = list(range(vols[0], vols[1] + 1))\n",
    "        if vol_num in vols:\n",
    "            for p_key, p_pages in pages.items():\n",
    "                p_range = p_key.split('_')\n",
    "                if p_range[1] == '*':\n",
    "                    if page_num >= int(p_range[0]):\n",
    "                        return p_pages\n",
    "                else:\n",
    "                    if page_num >= int(p_range[0]) and page_num <= int(p_range[1]):\n",
    "                        return p_pages"
   ]
  },
  {
   "cell_type": "code",
   "execution_count": 146,
   "metadata": {},
   "outputs": [],
   "source": [
    "df_dates = pd.read_csv('complete_date_list.csv', parse_dates=['date'])\n",
    "df_pages = pd.read_csv('complete_page_list.csv', parse_dates=['date'])\n",
    "df = pd.merge(df_dates, df_pages, how='left', on='date').sort_values(by=['date', 'page_num'])"
   ]
  },
  {
   "cell_type": "code",
   "execution_count": 189,
   "metadata": {},
   "outputs": [],
   "source": [
    "def highlight_missing(row):\n",
    "    if row['pages expected'] == row['pages found']:\n",
    "        return ['', '']\n",
    "    else:\n",
    "        return ['','background-color: yellow']\n",
    "\n",
    "def find_pages(b):\n",
    "    results.clear_output()\n",
    "    images = []\n",
    "    date = arrow.get(date_picker.value)\n",
    "    with results:\n",
    "        display(HTML(f'<h2>{date.format(\"D MMMM YYYY\")}</h2>'))\n",
    "        rows = df.loc[df['date'] == pd.Timestamp(date_picker.value)]\n",
    "        first_page = rows.iloc[0]['page_num']\n",
    "        vol_num = rows.iloc[0]['vol_num']\n",
    "        num_pages = rows.iloc[0]['pages']\n",
    "        if date.weekday() < 6 and pd.notnull(vol_num):\n",
    "            \n",
    "            # Get the expected number of pages\n",
    "            expected = get_pages(int(vol_num), int(first_page))\n",
    "            if date.weekday() < 5:\n",
    "                expected_pages = expected['weekday']\n",
    "            elif date.weekday() == 5:\n",
    "                expected_pages = expected['saturday']\n",
    "            expected_num_pages = expected_pages[0]\n",
    "            display(HTML(f'<p><b>Number of pages</b>: {expected_num_pages} expected / {int(num_pages)} found</p>'))\n",
    "            \n",
    "            # Display a breakdown of the number of pages per session\n",
    "            expected_sessions = dict(Counter(expected_pages[1]))\n",
    "            actual_sessions = rows['session'].value_counts().to_dict()\n",
    "            sessions = []\n",
    "            for session, number in expected_sessions.items():\n",
    "                try:\n",
    "                    sessions.append({'session': SESSIONS[session], 'pages expected': number, 'pages found': actual_sessions[session]})\n",
    "                except KeyError:\n",
    "                    sessions.append({'session': SESSIONS[session], 'pages expected': number, 'pages found': 0})\n",
    "            display(pd.DataFrame(sessions).set_index(keys='session').style.apply(highlight_missing, axis=1))\n",
    "        \n",
    "        # Show page images\n",
    "        for row in rows.itertuples():\n",
    "            if pd.isnull(row.vol_title):\n",
    "                print(row.reason)\n",
    "            else:\n",
    "                image_url = f'{CLOUDSTOR_URL}/download?path={quote_plus(row.vol_title)}&files=N193-{int(row.vol_num):03}_{int(row.page_num):04}.jpg'\n",
    "                display(HTML(f'<h4>{SESSIONS[row.session]}</h4><p>{row.vol_title}, page {int(row.page_num)} – <a href=\"{image_url}\">Download image</a></p>'))\n",
    "                display(Image(url=image_url))\n",
    "                "
   ]
  },
  {
   "cell_type": "code",
   "execution_count": 190,
   "metadata": {},
   "outputs": [
    {
     "data": {
      "application/vnd.jupyter.widget-view+json": {
       "model_id": "001aeeb03ed84e4aac8f3a885d69e16e",
       "version_major": 2,
       "version_minor": 0
      },
      "text/plain": [
       "DatePicker(value=datetime.date(1901, 1, 1), description='Pick a Date')"
      ]
     },
     "metadata": {},
     "output_type": "display_data"
    },
    {
     "data": {
      "application/vnd.jupyter.widget-view+json": {
       "model_id": "c690a722b5854f4d9df81a74a048c4d3",
       "version_major": 2,
       "version_minor": 0
      },
      "text/plain": [
       "Button(button_style='primary', description='Find pages', icon='search', style=ButtonStyle(), tooltip='Click me…"
      ]
     },
     "metadata": {},
     "output_type": "display_data"
    },
    {
     "data": {
      "application/vnd.jupyter.widget-view+json": {
       "model_id": "483f52121bde497e9bd8c02868002590",
       "version_major": 2,
       "version_minor": 0
      },
      "text/plain": [
       "Output()"
      ]
     },
     "metadata": {},
     "output_type": "display_data"
    }
   ],
   "source": [
    "date_picker = widgets.DatePicker(\n",
    "    description='Pick a Date',\n",
    "    disabled=False,\n",
    "    value=datetime.date(1901, 1, 1)\n",
    ")\n",
    "\n",
    "find = widgets.Button(\n",
    "    description='Find pages',\n",
    "    disabled=False,\n",
    "    button_style='primary', # 'success', 'info', 'warning', 'danger' or ''\n",
    "    tooltip='Click me',\n",
    "    icon='search'\n",
    ")\n",
    "\n",
    "find.on_click(find_pages)\n",
    "results = widgets.Output()\n",
    "#display(widgets.VBox([widgets.HBox([date_picker, find]), results]))\n",
    "display(date_picker)\n",
    "display(find)\n",
    "display(results)"
   ]
  },
  {
   "cell_type": "code",
   "execution_count": null,
   "metadata": {},
   "outputs": [],
   "source": []
  },
  {
   "cell_type": "code",
   "execution_count": null,
   "metadata": {},
   "outputs": [],
   "source": []
  }
 ],
 "metadata": {
  "kernelspec": {
   "display_name": "Python 3",
   "language": "python",
   "name": "python3"
  },
  "language_info": {
   "codemirror_mode": {
    "name": "ipython",
    "version": 3
   },
   "file_extension": ".py",
   "mimetype": "text/x-python",
   "name": "python",
   "nbconvert_exporter": "python",
   "pygments_lexer": "ipython3",
   "version": "3.8.5"
  }
 },
 "nbformat": 4,
 "nbformat_minor": 4
}
