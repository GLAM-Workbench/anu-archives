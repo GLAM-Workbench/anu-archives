{
 "cells": [
  {
   "cell_type": "markdown",
   "metadata": {},
   "source": [
    "# Sydney Stock Exchange – details by volume"
   ]
  },
  {
   "cell_type": "code",
   "execution_count": 1,
   "metadata": {},
   "outputs": [],
   "source": [
    "import re\n",
    "from pathlib import Path\n",
    "\n",
    "import arrow\n",
    "import pandas as pd\n",
    "import requests\n",
    "from bs4 import BeautifulSoup\n",
    "from IPython.display import HTML, display"
   ]
  },
  {
   "cell_type": "code",
   "execution_count": 2,
   "metadata": {},
   "outputs": [],
   "source": [
    "ead_url = \"https://archivescollection.anu.edu.au/index.php/or59j;ead?sf_format=xml\"\n",
    "cloudstor_url = \"https://cloudstor.aarnet.edu.au/plus/s/i02k4gxeEpMAUkm\""
   ]
  },
  {
   "cell_type": "code",
   "execution_count": 3,
   "metadata": {},
   "outputs": [],
   "source": [
    "# Get the list of dates\n",
    "df_dates = pd.read_csv(\"complete_date_list.csv\", parse_dates=[\"date\"])\n",
    "# Get the list of pages\n",
    "df_pages = pd.read_csv(\"complete_page_list.csv\", parse_dates=[\"date\"])\n",
    "# Get the list of volumes\n",
    "df_vols = pd.read_csv(\"series_list.csv\")\n",
    "# Extract volume number\n",
    "df_vols[\"vol_num\"] = df_vols[\"Item_number\"].str.extract(r\"-(\\d+)$\").astype(\"int\")"
   ]
  },
  {
   "cell_type": "code",
   "execution_count": 4,
   "metadata": {},
   "outputs": [],
   "source": [
    "# Get the list of volumes from ATOM in XML\n",
    "response = requests.get(ead_url)\n",
    "soup = BeautifulSoup(response.text)"
   ]
  },
  {
   "cell_type": "code",
   "execution_count": 5,
   "metadata": {},
   "outputs": [
    {
     "data": {
      "text/html": [
       "<h3>Volume 1: 7 January 1901 – 30 March 1901</h3>"
      ],
      "text/plain": [
       "<IPython.core.display.HTML object>"
      ]
     },
     "metadata": {},
     "output_type": "display_data"
    },
    {
     "data": {
      "text/html": [
       "<p>Estimated 303 of 317 pages (95.58% complete)</p>"
      ],
      "text/plain": [
       "<IPython.core.display.HTML object>"
      ]
     },
     "metadata": {},
     "output_type": "display_data"
    },
    {
     "data": {
      "text/html": [
       "<ul><li><a href=\"https://archivescollection.anu.edu.au/index.php/sydney-stock-exchange-stock-and-share-lists-2\">View description in archive</a></li><li><a href=\"https://openresearch-repository.anu.edu.au/handle/1885/146702\">View item in respository</a></li><li><a href=\"https://openresearch-repository.anu.edu.au/bitstream/1885/146702/2/AU%20NBAC%20N193-001.pdf\">View PDF</a></li><li><a href=\"https://cloudstor.aarnet.edu.au/plus/s/i02k4gxeEpMAUkm/download?path=AU%20NBAC%20N193-001\">Download images from Cloudstor</a></li><li><a href=\"volumes/vol-1-pages.csv\" download=\"volumes/vol-1-pages.csv\">Download page list as CSV</a></li></ul>"
      ],
      "text/plain": [
       "<IPython.core.display.HTML object>"
      ]
     },
     "metadata": {},
     "output_type": "display_data"
    },
    {
     "data": {
      "text/html": [
       "<h3>Volume 2: 1 April 1901 – 29 June 1901</h3>"
      ],
      "text/plain": [
       "<IPython.core.display.HTML object>"
      ]
     },
     "metadata": {},
     "output_type": "display_data"
    },
    {
     "data": {
      "text/html": [
       "<p>Estimated 312 of 314 pages (99.36% complete)</p>"
      ],
      "text/plain": [
       "<IPython.core.display.HTML object>"
      ]
     },
     "metadata": {},
     "output_type": "display_data"
    },
    {
     "data": {
      "text/html": [
       "<ul><li><a href=\"https://archivescollection.anu.edu.au/index.php/sydney-stock-exchange-stock-and-share-lists-3\">View description in archive</a></li><li><a href=\"https://openresearch-repository.anu.edu.au/handle/1885/146704\">View item in respository</a></li><li><a href=\"https://openresearch-repository.anu.edu.au/bitstream/1885/146704/2/AU%20NBAC%20N193-002.pdf\">View PDF</a></li><li><a href=\"https://cloudstor.aarnet.edu.au/plus/s/i02k4gxeEpMAUkm/download?path=AU%20NBAC%20N193-002\">Download images from Cloudstor</a></li><li><a href=\"volumes/vol-2-pages.csv\" download=\"volumes/vol-2-pages.csv\">Download page list as CSV</a></li></ul>"
      ],
      "text/plain": [
       "<IPython.core.display.HTML object>"
      ]
     },
     "metadata": {},
     "output_type": "display_data"
    },
    {
     "data": {
      "text/html": [
       "<h3>Volume 3: 1 July 1901 – 30 September 1901</h3>"
      ],
      "text/plain": [
       "<IPython.core.display.HTML object>"
      ]
     },
     "metadata": {},
     "output_type": "display_data"
    },
    {
     "data": {
      "text/html": [
       "<p>Estimated 345 of 346 pages (99.71% complete)</p>"
      ],
      "text/plain": [
       "<IPython.core.display.HTML object>"
      ]
     },
     "metadata": {},
     "output_type": "display_data"
    },
    {
     "data": {
      "text/html": [
       "<ul><li><a href=\"https://archivescollection.anu.edu.au/index.php/sydney-stock-exchange-stock-and-share-lists-4\">View description in archive</a></li><li><a href=\"https://openresearch-repository.anu.edu.au/handle/1885/146705\">View item in respository</a></li><li><a href=\"https://openresearch-repository.anu.edu.au/bitstream/1885/146705/2/AU%20NBAC%20N193-003.pdf\">View PDF</a></li><li><a href=\"https://cloudstor.aarnet.edu.au/plus/s/i02k4gxeEpMAUkm/download?path=AU%20NBAC%20N193-003\">Download images from Cloudstor</a></li><li><a href=\"volumes/vol-3-pages.csv\" download=\"volumes/vol-3-pages.csv\">Download page list as CSV</a></li></ul>"
      ],
      "text/plain": [
       "<IPython.core.display.HTML object>"
      ]
     },
     "metadata": {},
     "output_type": "display_data"
    },
    {
     "data": {
      "text/html": [
       "<h3>Volume 4: 1 October 1901 – 24 December 1901</h3>"
      ],
      "text/plain": [
       "<IPython.core.display.HTML object>"
      ]
     },
     "metadata": {},
     "output_type": "display_data"
    },
    {
     "data": {
      "text/html": [
       "<p>Estimated 312 of 319 pages (97.81% complete)</p>"
      ],
      "text/plain": [
       "<IPython.core.display.HTML object>"
      ]
     },
     "metadata": {},
     "output_type": "display_data"
    },
    {
     "data": {
      "text/html": [
       "<ul><li><a href=\"https://archivescollection.anu.edu.au/index.php/sydney-stock-exchange-stock-and-share-lists-5\">View description in archive</a></li><li><a href=\"https://openresearch-repository.anu.edu.au/handle/1885/146706\">View item in respository</a></li><li><a href=\"https://openresearch-repository.anu.edu.au/bitstream/1885/146706/2/AU%20NBAC%20N193-004.pdf\">View PDF</a></li><li><a href=\"https://cloudstor.aarnet.edu.au/plus/s/i02k4gxeEpMAUkm/download?path=AU%20NBAC%20N193-004\">Download images from Cloudstor</a></li><li><a href=\"volumes/vol-4-pages.csv\" download=\"volumes/vol-4-pages.csv\">Download page list as CSV</a></li></ul>"
      ],
      "text/plain": [
       "<IPython.core.display.HTML object>"
      ]
     },
     "metadata": {},
     "output_type": "display_data"
    },
    {
     "data": {
      "text/html": [
       "<h3>Volume 5: 6 January 1902 – 27 March 1902</h3>"
      ],
      "text/plain": [
       "<IPython.core.display.HTML object>"
      ]
     },
     "metadata": {},
     "output_type": "display_data"
    },
    {
     "data": {
      "text/html": [
       "<p>Estimated 305 of 312 pages (97.76% complete)</p>"
      ],
      "text/plain": [
       "<IPython.core.display.HTML object>"
      ]
     },
     "metadata": {},
     "output_type": "display_data"
    },
    {
     "data": {
      "text/html": [
       "<ul><li><a href=\"https://archivescollection.anu.edu.au/index.php/sydney-stock-exchange-stock-and-share-lists-6\">View description in archive</a></li><li><a href=\"https://openresearch-repository.anu.edu.au/handle/1885/146707\">View item in respository</a></li><li><a href=\"https://openresearch-repository.anu.edu.au/bitstream/1885/146707/2/AU%20NBAC%20N193-005.pdf\">View PDF</a></li><li><a href=\"https://cloudstor.aarnet.edu.au/plus/s/i02k4gxeEpMAUkm/download?path=AU%20NBAC%20N193-005\">Download images from Cloudstor</a></li><li><a href=\"volumes/vol-5-pages.csv\" download=\"volumes/vol-5-pages.csv\">Download page list as CSV</a></li></ul>"
      ],
      "text/plain": [
       "<IPython.core.display.HTML object>"
      ]
     },
     "metadata": {},
     "output_type": "display_data"
    },
    {
     "data": {
      "text/html": [
       "<h3>Volume 6: 2 April 1902 – 30 June 1902</h3>"
      ],
      "text/plain": [
       "<IPython.core.display.HTML object>"
      ]
     },
     "metadata": {},
     "output_type": "display_data"
    },
    {
     "data": {
      "text/html": [
       "<p>Estimated 334 of 341 pages (97.95% complete)</p>"
      ],
      "text/plain": [
       "<IPython.core.display.HTML object>"
      ]
     },
     "metadata": {},
     "output_type": "display_data"
    },
    {
     "data": {
      "text/html": [
       "<ul><li><a href=\"https://archivescollection.anu.edu.au/index.php/sydney-stock-exchange-stock-and-share-lists-7\">View description in archive</a></li><li><a href=\"https://openresearch-repository.anu.edu.au/handle/1885/146775\">View item in respository</a></li><li><a href=\"https://openresearch-repository.anu.edu.au/bitstream/1885/146775/2/AU%20NBAC%20N193-006.pdf\">View PDF</a></li><li><a href=\"https://cloudstor.aarnet.edu.au/plus/s/i02k4gxeEpMAUkm/download?path=AU%20NBAC%20N193-006\">Download images from Cloudstor</a></li><li><a href=\"volumes/vol-6-pages.csv\" download=\"volumes/vol-6-pages.csv\">Download page list as CSV</a></li></ul>"
      ],
      "text/plain": [
       "<IPython.core.display.HTML object>"
      ]
     },
     "metadata": {},
     "output_type": "display_data"
    },
    {
     "data": {
      "text/html": [
       "<h3>Volume 7: 1 July 1902 – 30 September 1902</h3>"
      ],
      "text/plain": [
       "<IPython.core.display.HTML object>"
      ]
     },
     "metadata": {},
     "output_type": "display_data"
    },
    {
     "data": {
      "text/html": [
       "<p>Estimated 349 of 351 pages (99.43% complete)</p>"
      ],
      "text/plain": [
       "<IPython.core.display.HTML object>"
      ]
     },
     "metadata": {},
     "output_type": "display_data"
    },
    {
     "data": {
      "text/html": [
       "<ul><li><a href=\"https://archivescollection.anu.edu.au/index.php/sydney-stock-exchange-stock-and-share-lists-8\">View description in archive</a></li><li><a href=\"https://openresearch-repository.anu.edu.au/handle/1885/146776\">View item in respository</a></li><li><a href=\"https://openresearch-repository.anu.edu.au/bitstream/1885/146776/2/AU%20NBAC%20N193-007.pdf\">View PDF</a></li><li><a href=\"https://cloudstor.aarnet.edu.au/plus/s/i02k4gxeEpMAUkm/download?path=AU%20NBAC%20N193-007\">Download images from Cloudstor</a></li><li><a href=\"volumes/vol-7-pages.csv\" download=\"volumes/vol-7-pages.csv\">Download page list as CSV</a></li></ul>"
      ],
      "text/plain": [
       "<IPython.core.display.HTML object>"
      ]
     },
     "metadata": {},
     "output_type": "display_data"
    },
    {
     "data": {
      "text/html": [
       "<h3>Volume 8: 1 October 1902 – 24 December 1902</h3>"
      ],
      "text/plain": [
       "<IPython.core.display.HTML object>"
      ]
     },
     "metadata": {},
     "output_type": "display_data"
    },
    {
     "data": {
      "text/html": [
       "<p>Estimated 317 of 319 pages (99.37% complete)</p>"
      ],
      "text/plain": [
       "<IPython.core.display.HTML object>"
      ]
     },
     "metadata": {},
     "output_type": "display_data"
    },
    {
     "data": {
      "text/html": [
       "<ul><li><a href=\"https://archivescollection.anu.edu.au/index.php/sydney-stock-exchange-stock-and-share-lists-9\">View description in archive</a></li><li><a href=\"https://openresearch-repository.anu.edu.au/handle/1885/146777\">View item in respository</a></li><li><a href=\"https://openresearch-repository.anu.edu.au/bitstream/1885/146777/2/AU%20NBAC%20N193-008.pdf\">View PDF</a></li><li><a href=\"https://cloudstor.aarnet.edu.au/plus/s/i02k4gxeEpMAUkm/download?path=AU%20NBAC%20N193-008\">Download images from Cloudstor</a></li><li><a href=\"volumes/vol-8-pages.csv\" download=\"volumes/vol-8-pages.csv\">Download page list as CSV</a></li></ul>"
      ],
      "text/plain": [
       "<IPython.core.display.HTML object>"
      ]
     },
     "metadata": {},
     "output_type": "display_data"
    },
    {
     "data": {
      "text/html": [
       "<h3>Volume 9: 5 January 1903 – 31 March 1903</h3>"
      ],
      "text/plain": [
       "<IPython.core.display.HTML object>"
      ]
     },
     "metadata": {},
     "output_type": "display_data"
    },
    {
     "data": {
      "text/html": [
       "<p>Estimated 327 of 329 pages (99.39% complete)</p>"
      ],
      "text/plain": [
       "<IPython.core.display.HTML object>"
      ]
     },
     "metadata": {},
     "output_type": "display_data"
    },
    {
     "data": {
      "text/html": [
       "<ul><li><a href=\"https://archivescollection.anu.edu.au/index.php/sydney-stock-exchange-stock-and-share-lists-10\">View description in archive</a></li><li><a href=\"https://openresearch-repository.anu.edu.au/handle/1885/146778\">View item in respository</a></li><li><a href=\"https://openresearch-repository.anu.edu.au/bitstream/1885/146778/2/AU%20NBAC%20N193-009.pdf\">View PDF</a></li><li><a href=\"https://cloudstor.aarnet.edu.au/plus/s/i02k4gxeEpMAUkm/download?path=AU%20NBAC%20N193-009\">Download images from Cloudstor</a></li><li><a href=\"volumes/vol-9-pages.csv\" download=\"volumes/vol-9-pages.csv\">Download page list as CSV</a></li></ul>"
      ],
      "text/plain": [
       "<IPython.core.display.HTML object>"
      ]
     },
     "metadata": {},
     "output_type": "display_data"
    },
    {
     "data": {
      "text/html": [
       "<h3>Volume 10: 1 April 1903 – 30 June 1903</h3>"
      ],
      "text/plain": [
       "<IPython.core.display.HTML object>"
      ]
     },
     "metadata": {},
     "output_type": "display_data"
    },
    {
     "data": {
      "text/html": [
       "<p>Estimated 327 of 329 pages (99.39% complete)</p>"
      ],
      "text/plain": [
       "<IPython.core.display.HTML object>"
      ]
     },
     "metadata": {},
     "output_type": "display_data"
    },
    {
     "data": {
      "text/html": [
       "<ul><li><a href=\"https://archivescollection.anu.edu.au/index.php/sydney-stock-exchange-stock-and-share-lists-11\">View description in archive</a></li><li><a href=\"https://openresearch-repository.anu.edu.au/handle/1885/146779\">View item in respository</a></li><li><a href=\"https://openresearch-repository.anu.edu.au/bitstream/1885/146779/2/AU%20NBAC%20N193-010.pdf\">View PDF</a></li><li><a href=\"https://cloudstor.aarnet.edu.au/plus/s/i02k4gxeEpMAUkm/download?path=AU%20NBAC%20N193-010\">Download images from Cloudstor</a></li><li><a href=\"volumes/vol-10-pages.csv\" download=\"volumes/vol-10-pages.csv\">Download page list as CSV</a></li></ul>"
      ],
      "text/plain": [
       "<IPython.core.display.HTML object>"
      ]
     },
     "metadata": {},
     "output_type": "display_data"
    },
    {
     "data": {
      "text/html": [
       "<h3>Volume 11: 1 July 1903 – 30 September 1903</h3>"
      ],
      "text/plain": [
       "<IPython.core.display.HTML object>"
      ]
     },
     "metadata": {},
     "output_type": "display_data"
    },
    {
     "data": {
      "text/html": [
       "<p>Estimated 350 of 351 pages (99.72% complete)</p>"
      ],
      "text/plain": [
       "<IPython.core.display.HTML object>"
      ]
     },
     "metadata": {},
     "output_type": "display_data"
    },
    {
     "data": {
      "text/html": [
       "<ul><li><a href=\"https://archivescollection.anu.edu.au/index.php/sydney-stock-exchange-stock-and-share-lists-12\">View description in archive</a></li><li><a href=\"https://openresearch-repository.anu.edu.au/handle/1885/146780\">View item in respository</a></li><li><a href=\"https://openresearch-repository.anu.edu.au/bitstream/1885/146780/2/AU%20NBAC%20N193-011.pdf\">View PDF</a></li><li><a href=\"https://cloudstor.aarnet.edu.au/plus/s/i02k4gxeEpMAUkm/download?path=AU%20NBAC%20N193-011\">Download images from Cloudstor</a></li><li><a href=\"volumes/vol-11-pages.csv\" download=\"volumes/vol-11-pages.csv\">Download page list as CSV</a></li></ul>"
      ],
      "text/plain": [
       "<IPython.core.display.HTML object>"
      ]
     },
     "metadata": {},
     "output_type": "display_data"
    },
    {
     "data": {
      "text/html": [
       "<h3>Volume 12: 1 October 1903 – 24 December 1903</h3>"
      ],
      "text/plain": [
       "<IPython.core.display.HTML object>"
      ]
     },
     "metadata": {},
     "output_type": "display_data"
    },
    {
     "data": {
      "text/html": [
       "<p>Estimated 310 of 319 pages (97.18% complete)</p>"
      ],
      "text/plain": [
       "<IPython.core.display.HTML object>"
      ]
     },
     "metadata": {},
     "output_type": "display_data"
    },
    {
     "data": {
      "text/html": [
       "<ul><li><a href=\"https://archivescollection.anu.edu.au/index.php/sydney-stock-exchange-stock-and-share-lists-13\">View description in archive</a></li><li><a href=\"https://openresearch-repository.anu.edu.au/handle/1885/146781\">View item in respository</a></li><li><a href=\"https://openresearch-repository.anu.edu.au/bitstream/1885/146781/2/AU%20NBAC%20N193-012.pdf\">View PDF</a></li><li><a href=\"https://cloudstor.aarnet.edu.au/plus/s/i02k4gxeEpMAUkm/download?path=AU%20NBAC%20N193-012\">Download images from Cloudstor</a></li><li><a href=\"volumes/vol-12-pages.csv\" download=\"volumes/vol-12-pages.csv\">Download page list as CSV</a></li></ul>"
      ],
      "text/plain": [
       "<IPython.core.display.HTML object>"
      ]
     },
     "metadata": {},
     "output_type": "display_data"
    },
    {
     "data": {
      "text/html": [
       "<h3>Volume 13: 5 January 1904 – 31 March 1904</h3>"
      ],
      "text/plain": [
       "<IPython.core.display.HTML object>"
      ]
     },
     "metadata": {},
     "output_type": "display_data"
    },
    {
     "data": {
      "text/html": [
       "<p>Estimated 330 of 334 pages (98.80% complete)</p>"
      ],
      "text/plain": [
       "<IPython.core.display.HTML object>"
      ]
     },
     "metadata": {},
     "output_type": "display_data"
    },
    {
     "data": {
      "text/html": [
       "<ul><li><a href=\"https://archivescollection.anu.edu.au/index.php/sydney-stock-exchange-stock-and-share-lists-14\">View description in archive</a></li><li><a href=\"https://openresearch-repository.anu.edu.au/handle/1885/146782\">View item in respository</a></li><li><a href=\"https://openresearch-repository.anu.edu.au/bitstream/1885/146782/2/AU%20NBAC%20N193-013.pdf\">View PDF</a></li><li><a href=\"https://cloudstor.aarnet.edu.au/plus/s/i02k4gxeEpMAUkm/download?path=AU%20NBAC%20N193-013\">Download images from Cloudstor</a></li><li><a href=\"volumes/vol-13-pages.csv\" download=\"volumes/vol-13-pages.csv\">Download page list as CSV</a></li></ul>"
      ],
      "text/plain": [
       "<IPython.core.display.HTML object>"
      ]
     },
     "metadata": {},
     "output_type": "display_data"
    },
    {
     "data": {
      "text/html": [
       "<h3>Volume 14: 6 April 1904 – 30 June 1904</h3>"
      ],
      "text/plain": [
       "<IPython.core.display.HTML object>"
      ]
     },
     "metadata": {},
     "output_type": "display_data"
    },
    {
     "data": {
      "text/html": [
       "<p>Estimated 329 of 329 pages (100.00% complete)</p>"
      ],
      "text/plain": [
       "<IPython.core.display.HTML object>"
      ]
     },
     "metadata": {},
     "output_type": "display_data"
    },
    {
     "data": {
      "text/html": [
       "<ul><li><a href=\"https://archivescollection.anu.edu.au/index.php/sydney-stock-exchange-stock-and-share-lists-15\">View description in archive</a></li><li><a href=\"https://openresearch-repository.anu.edu.au/handle/1885/146783\">View item in respository</a></li><li><a href=\"https://openresearch-repository.anu.edu.au/bitstream/1885/146783/2/AU%20NBAC%20N193-014.pdf\">View PDF</a></li><li><a href=\"https://cloudstor.aarnet.edu.au/plus/s/i02k4gxeEpMAUkm/download?path=AU%20NBAC%20N193-014\">Download images from Cloudstor</a></li><li><a href=\"volumes/vol-14-pages.csv\" download=\"volumes/vol-14-pages.csv\">Download page list as CSV</a></li></ul>"
      ],
      "text/plain": [
       "<IPython.core.display.HTML object>"
      ]
     },
     "metadata": {},
     "output_type": "display_data"
    },
    {
     "data": {
      "text/html": [
       "<h3>Volume 15: 1 July 1904 – 30 September 1904</h3>"
      ],
      "text/plain": [
       "<IPython.core.display.HTML object>"
      ]
     },
     "metadata": {},
     "output_type": "display_data"
    },
    {
     "data": {
      "text/html": [
       "<p>Estimated 349 of 351 pages (99.43% complete)</p>"
      ],
      "text/plain": [
       "<IPython.core.display.HTML object>"
      ]
     },
     "metadata": {},
     "output_type": "display_data"
    },
    {
     "data": {
      "text/html": [
       "<ul><li><a href=\"https://archivescollection.anu.edu.au/index.php/sydney-stock-exchange-stock-and-share-lists-16\">View description in archive</a></li><li><a href=\"https://openresearch-repository.anu.edu.au/handle/1885/146784\">View item in respository</a></li><li><a href=\"https://openresearch-repository.anu.edu.au/bitstream/1885/146784/2/AU%20NBAC%20N193-015.pdf\">View PDF</a></li><li><a href=\"https://cloudstor.aarnet.edu.au/plus/s/i02k4gxeEpMAUkm/download?path=AU%20NBAC%20N193-015\">Download images from Cloudstor</a></li><li><a href=\"volumes/vol-15-pages.csv\" download=\"volumes/vol-15-pages.csv\">Download page list as CSV</a></li></ul>"
      ],
      "text/plain": [
       "<IPython.core.display.HTML object>"
      ]
     },
     "metadata": {},
     "output_type": "display_data"
    },
    {
     "data": {
      "text/html": [
       "<h3>Volume 16: 1 October 1904 – 23 December 1904</h3>"
      ],
      "text/plain": [
       "<IPython.core.display.HTML object>"
      ]
     },
     "metadata": {},
     "output_type": "display_data"
    },
    {
     "data": {
      "text/html": [
       "<p>Estimated 312 of 314 pages (99.36% complete)</p>"
      ],
      "text/plain": [
       "<IPython.core.display.HTML object>"
      ]
     },
     "metadata": {},
     "output_type": "display_data"
    },
    {
     "data": {
      "text/html": [
       "<ul><li><a href=\"https://archivescollection.anu.edu.au/index.php/sydney-stock-exchange-stock-and-share-lists-17\">View description in archive</a></li><li><a href=\"https://openresearch-repository.anu.edu.au/handle/1885/146785\">View item in respository</a></li><li><a href=\"https://openresearch-repository.anu.edu.au/bitstream/1885/146785/2/AU%20NBAC%20N193-016.pdf\">View PDF</a></li><li><a href=\"https://cloudstor.aarnet.edu.au/plus/s/i02k4gxeEpMAUkm/download?path=AU%20NBAC%20N193-016\">Download images from Cloudstor</a></li><li><a href=\"volumes/vol-16-pages.csv\" download=\"volumes/vol-16-pages.csv\">Download page list as CSV</a></li></ul>"
      ],
      "text/plain": [
       "<IPython.core.display.HTML object>"
      ]
     },
     "metadata": {},
     "output_type": "display_data"
    },
    {
     "data": {
      "text/html": [
       "<h3>Volume 17: 5 January 1905 – 31 March 1905</h3>"
      ],
      "text/plain": [
       "<IPython.core.display.HTML object>"
      ]
     },
     "metadata": {},
     "output_type": "display_data"
    },
    {
     "data": {
      "text/html": [
       "<p>Estimated 329 of 329 pages (100.00% complete)</p>"
      ],
      "text/plain": [
       "<IPython.core.display.HTML object>"
      ]
     },
     "metadata": {},
     "output_type": "display_data"
    },
    {
     "data": {
      "text/html": [
       "<ul><li><a href=\"https://archivescollection.anu.edu.au/index.php/sydney-stock-exchange-stock-and-share-lists-18\">View description in archive</a></li><li><a href=\"https://openresearch-repository.anu.edu.au/handle/1885/146786\">View item in respository</a></li><li><a href=\"https://openresearch-repository.anu.edu.au/bitstream/1885/146786/2/AU%20NBAC%20N193-017.pdf\">View PDF</a></li><li><a href=\"https://cloudstor.aarnet.edu.au/plus/s/i02k4gxeEpMAUkm/download?path=AU%20NBAC%20N193-017\">Download images from Cloudstor</a></li><li><a href=\"volumes/vol-17-pages.csv\" download=\"volumes/vol-17-pages.csv\">Download page list as CSV</a></li></ul>"
      ],
      "text/plain": [
       "<IPython.core.display.HTML object>"
      ]
     },
     "metadata": {},
     "output_type": "display_data"
    },
    {
     "data": {
      "text/html": [
       "<h3>Volume 18: 1 April 1905 – 30 June 1905</h3>"
      ],
      "text/plain": [
       "<IPython.core.display.HTML object>"
      ]
     },
     "metadata": {},
     "output_type": "display_data"
    },
    {
     "data": {
      "text/html": [
       "<p>Estimated 322 of 324 pages (99.38% complete)</p>"
      ],
      "text/plain": [
       "<IPython.core.display.HTML object>"
      ]
     },
     "metadata": {},
     "output_type": "display_data"
    },
    {
     "data": {
      "text/html": [
       "<ul><li><a href=\"https://archivescollection.anu.edu.au/index.php/sydney-stock-exchange-stock-and-share-lists-19\">View description in archive</a></li><li><a href=\"https://openresearch-repository.anu.edu.au/handle/1885/146787\">View item in respository</a></li><li><a href=\"https://openresearch-repository.anu.edu.au/bitstream/1885/146787/2/AU%20NBAC%20N193-018.pdf\">View PDF</a></li><li><a href=\"https://cloudstor.aarnet.edu.au/plus/s/i02k4gxeEpMAUkm/download?path=AU%20NBAC%20N193-018\">Download images from Cloudstor</a></li><li><a href=\"volumes/vol-18-pages.csv\" download=\"volumes/vol-18-pages.csv\">Download page list as CSV</a></li></ul>"
      ],
      "text/plain": [
       "<IPython.core.display.HTML object>"
      ]
     },
     "metadata": {},
     "output_type": "display_data"
    },
    {
     "data": {
      "text/html": [
       "<h3>Volume 19: 1 July 1905 – 30 September 1905</h3>"
      ],
      "text/plain": [
       "<IPython.core.display.HTML object>"
      ]
     },
     "metadata": {},
     "output_type": "display_data"
    },
    {
     "data": {
      "text/html": [
       "<p>Estimated 348 of 348 pages (100.00% complete)</p>"
      ],
      "text/plain": [
       "<IPython.core.display.HTML object>"
      ]
     },
     "metadata": {},
     "output_type": "display_data"
    },
    {
     "data": {
      "text/html": [
       "<ul><li><a href=\"https://archivescollection.anu.edu.au/index.php/sydney-stock-exchange-stock-and-share-lists-20\">View description in archive</a></li><li><a href=\"https://openresearch-repository.anu.edu.au/handle/1885/146788\">View item in respository</a></li><li><a href=\"https://openresearch-repository.anu.edu.au/bitstream/1885/146788/2/AU%20NBAC%20N193-019.pdf\">View PDF</a></li><li><a href=\"https://cloudstor.aarnet.edu.au/plus/s/i02k4gxeEpMAUkm/download?path=AU%20NBAC%20N193-019\">Download images from Cloudstor</a></li><li><a href=\"volumes/vol-19-pages.csv\" download=\"volumes/vol-19-pages.csv\">Download page list as CSV</a></li></ul>"
      ],
      "text/plain": [
       "<IPython.core.display.HTML object>"
      ]
     },
     "metadata": {},
     "output_type": "display_data"
    },
    {
     "data": {
      "text/html": [
       "<h3>Volume 20: 3 October 1905 – 22 December 1905</h3>"
      ],
      "text/plain": [
       "<IPython.core.display.HTML object>"
      ]
     },
     "metadata": {},
     "output_type": "display_data"
    },
    {
     "data": {
      "text/html": [
       "<p>Estimated 312 of 312 pages (100.00% complete)</p>"
      ],
      "text/plain": [
       "<IPython.core.display.HTML object>"
      ]
     },
     "metadata": {},
     "output_type": "display_data"
    },
    {
     "data": {
      "text/html": [
       "<ul><li><a href=\"https://archivescollection.anu.edu.au/index.php/sydney-stock-exchange-stock-and-share-lists-21\">View description in archive</a></li><li><a href=\"https://openresearch-repository.anu.edu.au/handle/1885/146789\">View item in respository</a></li><li><a href=\"https://openresearch-repository.anu.edu.au/bitstream/1885/146789/2/AU%20NBAC%20N193-020.pdf\">View PDF</a></li><li><a href=\"https://cloudstor.aarnet.edu.au/plus/s/i02k4gxeEpMAUkm/download?path=AU%20NBAC%20N193-020\">Download images from Cloudstor</a></li><li><a href=\"volumes/vol-20-pages.csv\" download=\"volumes/vol-20-pages.csv\">Download page list as CSV</a></li></ul>"
      ],
      "text/plain": [
       "<IPython.core.display.HTML object>"
      ]
     },
     "metadata": {},
     "output_type": "display_data"
    },
    {
     "data": {
      "text/html": [
       "<h3>Volume 21: 4 January 1906 – 31 March 1906</h3>"
      ],
      "text/plain": [
       "<IPython.core.display.HTML object>"
      ]
     },
     "metadata": {},
     "output_type": "display_data"
    },
    {
     "data": {
      "text/html": [
       "<p>Estimated 330 of 331 pages (99.70% complete)</p>"
      ],
      "text/plain": [
       "<IPython.core.display.HTML object>"
      ]
     },
     "metadata": {},
     "output_type": "display_data"
    },
    {
     "data": {
      "text/html": [
       "<ul><li><a href=\"https://archivescollection.anu.edu.au/index.php/sydney-stock-exchange-stock-and-share-lists-22\">View description in archive</a></li><li><a href=\"https://openresearch-repository.anu.edu.au/handle/1885/146790\">View item in respository</a></li><li><a href=\"https://openresearch-repository.anu.edu.au/bitstream/1885/146790/2/AU%20NBAC%20N193-021.pdf\">View PDF</a></li><li><a href=\"https://cloudstor.aarnet.edu.au/plus/s/i02k4gxeEpMAUkm/download?path=AU%20NBAC%20N193-021\">Download images from Cloudstor</a></li><li><a href=\"volumes/vol-21-pages.csv\" download=\"volumes/vol-21-pages.csv\">Download page list as CSV</a></li></ul>"
      ],
      "text/plain": [
       "<IPython.core.display.HTML object>"
      ]
     },
     "metadata": {},
     "output_type": "display_data"
    },
    {
     "data": {
      "text/html": [
       "<h3>Volume 22: 2 April 1906 – 30 June 1906</h3>"
      ],
      "text/plain": [
       "<IPython.core.display.HTML object>"
      ]
     },
     "metadata": {},
     "output_type": "display_data"
    },
    {
     "data": {
      "text/html": [
       "<p>Estimated 314 of 324 pages (96.91% complete)</p>"
      ],
      "text/plain": [
       "<IPython.core.display.HTML object>"
      ]
     },
     "metadata": {},
     "output_type": "display_data"
    },
    {
     "data": {
      "text/html": [
       "<ul><li><a href=\"https://archivescollection.anu.edu.au/index.php/sydney-stock-exchange-stock-and-share-lists-23\">View description in archive</a></li><li><a href=\"https://openresearch-repository.anu.edu.au/handle/1885/146791\">View item in respository</a></li><li><a href=\"https://openresearch-repository.anu.edu.au/bitstream/1885/146791/2/AU%20NBAC%20N193-022.pdf\">View PDF</a></li><li><a href=\"https://cloudstor.aarnet.edu.au/plus/s/i02k4gxeEpMAUkm/download?path=AU%20NBAC%20N193-022\">Download images from Cloudstor</a></li><li><a href=\"volumes/vol-22-pages.csv\" download=\"volumes/vol-22-pages.csv\">Download page list as CSV</a></li></ul>"
      ],
      "text/plain": [
       "<IPython.core.display.HTML object>"
      ]
     },
     "metadata": {},
     "output_type": "display_data"
    },
    {
     "data": {
      "text/html": [
       "<h3>Volume 23: 2 July 1906 – 29 September 1906</h3>"
      ],
      "text/plain": [
       "<IPython.core.display.HTML object>"
      ]
     },
     "metadata": {},
     "output_type": "display_data"
    },
    {
     "data": {
      "text/html": [
       "<p>Estimated 344 of 346 pages (99.42% complete)</p>"
      ],
      "text/plain": [
       "<IPython.core.display.HTML object>"
      ]
     },
     "metadata": {},
     "output_type": "display_data"
    },
    {
     "data": {
      "text/html": [
       "<ul><li><a href=\"https://archivescollection.anu.edu.au/index.php/sydney-stock-exchange-stock-and-share-lists-24\">View description in archive</a></li><li><a href=\"https://openresearch-repository.anu.edu.au/handle/1885/146792\">View item in respository</a></li><li><a href=\"https://openresearch-repository.anu.edu.au/bitstream/1885/146792/2/AU%20NBAC%20N193-023.pdf\">View PDF</a></li><li><a href=\"https://cloudstor.aarnet.edu.au/plus/s/i02k4gxeEpMAUkm/download?path=AU%20NBAC%20N193-023\">Download images from Cloudstor</a></li><li><a href=\"volumes/vol-23-pages.csv\" download=\"volumes/vol-23-pages.csv\">Download page list as CSV</a></li></ul>"
      ],
      "text/plain": [
       "<IPython.core.display.HTML object>"
      ]
     },
     "metadata": {},
     "output_type": "display_data"
    },
    {
     "data": {
      "text/html": [
       "<h3>Volume 24: 2 October 1906 – 21 December 1906</h3>"
      ],
      "text/plain": [
       "<IPython.core.display.HTML object>"
      ]
     },
     "metadata": {},
     "output_type": "display_data"
    },
    {
     "data": {
      "text/html": [
       "<p>Estimated 310 of 312 pages (99.36% complete)</p>"
      ],
      "text/plain": [
       "<IPython.core.display.HTML object>"
      ]
     },
     "metadata": {},
     "output_type": "display_data"
    },
    {
     "data": {
      "text/html": [
       "<ul><li><a href=\"https://archivescollection.anu.edu.au/index.php/sydney-stock-exchange-stock-and-share-lists-25\">View description in archive</a></li><li><a href=\"https://openresearch-repository.anu.edu.au/handle/1885/146793\">View item in respository</a></li><li><a href=\"https://openresearch-repository.anu.edu.au/bitstream/1885/146793/2/AU%20NBAC%20N193-024.pdf\">View PDF</a></li><li><a href=\"https://cloudstor.aarnet.edu.au/plus/s/i02k4gxeEpMAUkm/download?path=AU%20NBAC%20N193-024\">Download images from Cloudstor</a></li><li><a href=\"volumes/vol-24-pages.csv\" download=\"volumes/vol-24-pages.csv\">Download page list as CSV</a></li></ul>"
      ],
      "text/plain": [
       "<IPython.core.display.HTML object>"
      ]
     },
     "metadata": {},
     "output_type": "display_data"
    },
    {
     "data": {
      "text/html": [
       "<h3>Volume 25: 3 January 1907 – 28 March 1907</h3>"
      ],
      "text/plain": [
       "<IPython.core.display.HTML object>"
      ]
     },
     "metadata": {},
     "output_type": "display_data"
    },
    {
     "data": {
      "text/html": [
       "<p>Estimated 323 of 327 pages (98.78% complete)</p>"
      ],
      "text/plain": [
       "<IPython.core.display.HTML object>"
      ]
     },
     "metadata": {},
     "output_type": "display_data"
    },
    {
     "data": {
      "text/html": [
       "<ul><li><a href=\"https://archivescollection.anu.edu.au/index.php/sydney-stock-exchange-stock-and-share-lists-26\">View description in archive</a></li><li><a href=\"https://openresearch-repository.anu.edu.au/handle/1885/146794\">View item in respository</a></li><li><a href=\"https://openresearch-repository.anu.edu.au/bitstream/1885/146794/2/AU%20NBAC%20N193-025.pdf\">View PDF</a></li><li><a href=\"https://cloudstor.aarnet.edu.au/plus/s/i02k4gxeEpMAUkm/download?path=AU%20NBAC%20N193-025\">Download images from Cloudstor</a></li><li><a href=\"volumes/vol-25-pages.csv\" download=\"volumes/vol-25-pages.csv\">Download page list as CSV</a></li></ul>"
      ],
      "text/plain": [
       "<IPython.core.display.HTML object>"
      ]
     },
     "metadata": {},
     "output_type": "display_data"
    },
    {
     "data": {
      "text/html": [
       "<h3>Volume 26: 3 April 1907 – 29 June 1907</h3>"
      ],
      "text/plain": [
       "<IPython.core.display.HTML object>"
      ]
     },
     "metadata": {},
     "output_type": "display_data"
    },
    {
     "data": {
      "text/html": [
       "<p>Estimated 332 of 336 pages (98.81% complete)</p>"
      ],
      "text/plain": [
       "<IPython.core.display.HTML object>"
      ]
     },
     "metadata": {},
     "output_type": "display_data"
    },
    {
     "data": {
      "text/html": [
       "<ul><li><a href=\"https://archivescollection.anu.edu.au/index.php/sydney-stock-exchange-stock-and-share-lists-27\">View description in archive</a></li><li><a href=\"https://openresearch-repository.anu.edu.au/handle/1885/146795\">View item in respository</a></li><li><a href=\"https://openresearch-repository.anu.edu.au/bitstream/1885/146795/2/AU%20NBAC%20N193-026.pdf\">View PDF</a></li><li><a href=\"https://cloudstor.aarnet.edu.au/plus/s/i02k4gxeEpMAUkm/download?path=AU%20NBAC%20N193-026\">Download images from Cloudstor</a></li><li><a href=\"volumes/vol-26-pages.csv\" download=\"volumes/vol-26-pages.csv\">Download page list as CSV</a></li></ul>"
      ],
      "text/plain": [
       "<IPython.core.display.HTML object>"
      ]
     },
     "metadata": {},
     "output_type": "display_data"
    },
    {
     "data": {
      "text/html": [
       "<h3>Volume 27: 1 July 1907 – 30 September 1907</h3>"
      ],
      "text/plain": [
       "<IPython.core.display.HTML object>"
      ]
     },
     "metadata": {},
     "output_type": "display_data"
    },
    {
     "data": {
      "text/html": [
       "<p>Estimated 349 of 351 pages (99.43% complete)</p>"
      ],
      "text/plain": [
       "<IPython.core.display.HTML object>"
      ]
     },
     "metadata": {},
     "output_type": "display_data"
    },
    {
     "data": {
      "text/html": [
       "<ul><li><a href=\"https://archivescollection.anu.edu.au/index.php/sydney-stock-exchange-stock-and-share-lists-28\">View description in archive</a></li><li><a href=\"https://openresearch-repository.anu.edu.au/handle/1885/146796\">View item in respository</a></li><li><a href=\"https://openresearch-repository.anu.edu.au/bitstream/1885/146796/2/AU%20NBAC%20N193-027.pdf\">View PDF</a></li><li><a href=\"https://cloudstor.aarnet.edu.au/plus/s/i02k4gxeEpMAUkm/download?path=AU%20NBAC%20N193-027\">Download images from Cloudstor</a></li><li><a href=\"volumes/vol-27-pages.csv\" download=\"volumes/vol-27-pages.csv\">Download page list as CSV</a></li></ul>"
      ],
      "text/plain": [
       "<IPython.core.display.HTML object>"
      ]
     },
     "metadata": {},
     "output_type": "display_data"
    },
    {
     "data": {
      "text/html": [
       "<h3>Volume 28: 1 October 1907 – 24 December 1907</h3>"
      ],
      "text/plain": [
       "<IPython.core.display.HTML object>"
      ]
     },
     "metadata": {},
     "output_type": "display_data"
    },
    {
     "data": {
      "text/html": [
       "<p>Estimated 314 of 319 pages (98.43% complete)</p>"
      ],
      "text/plain": [
       "<IPython.core.display.HTML object>"
      ]
     },
     "metadata": {},
     "output_type": "display_data"
    },
    {
     "data": {
      "text/html": [
       "<ul><li><a href=\"https://archivescollection.anu.edu.au/index.php/sydney-stock-exchange-stock-and-share-lists-29\">View description in archive</a></li><li><a href=\"https://openresearch-repository.anu.edu.au/handle/1885/146797\">View item in respository</a></li><li><a href=\"https://openresearch-repository.anu.edu.au/bitstream/1885/146797/2/AU%20NBAC%20N193-028.pdf\">View PDF</a></li><li><a href=\"https://cloudstor.aarnet.edu.au/plus/s/i02k4gxeEpMAUkm/download?path=AU%20NBAC%20N193-028\">Download images from Cloudstor</a></li><li><a href=\"volumes/vol-28-pages.csv\" download=\"volumes/vol-28-pages.csv\">Download page list as CSV</a></li></ul>"
      ],
      "text/plain": [
       "<IPython.core.display.HTML object>"
      ]
     },
     "metadata": {},
     "output_type": "display_data"
    },
    {
     "data": {
      "text/html": [
       "<h3>Volume 29: 6 January 1908 – 31 March 1908</h3>"
      ],
      "text/plain": [
       "<IPython.core.display.HTML object>"
      ]
     },
     "metadata": {},
     "output_type": "display_data"
    },
    {
     "data": {
      "text/html": [
       "<p>Estimated 328 of 329 pages (99.70% complete)</p>"
      ],
      "text/plain": [
       "<IPython.core.display.HTML object>"
      ]
     },
     "metadata": {},
     "output_type": "display_data"
    },
    {
     "data": {
      "text/html": [
       "<ul><li><a href=\"https://archivescollection.anu.edu.au/index.php/sydney-stock-exchange-stock-and-share-lists-30\">View description in archive</a></li><li><a href=\"https://openresearch-repository.anu.edu.au/handle/1885/146798\">View item in respository</a></li><li><a href=\"https://openresearch-repository.anu.edu.au/bitstream/1885/146798/2/AU%20NBAC%20N193-029.pdf\">View PDF</a></li><li><a href=\"https://cloudstor.aarnet.edu.au/plus/s/i02k4gxeEpMAUkm/download?path=AU%20NBAC%20N193-029\">Download images from Cloudstor</a></li><li><a href=\"volumes/vol-29-pages.csv\" download=\"volumes/vol-29-pages.csv\">Download page list as CSV</a></li></ul>"
      ],
      "text/plain": [
       "<IPython.core.display.HTML object>"
      ]
     },
     "metadata": {},
     "output_type": "display_data"
    },
    {
     "data": {
      "text/html": [
       "<h3>Volume 30: 1 April 1908 – 30 June 1908</h3>"
      ],
      "text/plain": [
       "<IPython.core.display.HTML object>"
      ]
     },
     "metadata": {},
     "output_type": "display_data"
    },
    {
     "data": {
      "text/html": [
       "<p>Estimated 327 of 329 pages (99.39% complete)</p>"
      ],
      "text/plain": [
       "<IPython.core.display.HTML object>"
      ]
     },
     "metadata": {},
     "output_type": "display_data"
    },
    {
     "data": {
      "text/html": [
       "<ul><li><a href=\"https://archivescollection.anu.edu.au/index.php/sydney-stock-exchange-stock-and-share-lists-31\">View description in archive</a></li><li><a href=\"https://openresearch-repository.anu.edu.au/handle/1885/146799\">View item in respository</a></li><li><a href=\"https://openresearch-repository.anu.edu.au/bitstream/1885/146799/2/AU%20NBAC%20N193-030.pdf\">View PDF</a></li><li><a href=\"https://cloudstor.aarnet.edu.au/plus/s/i02k4gxeEpMAUkm/download?path=AU%20NBAC%20N193-030\">Download images from Cloudstor</a></li><li><a href=\"volumes/vol-30-pages.csv\" download=\"volumes/vol-30-pages.csv\">Download page list as CSV</a></li></ul>"
      ],
      "text/plain": [
       "<IPython.core.display.HTML object>"
      ]
     },
     "metadata": {},
     "output_type": "display_data"
    },
    {
     "data": {
      "text/html": [
       "<h3>Volume 31: 1 July 1908 – 30 September 1908</h3>"
      ],
      "text/plain": [
       "<IPython.core.display.HTML object>"
      ]
     },
     "metadata": {},
     "output_type": "display_data"
    },
    {
     "data": {
      "text/html": [
       "<p>Estimated 339 of 341 pages (99.41% complete)</p>"
      ],
      "text/plain": [
       "<IPython.core.display.HTML object>"
      ]
     },
     "metadata": {},
     "output_type": "display_data"
    },
    {
     "data": {
      "text/html": [
       "<ul><li><a href=\"https://archivescollection.anu.edu.au/index.php/sydney-stock-exchange-stock-and-share-lists-32\">View description in archive</a></li><li><a href=\"https://openresearch-repository.anu.edu.au/handle/1885/146800\">View item in respository</a></li><li><a href=\"https://openresearch-repository.anu.edu.au/bitstream/1885/146800/2/AU%20NBAC%20N193-031.pdf\">View PDF</a></li><li><a href=\"https://cloudstor.aarnet.edu.au/plus/s/i02k4gxeEpMAUkm/download?path=AU%20NBAC%20N193-031\">Download images from Cloudstor</a></li><li><a href=\"volumes/vol-31-pages.csv\" download=\"volumes/vol-31-pages.csv\">Download page list as CSV</a></li></ul>"
      ],
      "text/plain": [
       "<IPython.core.display.HTML object>"
      ]
     },
     "metadata": {},
     "output_type": "display_data"
    },
    {
     "data": {
      "text/html": [
       "<h3>Volume 32: 1 October 1908 – 24 December 1908</h3>"
      ],
      "text/plain": [
       "<IPython.core.display.HTML object>"
      ]
     },
     "metadata": {},
     "output_type": "display_data"
    },
    {
     "data": {
      "text/html": [
       "<p>Estimated 316 of 319 pages (99.06% complete)</p>"
      ],
      "text/plain": [
       "<IPython.core.display.HTML object>"
      ]
     },
     "metadata": {},
     "output_type": "display_data"
    },
    {
     "data": {
      "text/html": [
       "<ul><li><a href=\"https://archivescollection.anu.edu.au/index.php/sydney-stock-exchange-stock-and-share-lists-33\">View description in archive</a></li><li><a href=\"https://openresearch-repository.anu.edu.au/handle/1885/146801\">View item in respository</a></li><li><a href=\"https://openresearch-repository.anu.edu.au/bitstream/1885/146801/2/AU%20NBAC%20N193-032.pdf\">View PDF</a></li><li><a href=\"https://cloudstor.aarnet.edu.au/plus/s/i02k4gxeEpMAUkm/download?path=AU%20NBAC%20N193-032\">Download images from Cloudstor</a></li><li><a href=\"volumes/vol-32-pages.csv\" download=\"volumes/vol-32-pages.csv\">Download page list as CSV</a></li></ul>"
      ],
      "text/plain": [
       "<IPython.core.display.HTML object>"
      ]
     },
     "metadata": {},
     "output_type": "display_data"
    },
    {
     "data": {
      "text/html": [
       "<h3>Volume 33: 5 January 1909 – 31 March 1909</h3>"
      ],
      "text/plain": [
       "<IPython.core.display.HTML object>"
      ]
     },
     "metadata": {},
     "output_type": "display_data"
    },
    {
     "data": {
      "text/html": [
       "<p>Estimated 329 of 329 pages (100.00% complete)</p>"
      ],
      "text/plain": [
       "<IPython.core.display.HTML object>"
      ]
     },
     "metadata": {},
     "output_type": "display_data"
    },
    {
     "data": {
      "text/html": [
       "<ul><li><a href=\"https://archivescollection.anu.edu.au/index.php/sydney-stock-exchange-stock-and-share-lists-34\">View description in archive</a></li><li><a href=\"https://openresearch-repository.anu.edu.au/handle/1885/146802\">View item in respository</a></li><li><a href=\"https://openresearch-repository.anu.edu.au/bitstream/1885/146802/2/AU%20NBAC%20N193-033.pdf\">View PDF</a></li><li><a href=\"https://cloudstor.aarnet.edu.au/plus/s/i02k4gxeEpMAUkm/download?path=AU%20NBAC%20N193-033\">Download images from Cloudstor</a></li><li><a href=\"volumes/vol-33-pages.csv\" download=\"volumes/vol-33-pages.csv\">Download page list as CSV</a></li></ul>"
      ],
      "text/plain": [
       "<IPython.core.display.HTML object>"
      ]
     },
     "metadata": {},
     "output_type": "display_data"
    },
    {
     "data": {
      "text/html": [
       "<h3>Volume 34: 1 April 1909 – 30 June 1909</h3>"
      ],
      "text/plain": [
       "<IPython.core.display.HTML object>"
      ]
     },
     "metadata": {},
     "output_type": "display_data"
    },
    {
     "data": {
      "text/html": [
       "<p>Estimated 322 of 324 pages (99.38% complete)</p>"
      ],
      "text/plain": [
       "<IPython.core.display.HTML object>"
      ]
     },
     "metadata": {},
     "output_type": "display_data"
    },
    {
     "data": {
      "text/html": [
       "<ul><li><a href=\"https://archivescollection.anu.edu.au/index.php/sydney-stock-exchange-stock-and-share-lists-35\">View description in archive</a></li><li><a href=\"https://openresearch-repository.anu.edu.au/handle/1885/146803\">View item in respository</a></li><li><a href=\"https://openresearch-repository.anu.edu.au/bitstream/1885/146803/2/AU%20NBAC%20N193-034.pdf\">View PDF</a></li><li><a href=\"https://cloudstor.aarnet.edu.au/plus/s/i02k4gxeEpMAUkm/download?path=AU%20NBAC%20N193-034\">Download images from Cloudstor</a></li><li><a href=\"volumes/vol-34-pages.csv\" download=\"volumes/vol-34-pages.csv\">Download page list as CSV</a></li></ul>"
      ],
      "text/plain": [
       "<IPython.core.display.HTML object>"
      ]
     },
     "metadata": {},
     "output_type": "display_data"
    },
    {
     "data": {
      "text/html": [
       "<h3>Volume 35: 1 July 1909 – 30 September 1909</h3>"
      ],
      "text/plain": [
       "<IPython.core.display.HTML object>"
      ]
     },
     "metadata": {},
     "output_type": "display_data"
    },
    {
     "data": {
      "text/html": [
       "<p>Estimated 350 of 351 pages (99.72% complete)</p>"
      ],
      "text/plain": [
       "<IPython.core.display.HTML object>"
      ]
     },
     "metadata": {},
     "output_type": "display_data"
    },
    {
     "data": {
      "text/html": [
       "<ul><li><a href=\"https://archivescollection.anu.edu.au/index.php/sydney-stock-exchange-stock-and-share-lists-36\">View description in archive</a></li><li><a href=\"https://openresearch-repository.anu.edu.au/handle/1885/146804\">View item in respository</a></li><li><a href=\"https://openresearch-repository.anu.edu.au/bitstream/1885/146804/2/AU%20NBAC%20N193-035.pdf\">View PDF</a></li><li><a href=\"https://cloudstor.aarnet.edu.au/plus/s/i02k4gxeEpMAUkm/download?path=AU%20NBAC%20N193-035\">Download images from Cloudstor</a></li><li><a href=\"volumes/vol-35-pages.csv\" download=\"volumes/vol-35-pages.csv\">Download page list as CSV</a></li></ul>"
      ],
      "text/plain": [
       "<IPython.core.display.HTML object>"
      ]
     },
     "metadata": {},
     "output_type": "display_data"
    },
    {
     "data": {
      "text/html": [
       "<h3>Volume 36: 1 October 1909 – 24 December 1909</h3>"
      ],
      "text/plain": [
       "<IPython.core.display.HTML object>"
      ]
     },
     "metadata": {},
     "output_type": "display_data"
    },
    {
     "data": {
      "text/html": [
       "<p>Estimated 317 of 319 pages (99.37% complete)</p>"
      ],
      "text/plain": [
       "<IPython.core.display.HTML object>"
      ]
     },
     "metadata": {},
     "output_type": "display_data"
    },
    {
     "data": {
      "text/html": [
       "<ul><li><a href=\"https://archivescollection.anu.edu.au/index.php/sydney-stock-exchange-stock-and-share-lists-37\">View description in archive</a></li><li><a href=\"https://openresearch-repository.anu.edu.au/handle/1885/146805\">View item in respository</a></li><li><a href=\"https://openresearch-repository.anu.edu.au/bitstream/1885/146805/2/AU%20NBAC%20N193-036.pdf\">View PDF</a></li><li><a href=\"https://cloudstor.aarnet.edu.au/plus/s/i02k4gxeEpMAUkm/download?path=AU%20NBAC%20N193-036\">Download images from Cloudstor</a></li><li><a href=\"volumes/vol-36-pages.csv\" download=\"volumes/vol-36-pages.csv\">Download page list as CSV</a></li></ul>"
      ],
      "text/plain": [
       "<IPython.core.display.HTML object>"
      ]
     },
     "metadata": {},
     "output_type": "display_data"
    },
    {
     "data": {
      "text/html": [
       "<h3>Volume 37: 6 January 1910 – 31 March 1910</h3>"
      ],
      "text/plain": [
       "<IPython.core.display.HTML object>"
      ]
     },
     "metadata": {},
     "output_type": "display_data"
    },
    {
     "data": {
      "text/html": [
       "<p>Estimated 300 of 302 pages (99.34% complete)</p>"
      ],
      "text/plain": [
       "<IPython.core.display.HTML object>"
      ]
     },
     "metadata": {},
     "output_type": "display_data"
    },
    {
     "data": {
      "text/html": [
       "<ul><li><a href=\"https://archivescollection.anu.edu.au/index.php/sydney-stock-exchange-stock-and-share-lists-38\">View description in archive</a></li><li><a href=\"https://openresearch-repository.anu.edu.au/handle/1885/146806\">View item in respository</a></li><li><a href=\"https://openresearch-repository.anu.edu.au/bitstream/1885/146806/2/AU%20NBAC%20N193-037.pdf\">View PDF</a></li><li><a href=\"https://cloudstor.aarnet.edu.au/plus/s/i02k4gxeEpMAUkm/download?path=AU%20NBAC%20N193-037\">Download images from Cloudstor</a></li><li><a href=\"volumes/vol-37-pages.csv\" download=\"volumes/vol-37-pages.csv\">Download page list as CSV</a></li></ul>"
      ],
      "text/plain": [
       "<IPython.core.display.HTML object>"
      ]
     },
     "metadata": {},
     "output_type": "display_data"
    },
    {
     "data": {
      "text/html": [
       "<h3>Volume 38: 1 April 1910 – 30 June 1910</h3>"
      ],
      "text/plain": [
       "<IPython.core.display.HTML object>"
      ]
     },
     "metadata": {},
     "output_type": "display_data"
    },
    {
     "data": {
      "text/html": [
       "<p>Estimated 328 of 331 pages (99.09% complete)</p>"
      ],
      "text/plain": [
       "<IPython.core.display.HTML object>"
      ]
     },
     "metadata": {},
     "output_type": "display_data"
    },
    {
     "data": {
      "text/html": [
       "<ul><li><a href=\"https://archivescollection.anu.edu.au/index.php/sydney-stock-exchange-stock-and-share-lists-39\">View description in archive</a></li><li><a href=\"https://openresearch-repository.anu.edu.au/handle/1885/146807\">View item in respository</a></li><li><a href=\"https://openresearch-repository.anu.edu.au/bitstream/1885/146807/2/AU%20NBAC%20N193-038.pdf\">View PDF</a></li><li><a href=\"https://cloudstor.aarnet.edu.au/plus/s/i02k4gxeEpMAUkm/download?path=AU%20NBAC%20N193-038\">Download images from Cloudstor</a></li><li><a href=\"volumes/vol-38-pages.csv\" download=\"volumes/vol-38-pages.csv\">Download page list as CSV</a></li></ul>"
      ],
      "text/plain": [
       "<IPython.core.display.HTML object>"
      ]
     },
     "metadata": {},
     "output_type": "display_data"
    },
    {
     "data": {
      "text/html": [
       "<h3>Volume 39: 1 July 1910 – 30 September 1910</h3>"
      ],
      "text/plain": [
       "<IPython.core.display.HTML object>"
      ]
     },
     "metadata": {},
     "output_type": "display_data"
    },
    {
     "data": {
      "text/html": [
       "<p>Estimated 350 of 351 pages (99.72% complete)</p>"
      ],
      "text/plain": [
       "<IPython.core.display.HTML object>"
      ]
     },
     "metadata": {},
     "output_type": "display_data"
    },
    {
     "data": {
      "text/html": [
       "<ul><li><a href=\"https://archivescollection.anu.edu.au/index.php/sydney-stock-exchange-stock-and-share-lists-40\">View description in archive</a></li><li><a href=\"https://openresearch-repository.anu.edu.au/handle/1885/146808\">View item in respository</a></li><li><a href=\"https://openresearch-repository.anu.edu.au/bitstream/1885/146808/2/AU%20NBAC%20N193-039.pdf\">View PDF</a></li><li><a href=\"https://cloudstor.aarnet.edu.au/plus/s/i02k4gxeEpMAUkm/download?path=AU%20NBAC%20N193-039\">Download images from Cloudstor</a></li><li><a href=\"volumes/vol-39-pages.csv\" download=\"volumes/vol-39-pages.csv\">Download page list as CSV</a></li></ul>"
      ],
      "text/plain": [
       "<IPython.core.display.HTML object>"
      ]
     },
     "metadata": {},
     "output_type": "display_data"
    },
    {
     "data": {
      "text/html": [
       "<h3>Volume 40: 1 October 1910 – 23 December 1910</h3>"
      ],
      "text/plain": [
       "<IPython.core.display.HTML object>"
      ]
     },
     "metadata": {},
     "output_type": "display_data"
    },
    {
     "data": {
      "text/html": [
       "<p>Estimated 317 of 319 pages (99.37% complete)</p>"
      ],
      "text/plain": [
       "<IPython.core.display.HTML object>"
      ]
     },
     "metadata": {},
     "output_type": "display_data"
    },
    {
     "data": {
      "text/html": [
       "<ul><li><a href=\"https://archivescollection.anu.edu.au/index.php/sydney-stock-exchange-stock-and-share-lists-41\">View description in archive</a></li><li><a href=\"https://openresearch-repository.anu.edu.au/handle/1885/146809\">View item in respository</a></li><li><a href=\"https://openresearch-repository.anu.edu.au/bitstream/1885/146809/2/AU%20NBAC%20N193-040.pdf\">View PDF</a></li><li><a href=\"https://cloudstor.aarnet.edu.au/plus/s/i02k4gxeEpMAUkm/download?path=AU%20NBAC%20N193-040\">Download images from Cloudstor</a></li><li><a href=\"volumes/vol-40-pages.csv\" download=\"volumes/vol-40-pages.csv\">Download page list as CSV</a></li></ul>"
      ],
      "text/plain": [
       "<IPython.core.display.HTML object>"
      ]
     },
     "metadata": {},
     "output_type": "display_data"
    },
    {
     "data": {
      "text/html": [
       "<h3>Volume 41: 5 January 1911 – 31 March 1911</h3>"
      ],
      "text/plain": [
       "<IPython.core.display.HTML object>"
      ]
     },
     "metadata": {},
     "output_type": "display_data"
    },
    {
     "data": {
      "text/html": [
       "<p>Estimated 325 of 329 pages (98.78% complete)</p>"
      ],
      "text/plain": [
       "<IPython.core.display.HTML object>"
      ]
     },
     "metadata": {},
     "output_type": "display_data"
    },
    {
     "data": {
      "text/html": [
       "<ul><li><a href=\"https://archivescollection.anu.edu.au/index.php/sydney-stock-exchange-stock-and-share-lists-42\">View description in archive</a></li><li><a href=\"https://openresearch-repository.anu.edu.au/handle/1885/146810\">View item in respository</a></li><li><a href=\"https://openresearch-repository.anu.edu.au/bitstream/1885/146810/2/AU%20NBAC%20N193-041.pdf\">View PDF</a></li><li><a href=\"https://cloudstor.aarnet.edu.au/plus/s/i02k4gxeEpMAUkm/download?path=AU%20NBAC%20N193-041\">Download images from Cloudstor</a></li><li><a href=\"volumes/vol-41-pages.csv\" download=\"volumes/vol-41-pages.csv\">Download page list as CSV</a></li></ul>"
      ],
      "text/plain": [
       "<IPython.core.display.HTML object>"
      ]
     },
     "metadata": {},
     "output_type": "display_data"
    },
    {
     "data": {
      "text/html": [
       "<h3>Volume 42: 1 April 1911 – 30 June 1911</h3>"
      ],
      "text/plain": [
       "<IPython.core.display.HTML object>"
      ]
     },
     "metadata": {},
     "output_type": "display_data"
    },
    {
     "data": {
      "text/html": [
       "<p>Estimated 318 of 322 pages (98.76% complete)</p>"
      ],
      "text/plain": [
       "<IPython.core.display.HTML object>"
      ]
     },
     "metadata": {},
     "output_type": "display_data"
    },
    {
     "data": {
      "text/html": [
       "<ul><li><a href=\"https://archivescollection.anu.edu.au/index.php/sydney-stock-exchange-stock-and-share-lists-43\">View description in archive</a></li><li><a href=\"https://openresearch-repository.anu.edu.au/handle/1885/146811\">View item in respository</a></li><li><a href=\"https://openresearch-repository.anu.edu.au/bitstream/1885/146811/2/AU%20NBAC%20N193-042.pdf\">View PDF</a></li><li><a href=\"https://cloudstor.aarnet.edu.au/plus/s/i02k4gxeEpMAUkm/download?path=AU%20NBAC%20N193-042\">Download images from Cloudstor</a></li><li><a href=\"volumes/vol-42-pages.csv\" download=\"volumes/vol-42-pages.csv\">Download page list as CSV</a></li></ul>"
      ],
      "text/plain": [
       "<IPython.core.display.HTML object>"
      ]
     },
     "metadata": {},
     "output_type": "display_data"
    },
    {
     "data": {
      "text/html": [
       "<h3>Volume 43: 1 July 1911 – 30 September 1911</h3>"
      ],
      "text/plain": [
       "<IPython.core.display.HTML object>"
      ]
     },
     "metadata": {},
     "output_type": "display_data"
    },
    {
     "data": {
      "text/html": [
       "<p>Estimated 343 of 343 pages (100.00% complete)</p>"
      ],
      "text/plain": [
       "<IPython.core.display.HTML object>"
      ]
     },
     "metadata": {},
     "output_type": "display_data"
    },
    {
     "data": {
      "text/html": [
       "<ul><li><a href=\"https://archivescollection.anu.edu.au/index.php/sydney-stock-exchange-stock-and-share-lists-44\">View description in archive</a></li><li><a href=\"https://openresearch-repository.anu.edu.au/handle/1885/146812\">View item in respository</a></li><li><a href=\"https://openresearch-repository.anu.edu.au/bitstream/1885/146812/2/AU%20NBAC%20N193-043.pdf\">View PDF</a></li><li><a href=\"https://cloudstor.aarnet.edu.au/plus/s/i02k4gxeEpMAUkm/download?path=AU%20NBAC%20N193-043\">Download images from Cloudstor</a></li><li><a href=\"volumes/vol-43-pages.csv\" download=\"volumes/vol-43-pages.csv\">Download page list as CSV</a></li></ul>"
      ],
      "text/plain": [
       "<IPython.core.display.HTML object>"
      ]
     },
     "metadata": {},
     "output_type": "display_data"
    },
    {
     "data": {
      "text/html": [
       "<h3>Volume 44: 3 October 1911 – 22 December 1911</h3>"
      ],
      "text/plain": [
       "<IPython.core.display.HTML object>"
      ]
     },
     "metadata": {},
     "output_type": "display_data"
    },
    {
     "data": {
      "text/html": [
       "<p>Estimated 317 of 317 pages (100.00% complete)</p>"
      ],
      "text/plain": [
       "<IPython.core.display.HTML object>"
      ]
     },
     "metadata": {},
     "output_type": "display_data"
    },
    {
     "data": {
      "text/html": [
       "<ul><li><a href=\"https://archivescollection.anu.edu.au/index.php/sydney-stock-exchange-stock-and-share-lists-45\">View description in archive</a></li><li><a href=\"https://openresearch-repository.anu.edu.au/handle/1885/146813\">View item in respository</a></li><li><a href=\"https://openresearch-repository.anu.edu.au/bitstream/1885/146813/2/AU%20NBAC%20N193-044.pdf\">View PDF</a></li><li><a href=\"https://cloudstor.aarnet.edu.au/plus/s/i02k4gxeEpMAUkm/download?path=AU%20NBAC%20N193-044\">Download images from Cloudstor</a></li><li><a href=\"volumes/vol-44-pages.csv\" download=\"volumes/vol-44-pages.csv\">Download page list as CSV</a></li></ul>"
      ],
      "text/plain": [
       "<IPython.core.display.HTML object>"
      ]
     },
     "metadata": {},
     "output_type": "display_data"
    },
    {
     "data": {
      "text/html": [
       "<h3>Volume 45: 4 January 1912 – 30 March 1912</h3>"
      ],
      "text/plain": [
       "<IPython.core.display.HTML object>"
      ]
     },
     "metadata": {},
     "output_type": "display_data"
    },
    {
     "data": {
      "text/html": [
       "<p>Estimated 331 of 331 pages (100.00% complete)</p>"
      ],
      "text/plain": [
       "<IPython.core.display.HTML object>"
      ]
     },
     "metadata": {},
     "output_type": "display_data"
    },
    {
     "data": {
      "text/html": [
       "<ul><li><a href=\"https://archivescollection.anu.edu.au/index.php/sydney-stock-exchange-stock-and-share-lists-46\">View description in archive</a></li><li><a href=\"https://openresearch-repository.anu.edu.au/handle/1885/146814\">View item in respository</a></li><li><a href=\"https://openresearch-repository.anu.edu.au/bitstream/1885/146814/2/AU%20NBAC%20N193-045.pdf\">View PDF</a></li><li><a href=\"https://cloudstor.aarnet.edu.au/plus/s/i02k4gxeEpMAUkm/download?path=AU%20NBAC%20N193-045\">Download images from Cloudstor</a></li><li><a href=\"volumes/vol-45-pages.csv\" download=\"volumes/vol-45-pages.csv\">Download page list as CSV</a></li></ul>"
      ],
      "text/plain": [
       "<IPython.core.display.HTML object>"
      ]
     },
     "metadata": {},
     "output_type": "display_data"
    },
    {
     "data": {
      "text/html": [
       "<h3>Volume 46: 1 April 1912 – 29 June 1912</h3>"
      ],
      "text/plain": [
       "<IPython.core.display.HTML object>"
      ]
     },
     "metadata": {},
     "output_type": "display_data"
    },
    {
     "data": {
      "text/html": [
       "<p>Estimated 317 of 319 pages (99.37% complete)</p>"
      ],
      "text/plain": [
       "<IPython.core.display.HTML object>"
      ]
     },
     "metadata": {},
     "output_type": "display_data"
    },
    {
     "data": {
      "text/html": [
       "<ul><li><a href=\"https://archivescollection.anu.edu.au/index.php/sydney-stock-exchange-stock-and-share-lists-47\">View description in archive</a></li><li><a href=\"https://openresearch-repository.anu.edu.au/handle/1885/146815\">View item in respository</a></li><li><a href=\"https://openresearch-repository.anu.edu.au/bitstream/1885/146815/2/AU%20NBAC%20N193-046.pdf\">View PDF</a></li><li><a href=\"https://cloudstor.aarnet.edu.au/plus/s/i02k4gxeEpMAUkm/download?path=AU%20NBAC%20N193-046\">Download images from Cloudstor</a></li><li><a href=\"volumes/vol-46-pages.csv\" download=\"volumes/vol-46-pages.csv\">Download page list as CSV</a></li></ul>"
      ],
      "text/plain": [
       "<IPython.core.display.HTML object>"
      ]
     },
     "metadata": {},
     "output_type": "display_data"
    },
    {
     "data": {
      "text/html": [
       "<h3>Volume 47: 1 July 1912 – 30 September 1912</h3>"
      ],
      "text/plain": [
       "<IPython.core.display.HTML object>"
      ]
     },
     "metadata": {},
     "output_type": "display_data"
    },
    {
     "data": {
      "text/html": [
       "<p>Estimated 350 of 351 pages (99.72% complete)</p>"
      ],
      "text/plain": [
       "<IPython.core.display.HTML object>"
      ]
     },
     "metadata": {},
     "output_type": "display_data"
    },
    {
     "data": {
      "text/html": [
       "<ul><li><a href=\"https://archivescollection.anu.edu.au/index.php/sydney-stock-exchange-stock-and-share-lists-48\">View description in archive</a></li><li><a href=\"https://openresearch-repository.anu.edu.au/handle/1885/146816\">View item in respository</a></li><li><a href=\"https://openresearch-repository.anu.edu.au/bitstream/1885/146816/2/AU%20NBAC%20N193-047.pdf\">View PDF</a></li><li><a href=\"https://cloudstor.aarnet.edu.au/plus/s/i02k4gxeEpMAUkm/download?path=AU%20NBAC%20N193-047\">Download images from Cloudstor</a></li><li><a href=\"volumes/vol-47-pages.csv\" download=\"volumes/vol-47-pages.csv\">Download page list as CSV</a></li></ul>"
      ],
      "text/plain": [
       "<IPython.core.display.HTML object>"
      ]
     },
     "metadata": {},
     "output_type": "display_data"
    },
    {
     "data": {
      "text/html": [
       "<h3>Volume 48: 1 October 1912 – 21 December 1912</h3>"
      ],
      "text/plain": [
       "<IPython.core.display.HTML object>"
      ]
     },
     "metadata": {},
     "output_type": "display_data"
    },
    {
     "data": {
      "text/html": [
       "<p>Estimated 314 of 314 pages (100.00% complete)</p>"
      ],
      "text/plain": [
       "<IPython.core.display.HTML object>"
      ]
     },
     "metadata": {},
     "output_type": "display_data"
    },
    {
     "data": {
      "text/html": [
       "<ul><li><a href=\"https://archivescollection.anu.edu.au/index.php/sydney-stock-exchange-stock-and-share-lists-49\">View description in archive</a></li><li><a href=\"https://openresearch-repository.anu.edu.au/handle/1885/146817\">View item in respository</a></li><li><a href=\"https://openresearch-repository.anu.edu.au/bitstream/1885/146817/2/AU%20NBAC%20N193-048.pdf\">View PDF</a></li><li><a href=\"https://cloudstor.aarnet.edu.au/plus/s/i02k4gxeEpMAUkm/download?path=AU%20NBAC%20N193-048\">Download images from Cloudstor</a></li><li><a href=\"volumes/vol-48-pages.csv\" download=\"volumes/vol-48-pages.csv\">Download page list as CSV</a></li></ul>"
      ],
      "text/plain": [
       "<IPython.core.display.HTML object>"
      ]
     },
     "metadata": {},
     "output_type": "display_data"
    },
    {
     "data": {
      "text/html": [
       "<h3>Volume 49: 6 January 1913 – 31 March 1913</h3>"
      ],
      "text/plain": [
       "<IPython.core.display.HTML object>"
      ]
     },
     "metadata": {},
     "output_type": "display_data"
    },
    {
     "data": {
      "text/html": [
       "<p>Estimated 296 of 302 pages (98.01% complete)</p>"
      ],
      "text/plain": [
       "<IPython.core.display.HTML object>"
      ]
     },
     "metadata": {},
     "output_type": "display_data"
    },
    {
     "data": {
      "text/html": [
       "<ul><li><a href=\"https://archivescollection.anu.edu.au/index.php/sydney-stock-exchange-stock-and-share-lists-50\">View description in archive</a></li><li><a href=\"https://openresearch-repository.anu.edu.au/handle/1885/146818\">View item in respository</a></li><li><a href=\"https://openresearch-repository.anu.edu.au/bitstream/1885/146818/2/AU%20NBAC%20N193-049.pdf\">View PDF</a></li><li><a href=\"https://cloudstor.aarnet.edu.au/plus/s/i02k4gxeEpMAUkm/download?path=AU%20NBAC%20N193-049\">Download images from Cloudstor</a></li><li><a href=\"volumes/vol-49-pages.csv\" download=\"volumes/vol-49-pages.csv\">Download page list as CSV</a></li></ul>"
      ],
      "text/plain": [
       "<IPython.core.display.HTML object>"
      ]
     },
     "metadata": {},
     "output_type": "display_data"
    },
    {
     "data": {
      "text/html": [
       "<h3>Volume 50: 1 April 1913 – 30 June 1913</h3>"
      ],
      "text/plain": [
       "<IPython.core.display.HTML object>"
      ]
     },
     "metadata": {},
     "output_type": "display_data"
    },
    {
     "data": {
      "text/html": [
       "<p>Estimated 337 of 341 pages (98.83% complete)</p>"
      ],
      "text/plain": [
       "<IPython.core.display.HTML object>"
      ]
     },
     "metadata": {},
     "output_type": "display_data"
    },
    {
     "data": {
      "text/html": [
       "<ul><li><a href=\"https://archivescollection.anu.edu.au/index.php/sydney-stock-exchange-stock-and-share-lists-51\">View description in archive</a></li><li><a href=\"https://openresearch-repository.anu.edu.au/handle/1885/146819\">View item in respository</a></li><li><a href=\"https://openresearch-repository.anu.edu.au/bitstream/1885/146819/2/AU%20NBAC%20N193-050.pdf\">View PDF</a></li><li><a href=\"https://cloudstor.aarnet.edu.au/plus/s/i02k4gxeEpMAUkm/download?path=AU%20NBAC%20N193-050\">Download images from Cloudstor</a></li><li><a href=\"volumes/vol-50-pages.csv\" download=\"volumes/vol-50-pages.csv\">Download page list as CSV</a></li></ul>"
      ],
      "text/plain": [
       "<IPython.core.display.HTML object>"
      ]
     },
     "metadata": {},
     "output_type": "display_data"
    },
    {
     "data": {
      "text/html": [
       "<h3>Volume 51: 1 July 1913 – 30 September 1913</h3>"
      ],
      "text/plain": [
       "<IPython.core.display.HTML object>"
      ]
     },
     "metadata": {},
     "output_type": "display_data"
    },
    {
     "data": {
      "text/html": [
       "<p>Estimated 351 of 351 pages (100.00% complete)</p>"
      ],
      "text/plain": [
       "<IPython.core.display.HTML object>"
      ]
     },
     "metadata": {},
     "output_type": "display_data"
    },
    {
     "data": {
      "text/html": [
       "<ul><li><a href=\"https://archivescollection.anu.edu.au/index.php/sydney-stock-exchange-stock-and-share-lists-52\">View description in archive</a></li><li><a href=\"https://openresearch-repository.anu.edu.au/handle/1885/146820\">View item in respository</a></li><li><a href=\"https://openresearch-repository.anu.edu.au/bitstream/1885/146820/2/AU%20NBAC%20N193-051.pdf\">View PDF</a></li><li><a href=\"https://cloudstor.aarnet.edu.au/plus/s/i02k4gxeEpMAUkm/download?path=AU%20NBAC%20N193-051\">Download images from Cloudstor</a></li><li><a href=\"volumes/vol-51-pages.csv\" download=\"volumes/vol-51-pages.csv\">Download page list as CSV</a></li></ul>"
      ],
      "text/plain": [
       "<IPython.core.display.HTML object>"
      ]
     },
     "metadata": {},
     "output_type": "display_data"
    },
    {
     "data": {
      "text/html": [
       "<h3>Volume 52: 1 October 1913 – 23 December 1913</h3>"
      ],
      "text/plain": [
       "<IPython.core.display.HTML object>"
      ]
     },
     "metadata": {},
     "output_type": "display_data"
    },
    {
     "data": {
      "text/html": [
       "<p>Estimated 313 of 317 pages (98.74% complete)</p>"
      ],
      "text/plain": [
       "<IPython.core.display.HTML object>"
      ]
     },
     "metadata": {},
     "output_type": "display_data"
    },
    {
     "data": {
      "text/html": [
       "<ul><li><a href=\"https://archivescollection.anu.edu.au/index.php/sydney-stock-exchange-stock-and-share-lists-53\">View description in archive</a></li><li><a href=\"https://openresearch-repository.anu.edu.au/handle/1885/146821\">View item in respository</a></li><li><a href=\"https://openresearch-repository.anu.edu.au/bitstream/1885/146821/2/AU%20NBAC%20N193-052.pdf\">View PDF</a></li><li><a href=\"https://cloudstor.aarnet.edu.au/plus/s/i02k4gxeEpMAUkm/download?path=AU%20NBAC%20N193-052\">Download images from Cloudstor</a></li><li><a href=\"volumes/vol-52-pages.csv\" download=\"volumes/vol-52-pages.csv\">Download page list as CSV</a></li></ul>"
      ],
      "text/plain": [
       "<IPython.core.display.HTML object>"
      ]
     },
     "metadata": {},
     "output_type": "display_data"
    },
    {
     "data": {
      "text/html": [
       "<h3>Volume 53: 5 January 1914 – 31 March 1914</h3>"
      ],
      "text/plain": [
       "<IPython.core.display.HTML object>"
      ]
     },
     "metadata": {},
     "output_type": "display_data"
    },
    {
     "data": {
      "text/html": [
       "<p>Estimated 325 of 329 pages (98.78% complete)</p>"
      ],
      "text/plain": [
       "<IPython.core.display.HTML object>"
      ]
     },
     "metadata": {},
     "output_type": "display_data"
    },
    {
     "data": {
      "text/html": [
       "<ul><li><a href=\"https://archivescollection.anu.edu.au/index.php/sydney-stock-exchange-stock-and-share-lists-54\">View description in archive</a></li><li><a href=\"https://openresearch-repository.anu.edu.au/handle/1885/146824\">View item in respository</a></li><li><a href=\"https://openresearch-repository.anu.edu.au/bitstream/1885/146824/2/AU%20NBAC%20N193-053.pdf\">View PDF</a></li><li><a href=\"https://cloudstor.aarnet.edu.au/plus/s/i02k4gxeEpMAUkm/download?path=AU%20NBAC%20N193-053\">Download images from Cloudstor</a></li><li><a href=\"volumes/vol-53-pages.csv\" download=\"volumes/vol-53-pages.csv\">Download page list as CSV</a></li></ul>"
      ],
      "text/plain": [
       "<IPython.core.display.HTML object>"
      ]
     },
     "metadata": {},
     "output_type": "display_data"
    },
    {
     "data": {
      "text/html": [
       "<h3>Volume 54: 1 April 1914 – 30 June 1914</h3>"
      ],
      "text/plain": [
       "<IPython.core.display.HTML object>"
      ]
     },
     "metadata": {},
     "output_type": "display_data"
    },
    {
     "data": {
      "text/html": [
       "<p>Estimated 315 of 319 pages (98.75% complete)</p>"
      ],
      "text/plain": [
       "<IPython.core.display.HTML object>"
      ]
     },
     "metadata": {},
     "output_type": "display_data"
    },
    {
     "data": {
      "text/html": [
       "<ul><li><a href=\"https://archivescollection.anu.edu.au/index.php/sydney-stock-exchange-stock-and-share-lists-55\">View description in archive</a></li><li><a href=\"https://openresearch-repository.anu.edu.au/handle/1885/146825\">View item in respository</a></li><li><a href=\"https://openresearch-repository.anu.edu.au/bitstream/1885/146825/2/AU%20NBAC%20N193-054.pdf\">View PDF</a></li><li><a href=\"https://cloudstor.aarnet.edu.au/plus/s/i02k4gxeEpMAUkm/download?path=AU%20NBAC%20N193-054\">Download images from Cloudstor</a></li><li><a href=\"volumes/vol-54-pages.csv\" download=\"volumes/vol-54-pages.csv\">Download page list as CSV</a></li></ul>"
      ],
      "text/plain": [
       "<IPython.core.display.HTML object>"
      ]
     },
     "metadata": {},
     "output_type": "display_data"
    },
    {
     "data": {
      "text/html": [
       "<h3>Volume 55: 1 July 1914 – 30 September 1914</h3>"
      ],
      "text/plain": [
       "<IPython.core.display.HTML object>"
      ]
     },
     "metadata": {},
     "output_type": "display_data"
    },
    {
     "data": {
      "text/html": [
       "<p>Estimated 167 of 351 pages (47.58% complete)</p>"
      ],
      "text/plain": [
       "<IPython.core.display.HTML object>"
      ]
     },
     "metadata": {},
     "output_type": "display_data"
    },
    {
     "data": {
      "text/html": [
       "<ul><li><a href=\"https://archivescollection.anu.edu.au/index.php/sydney-stock-exchange-stock-and-share-lists-56\">View description in archive</a></li><li><a href=\"https://openresearch-repository.anu.edu.au/handle/1885/146826\">View item in respository</a></li><li><a href=\"https://openresearch-repository.anu.edu.au/bitstream/1885/146826/2/AU%20NBAC%20N193-055.pdf\">View PDF</a></li><li><a href=\"https://cloudstor.aarnet.edu.au/plus/s/i02k4gxeEpMAUkm/download?path=AU%20NBAC%20N193-055\">Download images from Cloudstor</a></li><li><a href=\"volumes/vol-55-pages.csv\" download=\"volumes/vol-55-pages.csv\">Download page list as CSV</a></li></ul>"
      ],
      "text/plain": [
       "<IPython.core.display.HTML object>"
      ]
     },
     "metadata": {},
     "output_type": "display_data"
    },
    {
     "data": {
      "text/html": [
       "<h3>Volume 56: 1 October 1914 – 23 December 1914</h3>"
      ],
      "text/plain": [
       "<IPython.core.display.HTML object>"
      ]
     },
     "metadata": {},
     "output_type": "display_data"
    },
    {
     "data": {
      "text/html": [
       "<p>Estimated 315 of 319 pages (98.75% complete)</p>"
      ],
      "text/plain": [
       "<IPython.core.display.HTML object>"
      ]
     },
     "metadata": {},
     "output_type": "display_data"
    },
    {
     "data": {
      "text/html": [
       "<ul><li><a href=\"https://archivescollection.anu.edu.au/index.php/sydney-stock-exchange-stock-and-share-lists-57\">View description in archive</a></li><li><a href=\"https://openresearch-repository.anu.edu.au/handle/1885/146827\">View item in respository</a></li><li><a href=\"https://openresearch-repository.anu.edu.au/bitstream/1885/146827/2/AU%20NBAC%20N193-056.pdf\">View PDF</a></li><li><a href=\"https://cloudstor.aarnet.edu.au/plus/s/i02k4gxeEpMAUkm/download?path=AU%20NBAC%20N193-056\">Download images from Cloudstor</a></li><li><a href=\"volumes/vol-56-pages.csv\" download=\"volumes/vol-56-pages.csv\">Download page list as CSV</a></li></ul>"
      ],
      "text/plain": [
       "<IPython.core.display.HTML object>"
      ]
     },
     "metadata": {},
     "output_type": "display_data"
    },
    {
     "data": {
      "text/html": [
       "<h3>Volume 57: 7 January 1915 – 31 March 1915</h3>"
      ],
      "text/plain": [
       "<IPython.core.display.HTML object>"
      ]
     },
     "metadata": {},
     "output_type": "display_data"
    },
    {
     "data": {
      "text/html": [
       "<p>Estimated 318 of 319 pages (99.69% complete)</p>"
      ],
      "text/plain": [
       "<IPython.core.display.HTML object>"
      ]
     },
     "metadata": {},
     "output_type": "display_data"
    },
    {
     "data": {
      "text/html": [
       "<ul><li><a href=\"https://archivescollection.anu.edu.au/index.php/sydney-stock-exchange-stock-and-share-lists-58\">View description in archive</a></li><li><a href=\"https://openresearch-repository.anu.edu.au/handle/1885/146828\">View item in respository</a></li><li><a href=\"https://openresearch-repository.anu.edu.au/bitstream/1885/146828/2/AU%20NBAC%20N193-057.pdf\">View PDF</a></li><li><a href=\"https://cloudstor.aarnet.edu.au/plus/s/i02k4gxeEpMAUkm/download?path=AU%20NBAC%20N193-057\">Download images from Cloudstor</a></li><li><a href=\"volumes/vol-57-pages.csv\" download=\"volumes/vol-57-pages.csv\">Download page list as CSV</a></li></ul>"
      ],
      "text/plain": [
       "<IPython.core.display.HTML object>"
      ]
     },
     "metadata": {},
     "output_type": "display_data"
    },
    {
     "data": {
      "text/html": [
       "<h3>Volume 58: 8 April 1915 – 30 June 1915</h3>"
      ],
      "text/plain": [
       "<IPython.core.display.HTML object>"
      ]
     },
     "metadata": {},
     "output_type": "display_data"
    },
    {
     "data": {
      "text/html": [
       "<p>Estimated 309 of 309 pages (100.00% complete)</p>"
      ],
      "text/plain": [
       "<IPython.core.display.HTML object>"
      ]
     },
     "metadata": {},
     "output_type": "display_data"
    },
    {
     "data": {
      "text/html": [
       "<ul><li><a href=\"https://archivescollection.anu.edu.au/index.php/sydney-stock-exchange-stock-and-share-lists-59\">View description in archive</a></li><li><a href=\"https://openresearch-repository.anu.edu.au/handle/1885/146829\">View item in respository</a></li><li><a href=\"https://openresearch-repository.anu.edu.au/bitstream/1885/146829/2/AU%20NBAC%20N193-058.pdf\">View PDF</a></li><li><a href=\"https://cloudstor.aarnet.edu.au/plus/s/i02k4gxeEpMAUkm/download?path=AU%20NBAC%20N193-058\">Download images from Cloudstor</a></li><li><a href=\"volumes/vol-58-pages.csv\" download=\"volumes/vol-58-pages.csv\">Download page list as CSV</a></li></ul>"
      ],
      "text/plain": [
       "<IPython.core.display.HTML object>"
      ]
     },
     "metadata": {},
     "output_type": "display_data"
    },
    {
     "data": {
      "text/html": [
       "<h3>Volume 59: 1 July 1915 – 30 September 1915</h3>"
      ],
      "text/plain": [
       "<IPython.core.display.HTML object>"
      ]
     },
     "metadata": {},
     "output_type": "display_data"
    },
    {
     "data": {
      "text/html": [
       "<p>Estimated 347 of 351 pages (98.86% complete)</p>"
      ],
      "text/plain": [
       "<IPython.core.display.HTML object>"
      ]
     },
     "metadata": {},
     "output_type": "display_data"
    },
    {
     "data": {
      "text/html": [
       "<ul><li><a href=\"https://archivescollection.anu.edu.au/index.php/sydney-stock-exchange-stock-and-share-lists-60\">View description in archive</a></li><li><a href=\"https://openresearch-repository.anu.edu.au/handle/1885/146830\">View item in respository</a></li><li><a href=\"https://openresearch-repository.anu.edu.au/bitstream/1885/146830/2/AU%20NBAC%20N193-059.pdf\">View PDF</a></li><li><a href=\"https://cloudstor.aarnet.edu.au/plus/s/i02k4gxeEpMAUkm/download?path=AU%20NBAC%20N193-059\">Download images from Cloudstor</a></li><li><a href=\"volumes/vol-59-pages.csv\" download=\"volumes/vol-59-pages.csv\">Download page list as CSV</a></li></ul>"
      ],
      "text/plain": [
       "<IPython.core.display.HTML object>"
      ]
     },
     "metadata": {},
     "output_type": "display_data"
    },
    {
     "data": {
      "text/html": [
       "<h3>Volume 60: 1 October 1915 – 23 December 1915</h3>"
      ],
      "text/plain": [
       "<IPython.core.display.HTML object>"
      ]
     },
     "metadata": {},
     "output_type": "display_data"
    },
    {
     "data": {
      "text/html": [
       "<p>Estimated 313 of 319 pages (98.12% complete)</p>"
      ],
      "text/plain": [
       "<IPython.core.display.HTML object>"
      ]
     },
     "metadata": {},
     "output_type": "display_data"
    },
    {
     "data": {
      "text/html": [
       "<ul><li><a href=\"https://archivescollection.anu.edu.au/index.php/sydney-stock-exchange-stock-and-share-lists-61\">View description in archive</a></li><li><a href=\"https://openresearch-repository.anu.edu.au/handle/1885/146833\">View item in respository</a></li><li><a href=\"https://openresearch-repository.anu.edu.au/bitstream/1885/146833/2/AU%20NBAC%20N193-060.pdf\">View PDF</a></li><li><a href=\"https://cloudstor.aarnet.edu.au/plus/s/i02k4gxeEpMAUkm/download?path=AU%20NBAC%20N193-060\">Download images from Cloudstor</a></li><li><a href=\"volumes/vol-60-pages.csv\" download=\"volumes/vol-60-pages.csv\">Download page list as CSV</a></li></ul>"
      ],
      "text/plain": [
       "<IPython.core.display.HTML object>"
      ]
     },
     "metadata": {},
     "output_type": "display_data"
    },
    {
     "data": {
      "text/html": [
       "<h3>Volume 61: 10 January 1916 – 31 March 1916</h3>"
      ],
      "text/plain": [
       "<IPython.core.display.HTML object>"
      ]
     },
     "metadata": {},
     "output_type": "display_data"
    },
    {
     "data": {
      "text/html": [
       "<p>Estimated 317 of 317 pages (100.00% complete)</p>"
      ],
      "text/plain": [
       "<IPython.core.display.HTML object>"
      ]
     },
     "metadata": {},
     "output_type": "display_data"
    },
    {
     "data": {
      "text/html": [
       "<ul><li><a href=\"https://archivescollection.anu.edu.au/index.php/sydney-stock-exchange-stock-and-share-lists-62\">View description in archive</a></li><li><a href=\"https://openresearch-repository.anu.edu.au/handle/1885/146831\">View item in respository</a></li><li><a href=\"https://openresearch-repository.anu.edu.au/bitstream/1885/146831/2/AU%20NBAC%20N193-061.pdf\">View PDF</a></li><li><a href=\"https://cloudstor.aarnet.edu.au/plus/s/i02k4gxeEpMAUkm/download?path=AU%20NBAC%20N193-061\">Download images from Cloudstor</a></li><li><a href=\"volumes/vol-61-pages.csv\" download=\"volumes/vol-61-pages.csv\">Download page list as CSV</a></li></ul>"
      ],
      "text/plain": [
       "<IPython.core.display.HTML object>"
      ]
     },
     "metadata": {},
     "output_type": "display_data"
    },
    {
     "data": {
      "text/html": [
       "<h3>Volume 62: 1 April 1916 – 30 June 1916</h3>"
      ],
      "text/plain": [
       "<IPython.core.display.HTML object>"
      ]
     },
     "metadata": {},
     "output_type": "display_data"
    },
    {
     "data": {
      "text/html": [
       "<p>Estimated 312 of 314 pages (99.36% complete)</p>"
      ],
      "text/plain": [
       "<IPython.core.display.HTML object>"
      ]
     },
     "metadata": {},
     "output_type": "display_data"
    },
    {
     "data": {
      "text/html": [
       "<ul><li><a href=\"https://archivescollection.anu.edu.au/index.php/sydney-stock-exchange-stock-and-share-lists-63\">View description in archive</a></li><li><a href=\"https://openresearch-repository.anu.edu.au/handle/1885/146832\">View item in respository</a></li><li><a href=\"https://openresearch-repository.anu.edu.au/bitstream/1885/146832/2/AU%20NBAC%20N193-062.pdf\">View PDF</a></li><li><a href=\"https://cloudstor.aarnet.edu.au/plus/s/i02k4gxeEpMAUkm/download?path=AU%20NBAC%20N193-062\">Download images from Cloudstor</a></li><li><a href=\"volumes/vol-62-pages.csv\" download=\"volumes/vol-62-pages.csv\">Download page list as CSV</a></li></ul>"
      ],
      "text/plain": [
       "<IPython.core.display.HTML object>"
      ]
     },
     "metadata": {},
     "output_type": "display_data"
    },
    {
     "data": {
      "text/html": [
       "<h3>Volume 63: 1 July 1916 – 30 September 1916</h3>"
      ],
      "text/plain": [
       "<IPython.core.display.HTML object>"
      ]
     },
     "metadata": {},
     "output_type": "display_data"
    },
    {
     "data": {
      "text/html": [
       "<p>Estimated 345 of 348 pages (99.14% complete)</p>"
      ],
      "text/plain": [
       "<IPython.core.display.HTML object>"
      ]
     },
     "metadata": {},
     "output_type": "display_data"
    },
    {
     "data": {
      "text/html": [
       "<ul><li><a href=\"https://archivescollection.anu.edu.au/index.php/sydney-stock-exchange-stock-and-share-lists-64\">View description in archive</a></li><li><a href=\"https://openresearch-repository.anu.edu.au/handle/1885/146834\">View item in respository</a></li><li><a href=\"https://openresearch-repository.anu.edu.au/bitstream/1885/146834/2/AU%20NBAC%20N193-063.pdf\">View PDF</a></li><li><a href=\"https://cloudstor.aarnet.edu.au/plus/s/i02k4gxeEpMAUkm/download?path=AU%20NBAC%20N193-063\">Download images from Cloudstor</a></li><li><a href=\"volumes/vol-63-pages.csv\" download=\"volumes/vol-63-pages.csv\">Download page list as CSV</a></li></ul>"
      ],
      "text/plain": [
       "<IPython.core.display.HTML object>"
      ]
     },
     "metadata": {},
     "output_type": "display_data"
    },
    {
     "data": {
      "text/html": [
       "<h3>Volume 64: 3 October 1916 – 22 December 1916</h3>"
      ],
      "text/plain": [
       "<IPython.core.display.HTML object>"
      ]
     },
     "metadata": {},
     "output_type": "display_data"
    },
    {
     "data": {
      "text/html": [
       "<p>Estimated 309 of 313 pages (98.72% complete)</p>"
      ],
      "text/plain": [
       "<IPython.core.display.HTML object>"
      ]
     },
     "metadata": {},
     "output_type": "display_data"
    },
    {
     "data": {
      "text/html": [
       "<ul><li><a href=\"https://archivescollection.anu.edu.au/index.php/sydney-stock-exchange-stock-and-share-lists-65\">View description in archive</a></li><li><a href=\"https://openresearch-repository.anu.edu.au/handle/1885/146835\">View item in respository</a></li><li><a href=\"https://openresearch-repository.anu.edu.au/bitstream/1885/146835/2/AU%20NBAC%20N193-064.pdf\">View PDF</a></li><li><a href=\"https://cloudstor.aarnet.edu.au/plus/s/i02k4gxeEpMAUkm/download?path=AU%20NBAC%20N193-064\">Download images from Cloudstor</a></li><li><a href=\"volumes/vol-64-pages.csv\" download=\"volumes/vol-64-pages.csv\">Download page list as CSV</a></li></ul>"
      ],
      "text/plain": [
       "<IPython.core.display.HTML object>"
      ]
     },
     "metadata": {},
     "output_type": "display_data"
    },
    {
     "data": {
      "text/html": [
       "<h3>Volume 65: 8 January 1917 – 31 March 1917</h3>"
      ],
      "text/plain": [
       "<IPython.core.display.HTML object>"
      ]
     },
     "metadata": {},
     "output_type": "display_data"
    },
    {
     "data": {
      "text/html": [
       "<p>Estimated 317 of 319 pages (99.37% complete)</p>"
      ],
      "text/plain": [
       "<IPython.core.display.HTML object>"
      ]
     },
     "metadata": {},
     "output_type": "display_data"
    },
    {
     "data": {
      "text/html": [
       "<ul><li><a href=\"https://archivescollection.anu.edu.au/index.php/sydney-stock-exchange-stock-and-share-lists-66\">View description in archive</a></li><li><a href=\"https://openresearch-repository.anu.edu.au/handle/1885/146836\">View item in respository</a></li><li><a href=\"https://openresearch-repository.anu.edu.au/bitstream/1885/146836/2/AU%20NBAC%20N193-065.pdf\">View PDF</a></li><li><a href=\"https://cloudstor.aarnet.edu.au/plus/s/i02k4gxeEpMAUkm/download?path=AU%20NBAC%20N193-065\">Download images from Cloudstor</a></li><li><a href=\"volumes/vol-65-pages.csv\" download=\"volumes/vol-65-pages.csv\">Download page list as CSV</a></li></ul>"
      ],
      "text/plain": [
       "<IPython.core.display.HTML object>"
      ]
     },
     "metadata": {},
     "output_type": "display_data"
    },
    {
     "data": {
      "text/html": [
       "<h3>Volume 66: 2 April 1917 – 30 June 1917</h3>"
      ],
      "text/plain": [
       "<IPython.core.display.HTML object>"
      ]
     },
     "metadata": {},
     "output_type": "display_data"
    },
    {
     "data": {
      "text/html": [
       "<p>Estimated 307 of 314 pages (97.77% complete)</p>"
      ],
      "text/plain": [
       "<IPython.core.display.HTML object>"
      ]
     },
     "metadata": {},
     "output_type": "display_data"
    },
    {
     "data": {
      "text/html": [
       "<ul><li><a href=\"https://archivescollection.anu.edu.au/index.php/sydney-stock-exchange-stock-and-share-lists-67\">View description in archive</a></li><li><a href=\"https://openresearch-repository.anu.edu.au/handle/1885/146839\">View item in respository</a></li><li><a href=\"https://openresearch-repository.anu.edu.au/bitstream/1885/146839/2/AU%20NBAC%20N193-066.pdf\">View PDF</a></li><li><a href=\"https://cloudstor.aarnet.edu.au/plus/s/i02k4gxeEpMAUkm/download?path=AU%20NBAC%20N193-066\">Download images from Cloudstor</a></li><li><a href=\"volumes/vol-66-pages.csv\" download=\"volumes/vol-66-pages.csv\">Download page list as CSV</a></li></ul>"
      ],
      "text/plain": [
       "<IPython.core.display.HTML object>"
      ]
     },
     "metadata": {},
     "output_type": "display_data"
    },
    {
     "data": {
      "text/html": [
       "<h3>Volume 67: 2 July 1917 – 29 September 1917</h3>"
      ],
      "text/plain": [
       "<IPython.core.display.HTML object>"
      ]
     },
     "metadata": {},
     "output_type": "display_data"
    },
    {
     "data": {
      "text/html": [
       "<p>Estimated 343 of 346 pages (99.13% complete)</p>"
      ],
      "text/plain": [
       "<IPython.core.display.HTML object>"
      ]
     },
     "metadata": {},
     "output_type": "display_data"
    },
    {
     "data": {
      "text/html": [
       "<ul><li><a href=\"https://archivescollection.anu.edu.au/index.php/sydney-stock-exchange-stock-and-share-lists-68\">View description in archive</a></li><li><a href=\"https://openresearch-repository.anu.edu.au/handle/1885/146840\">View item in respository</a></li><li><a href=\"https://openresearch-repository.anu.edu.au/bitstream/1885/146840/2/AU%20NBAC%20N193-067.pdf\">View PDF</a></li><li><a href=\"https://cloudstor.aarnet.edu.au/plus/s/i02k4gxeEpMAUkm/download?path=AU%20NBAC%20N193-067\">Download images from Cloudstor</a></li><li><a href=\"volumes/vol-67-pages.csv\" download=\"volumes/vol-67-pages.csv\">Download page list as CSV</a></li></ul>"
      ],
      "text/plain": [
       "<IPython.core.display.HTML object>"
      ]
     },
     "metadata": {},
     "output_type": "display_data"
    },
    {
     "data": {
      "text/html": [
       "<h3>Volume 68: 2 October 1917 – 21 December 1917</h3>"
      ],
      "text/plain": [
       "<IPython.core.display.HTML object>"
      ]
     },
     "metadata": {},
     "output_type": "display_data"
    },
    {
     "data": {
      "text/html": [
       "<p>Estimated 313 of 317 pages (98.74% complete)</p>"
      ],
      "text/plain": [
       "<IPython.core.display.HTML object>"
      ]
     },
     "metadata": {},
     "output_type": "display_data"
    },
    {
     "data": {
      "text/html": [
       "<ul><li><a href=\"https://archivescollection.anu.edu.au/index.php/sydney-stock-exchange-stock-and-share-lists-69\">View description in archive</a></li><li><a href=\"https://openresearch-repository.anu.edu.au/handle/1885/146841\">View item in respository</a></li><li><a href=\"https://openresearch-repository.anu.edu.au/bitstream/1885/146841/2/AU%20NBAC%20N193-068.pdf\">View PDF</a></li><li><a href=\"https://cloudstor.aarnet.edu.au/plus/s/i02k4gxeEpMAUkm/download?path=AU%20NBAC%20N193-068\">Download images from Cloudstor</a></li><li><a href=\"volumes/vol-68-pages.csv\" download=\"volumes/vol-68-pages.csv\">Download page list as CSV</a></li></ul>"
      ],
      "text/plain": [
       "<IPython.core.display.HTML object>"
      ]
     },
     "metadata": {},
     "output_type": "display_data"
    },
    {
     "data": {
      "text/html": [
       "<h3>Volume 69: 7 January 1918 – 27 March 1918</h3>"
      ],
      "text/plain": [
       "<IPython.core.display.HTML object>"
      ]
     },
     "metadata": {},
     "output_type": "display_data"
    },
    {
     "data": {
      "text/html": [
       "<p>Estimated 310 of 310 pages (100.00% complete)</p>"
      ],
      "text/plain": [
       "<IPython.core.display.HTML object>"
      ]
     },
     "metadata": {},
     "output_type": "display_data"
    },
    {
     "data": {
      "text/html": [
       "<ul><li><a href=\"https://archivescollection.anu.edu.au/index.php/sydney-stock-exchange-stock-and-share-lists-70\">View description in archive</a></li><li><a href=\"https://openresearch-repository.anu.edu.au/handle/1885/146842\">View item in respository</a></li><li><a href=\"https://openresearch-repository.anu.edu.au/bitstream/1885/146842/2/AU%20NBAC%20N193-069.pdf\">View PDF</a></li><li><a href=\"https://cloudstor.aarnet.edu.au/plus/s/i02k4gxeEpMAUkm/download?path=AU%20NBAC%20N193-069\">Download images from Cloudstor</a></li><li><a href=\"volumes/vol-69-pages.csv\" download=\"volumes/vol-69-pages.csv\">Download page list as CSV</a></li></ul>"
      ],
      "text/plain": [
       "<IPython.core.display.HTML object>"
      ]
     },
     "metadata": {},
     "output_type": "display_data"
    },
    {
     "data": {
      "text/html": [
       "<h3>Volume 70: 4 April 1918 – 29 June 1918</h3>"
      ],
      "text/plain": [
       "<IPython.core.display.HTML object>"
      ]
     },
     "metadata": {},
     "output_type": "display_data"
    },
    {
     "data": {
      "text/html": [
       "<p>Estimated 325 of 326 pages (99.69% complete)</p>"
      ],
      "text/plain": [
       "<IPython.core.display.HTML object>"
      ]
     },
     "metadata": {},
     "output_type": "display_data"
    },
    {
     "data": {
      "text/html": [
       "<ul><li><a href=\"https://archivescollection.anu.edu.au/index.php/sydney-stock-exchange-stock-and-share-lists-71\">View description in archive</a></li><li><a href=\"https://openresearch-repository.anu.edu.au/handle/1885/146843\">View item in respository</a></li><li><a href=\"https://openresearch-repository.anu.edu.au/bitstream/1885/146843/2/AU%20NBAC%20N193-070.pdf\">View PDF</a></li><li><a href=\"https://cloudstor.aarnet.edu.au/plus/s/i02k4gxeEpMAUkm/download?path=AU%20NBAC%20N193-070\">Download images from Cloudstor</a></li><li><a href=\"volumes/vol-70-pages.csv\" download=\"volumes/vol-70-pages.csv\">Download page list as CSV</a></li></ul>"
      ],
      "text/plain": [
       "<IPython.core.display.HTML object>"
      ]
     },
     "metadata": {},
     "output_type": "display_data"
    },
    {
     "data": {
      "text/html": [
       "<h3>Volume 71: 1 July 1918 – 30 September 1918</h3>"
      ],
      "text/plain": [
       "<IPython.core.display.HTML object>"
      ]
     },
     "metadata": {},
     "output_type": "display_data"
    },
    {
     "data": {
      "text/html": [
       "<p>Estimated 351 of 351 pages (100.00% complete)</p>"
      ],
      "text/plain": [
       "<IPython.core.display.HTML object>"
      ]
     },
     "metadata": {},
     "output_type": "display_data"
    },
    {
     "data": {
      "text/html": [
       "<ul><li><a href=\"https://archivescollection.anu.edu.au/index.php/sydney-stock-exchange-stock-and-share-lists-72\">View description in archive</a></li><li><a href=\"https://openresearch-repository.anu.edu.au/handle/1885/146844\">View item in respository</a></li><li><a href=\"https://openresearch-repository.anu.edu.au/bitstream/1885/146844/2/AU%20NBAC%20N193-071.pdf\">View PDF</a></li><li><a href=\"https://cloudstor.aarnet.edu.au/plus/s/i02k4gxeEpMAUkm/download?path=AU%20NBAC%20N193-071\">Download images from Cloudstor</a></li><li><a href=\"volumes/vol-71-pages.csv\" download=\"volumes/vol-71-pages.csv\">Download page list as CSV</a></li></ul>"
      ],
      "text/plain": [
       "<IPython.core.display.HTML object>"
      ]
     },
     "metadata": {},
     "output_type": "display_data"
    },
    {
     "data": {
      "text/html": [
       "<h3>Volume 72: 1 October 1918 – 20 December 1918</h3>"
      ],
      "text/plain": [
       "<IPython.core.display.HTML object>"
      ]
     },
     "metadata": {},
     "output_type": "display_data"
    },
    {
     "data": {
      "text/html": [
       "<p>Estimated 296 of 302 pages (98.01% complete)</p>"
      ],
      "text/plain": [
       "<IPython.core.display.HTML object>"
      ]
     },
     "metadata": {},
     "output_type": "display_data"
    },
    {
     "data": {
      "text/html": [
       "<ul><li><a href=\"https://archivescollection.anu.edu.au/index.php/sydney-stock-exchange-stock-and-share-lists-73\">View description in archive</a></li><li><a href=\"https://openresearch-repository.anu.edu.au/handle/1885/146845\">View item in respository</a></li><li><a href=\"https://openresearch-repository.anu.edu.au/bitstream/1885/146845/2/AU%20NBAC%20N193-072.pdf\">View PDF</a></li><li><a href=\"https://cloudstor.aarnet.edu.au/plus/s/i02k4gxeEpMAUkm/download?path=AU%20NBAC%20N193-072\">Download images from Cloudstor</a></li><li><a href=\"volumes/vol-72-pages.csv\" download=\"volumes/vol-72-pages.csv\">Download page list as CSV</a></li></ul>"
      ],
      "text/plain": [
       "<IPython.core.display.HTML object>"
      ]
     },
     "metadata": {},
     "output_type": "display_data"
    },
    {
     "data": {
      "text/html": [
       "<h3>Volume 73: 6 January 1919 – 31 March 1919</h3>"
      ],
      "text/plain": [
       "<IPython.core.display.HTML object>"
      ]
     },
     "metadata": {},
     "output_type": "display_data"
    },
    {
     "data": {
      "text/html": [
       "<p>Estimated 321 of 324 pages (99.07% complete)</p>"
      ],
      "text/plain": [
       "<IPython.core.display.HTML object>"
      ]
     },
     "metadata": {},
     "output_type": "display_data"
    },
    {
     "data": {
      "text/html": [
       "<ul><li><a href=\"https://archivescollection.anu.edu.au/index.php/sydney-stock-exchange-stock-and-share-lists-74\">View description in archive</a></li><li><a href=\"https://openresearch-repository.anu.edu.au/handle/1885/146846\">View item in respository</a></li><li><a href=\"https://openresearch-repository.anu.edu.au/bitstream/1885/146846/2/AU%20NBAC%20N193-073.pdf\">View PDF</a></li><li><a href=\"https://cloudstor.aarnet.edu.au/plus/s/i02k4gxeEpMAUkm/download?path=AU%20NBAC%20N193-073\">Download images from Cloudstor</a></li><li><a href=\"volumes/vol-73-pages.csv\" download=\"volumes/vol-73-pages.csv\">Download page list as CSV</a></li></ul>"
      ],
      "text/plain": [
       "<IPython.core.display.HTML object>"
      ]
     },
     "metadata": {},
     "output_type": "display_data"
    },
    {
     "data": {
      "text/html": [
       "<h3>Volume 74: 1 April 1919 – 30 June 1919</h3>"
      ],
      "text/plain": [
       "<IPython.core.display.HTML object>"
      ]
     },
     "metadata": {},
     "output_type": "display_data"
    },
    {
     "data": {
      "text/html": [
       "<p>Estimated 314 of 314 pages (100.00% complete)</p>"
      ],
      "text/plain": [
       "<IPython.core.display.HTML object>"
      ]
     },
     "metadata": {},
     "output_type": "display_data"
    },
    {
     "data": {
      "text/html": [
       "<ul><li><a href=\"https://archivescollection.anu.edu.au/index.php/sydney-stock-exchange-stock-and-share-lists-75\">View description in archive</a></li><li><a href=\"https://openresearch-repository.anu.edu.au/handle/1885/146847\">View item in respository</a></li><li><a href=\"https://openresearch-repository.anu.edu.au/bitstream/1885/146847/2/AU%20NBAC%20N193-074.pdf\">View PDF</a></li><li><a href=\"https://cloudstor.aarnet.edu.au/plus/s/i02k4gxeEpMAUkm/download?path=AU%20NBAC%20N193-074\">Download images from Cloudstor</a></li><li><a href=\"volumes/vol-74-pages.csv\" download=\"volumes/vol-74-pages.csv\">Download page list as CSV</a></li></ul>"
      ],
      "text/plain": [
       "<IPython.core.display.HTML object>"
      ]
     },
     "metadata": {},
     "output_type": "display_data"
    },
    {
     "data": {
      "text/html": [
       "<h3>Volume 75: 1 July 1919 – 30 September 1919</h3>"
      ],
      "text/plain": [
       "<IPython.core.display.HTML object>"
      ]
     },
     "metadata": {},
     "output_type": "display_data"
    },
    {
     "data": {
      "text/html": [
       "<p>Estimated 348 of 349 pages (99.71% complete)</p>"
      ],
      "text/plain": [
       "<IPython.core.display.HTML object>"
      ]
     },
     "metadata": {},
     "output_type": "display_data"
    },
    {
     "data": {
      "text/html": [
       "<ul><li><a href=\"https://archivescollection.anu.edu.au/index.php/sydney-stock-exchange-stock-and-share-lists-76\">View description in archive</a></li><li><a href=\"https://openresearch-repository.anu.edu.au/handle/1885/146848\">View item in respository</a></li><li><a href=\"https://openresearch-repository.anu.edu.au/bitstream/1885/146848/2/AU%20NBAC%20N193-075.pdf\">View PDF</a></li><li><a href=\"https://cloudstor.aarnet.edu.au/plus/s/i02k4gxeEpMAUkm/download?path=AU%20NBAC%20N193-075\">Download images from Cloudstor</a></li><li><a href=\"volumes/vol-75-pages.csv\" download=\"volumes/vol-75-pages.csv\">Download page list as CSV</a></li></ul>"
      ],
      "text/plain": [
       "<IPython.core.display.HTML object>"
      ]
     },
     "metadata": {},
     "output_type": "display_data"
    },
    {
     "data": {
      "text/html": [
       "<h3>Volume 76: 1 October 1919 – 20 December 1919</h3>"
      ],
      "text/plain": [
       "<IPython.core.display.HTML object>"
      ]
     },
     "metadata": {},
     "output_type": "display_data"
    },
    {
     "data": {
      "text/html": [
       "<p>Estimated 306 of 309 pages (99.03% complete)</p>"
      ],
      "text/plain": [
       "<IPython.core.display.HTML object>"
      ]
     },
     "metadata": {},
     "output_type": "display_data"
    },
    {
     "data": {
      "text/html": [
       "<ul><li><a href=\"https://archivescollection.anu.edu.au/index.php/sydney-stock-exchange-stock-and-share-lists-77\">View description in archive</a></li><li><a href=\"https://openresearch-repository.anu.edu.au/handle/1885/146849\">View item in respository</a></li><li><a href=\"https://openresearch-repository.anu.edu.au/bitstream/1885/146849/2/AU%20NBAC%20N193-076.pdf\">View PDF</a></li><li><a href=\"https://cloudstor.aarnet.edu.au/plus/s/i02k4gxeEpMAUkm/download?path=AU%20NBAC%20N193-076\">Download images from Cloudstor</a></li><li><a href=\"volumes/vol-76-pages.csv\" download=\"volumes/vol-76-pages.csv\">Download page list as CSV</a></li></ul>"
      ],
      "text/plain": [
       "<IPython.core.display.HTML object>"
      ]
     },
     "metadata": {},
     "output_type": "display_data"
    },
    {
     "data": {
      "text/html": [
       "<h3>Volume 77: 5 January 1920 – 31 March 1920</h3>"
      ],
      "text/plain": [
       "<IPython.core.display.HTML object>"
      ]
     },
     "metadata": {},
     "output_type": "display_data"
    },
    {
     "data": {
      "text/html": [
       "<p>Estimated 331 of 334 pages (99.10% complete)</p>"
      ],
      "text/plain": [
       "<IPython.core.display.HTML object>"
      ]
     },
     "metadata": {},
     "output_type": "display_data"
    },
    {
     "data": {
      "text/html": [
       "<ul><li><a href=\"https://archivescollection.anu.edu.au/index.php/sydney-stock-exchange-stock-and-share-lists-78\">View description in archive</a></li><li><a href=\"https://openresearch-repository.anu.edu.au/handle/1885/146850\">View item in respository</a></li><li><a href=\"https://openresearch-repository.anu.edu.au/bitstream/1885/146850/2/AU%20NBAC%20N193-077.pdf\">View PDF</a></li><li><a href=\"https://cloudstor.aarnet.edu.au/plus/s/i02k4gxeEpMAUkm/download?path=AU%20NBAC%20N193-077\">Download images from Cloudstor</a></li><li><a href=\"volumes/vol-77-pages.csv\" download=\"volumes/vol-77-pages.csv\">Download page list as CSV</a></li></ul>"
      ],
      "text/plain": [
       "<IPython.core.display.HTML object>"
      ]
     },
     "metadata": {},
     "output_type": "display_data"
    },
    {
     "data": {
      "text/html": [
       "<h3>Volume 78: 8 April 1920 – 30 June 1920</h3>"
      ],
      "text/plain": [
       "<IPython.core.display.HTML object>"
      ]
     },
     "metadata": {},
     "output_type": "display_data"
    },
    {
     "data": {
      "text/html": [
       "<p>Estimated 309 of 309 pages (100.00% complete)</p>"
      ],
      "text/plain": [
       "<IPython.core.display.HTML object>"
      ]
     },
     "metadata": {},
     "output_type": "display_data"
    },
    {
     "data": {
      "text/html": [
       "<ul><li><a href=\"https://archivescollection.anu.edu.au/index.php/sydney-stock-exchange-stock-and-share-lists-79\">View description in archive</a></li><li><a href=\"https://openresearch-repository.anu.edu.au/handle/1885/146851\">View item in respository</a></li><li><a href=\"https://openresearch-repository.anu.edu.au/bitstream/1885/146851/2/AU%20NBAC%20N193-078.pdf\">View PDF</a></li><li><a href=\"https://cloudstor.aarnet.edu.au/plus/s/i02k4gxeEpMAUkm/download?path=AU%20NBAC%20N193-078\">Download images from Cloudstor</a></li><li><a href=\"volumes/vol-78-pages.csv\" download=\"volumes/vol-78-pages.csv\">Download page list as CSV</a></li></ul>"
      ],
      "text/plain": [
       "<IPython.core.display.HTML object>"
      ]
     },
     "metadata": {},
     "output_type": "display_data"
    },
    {
     "data": {
      "text/html": [
       "<h3>Volume 79: 1 July 1920 – 30 September 1920</h3>"
      ],
      "text/plain": [
       "<IPython.core.display.HTML object>"
      ]
     },
     "metadata": {},
     "output_type": "display_data"
    },
    {
     "data": {
      "text/html": [
       "<p>Estimated 351 of 351 pages (100.00% complete)</p>"
      ],
      "text/plain": [
       "<IPython.core.display.HTML object>"
      ]
     },
     "metadata": {},
     "output_type": "display_data"
    },
    {
     "data": {
      "text/html": [
       "<ul><li><a href=\"https://archivescollection.anu.edu.au/index.php/sydney-stock-exchange-stock-and-share-lists-80\">View description in archive</a></li><li><a href=\"https://openresearch-repository.anu.edu.au/handle/1885/146852\">View item in respository</a></li><li><a href=\"https://openresearch-repository.anu.edu.au/bitstream/1885/146852/2/AU%20NBAC%20N193-079.pdf\">View PDF</a></li><li><a href=\"https://cloudstor.aarnet.edu.au/plus/s/i02k4gxeEpMAUkm/download?path=AU%20NBAC%20N193-079\">Download images from Cloudstor</a></li><li><a href=\"volumes/vol-79-pages.csv\" download=\"volumes/vol-79-pages.csv\">Download page list as CSV</a></li></ul>"
      ],
      "text/plain": [
       "<IPython.core.display.HTML object>"
      ]
     },
     "metadata": {},
     "output_type": "display_data"
    },
    {
     "data": {
      "text/html": [
       "<h3>Volume 80: 1 October 1920 – 23 December 1920</h3>"
      ],
      "text/plain": [
       "<IPython.core.display.HTML object>"
      ]
     },
     "metadata": {},
     "output_type": "display_data"
    },
    {
     "data": {
      "text/html": [
       "<p>Estimated 317 of 319 pages (99.37% complete)</p>"
      ],
      "text/plain": [
       "<IPython.core.display.HTML object>"
      ]
     },
     "metadata": {},
     "output_type": "display_data"
    },
    {
     "data": {
      "text/html": [
       "<ul><li><a href=\"https://archivescollection.anu.edu.au/index.php/sydney-stock-exchange-stock-and-share-lists-81\">View description in archive</a></li><li><a href=\"https://openresearch-repository.anu.edu.au/handle/1885/146853\">View item in respository</a></li><li><a href=\"https://openresearch-repository.anu.edu.au/bitstream/1885/146853/2/AU%20NBAC%20N193-080.pdf\">View PDF</a></li><li><a href=\"https://cloudstor.aarnet.edu.au/plus/s/i02k4gxeEpMAUkm/download?path=AU%20NBAC%20N193-080\">Download images from Cloudstor</a></li><li><a href=\"volumes/vol-80-pages.csv\" download=\"volumes/vol-80-pages.csv\">Download page list as CSV</a></li></ul>"
      ],
      "text/plain": [
       "<IPython.core.display.HTML object>"
      ]
     },
     "metadata": {},
     "output_type": "display_data"
    },
    {
     "data": {
      "text/html": [
       "<h3>Volume 81: 10 January 1921 – 31 March 1921</h3>"
      ],
      "text/plain": [
       "<IPython.core.display.HTML object>"
      ]
     },
     "metadata": {},
     "output_type": "display_data"
    },
    {
     "data": {
      "text/html": [
       "<p>Estimated 281 of 285 pages (98.60% complete)</p>"
      ],
      "text/plain": [
       "<IPython.core.display.HTML object>"
      ]
     },
     "metadata": {},
     "output_type": "display_data"
    },
    {
     "data": {
      "text/html": [
       "<ul><li><a href=\"https://archivescollection.anu.edu.au/index.php/sydney-stock-exchange-stock-and-share-lists-82\">View description in archive</a></li><li><a href=\"https://openresearch-repository.anu.edu.au/handle/1885/146854\">View item in respository</a></li><li><a href=\"https://openresearch-repository.anu.edu.au/bitstream/1885/146854/2/AU%20NBAC%20N193-081.pdf\">View PDF</a></li><li><a href=\"https://cloudstor.aarnet.edu.au/plus/s/i02k4gxeEpMAUkm/download?path=AU%20NBAC%20N193-081\">Download images from Cloudstor</a></li><li><a href=\"volumes/vol-81-pages.csv\" download=\"volumes/vol-81-pages.csv\">Download page list as CSV</a></li></ul>"
      ],
      "text/plain": [
       "<IPython.core.display.HTML object>"
      ]
     },
     "metadata": {},
     "output_type": "display_data"
    },
    {
     "data": {
      "text/html": [
       "<h3>Volume 82: 1 April 1921 – 30 June 1921</h3>"
      ],
      "text/plain": [
       "<IPython.core.display.HTML object>"
      ]
     },
     "metadata": {},
     "output_type": "display_data"
    },
    {
     "data": {
      "text/html": [
       "<p>Estimated 333 of 336 pages (99.11% complete)</p>"
      ],
      "text/plain": [
       "<IPython.core.display.HTML object>"
      ]
     },
     "metadata": {},
     "output_type": "display_data"
    },
    {
     "data": {
      "text/html": [
       "<ul><li><a href=\"https://archivescollection.anu.edu.au/index.php/sydney-stock-exchange-stock-and-share-lists-83\">View description in archive</a></li><li><a href=\"https://openresearch-repository.anu.edu.au/handle/1885/146855\">View item in respository</a></li><li><a href=\"https://openresearch-repository.anu.edu.au/bitstream/1885/146855/2/AU%20NBAC%20N193-082.pdf\">View PDF</a></li><li><a href=\"https://cloudstor.aarnet.edu.au/plus/s/i02k4gxeEpMAUkm/download?path=AU%20NBAC%20N193-082\">Download images from Cloudstor</a></li><li><a href=\"volumes/vol-82-pages.csv\" download=\"volumes/vol-82-pages.csv\">Download page list as CSV</a></li></ul>"
      ],
      "text/plain": [
       "<IPython.core.display.HTML object>"
      ]
     },
     "metadata": {},
     "output_type": "display_data"
    },
    {
     "data": {
      "text/html": [
       "<h3>Volume 83: 1 July 1921 – 30 September 1921</h3>"
      ],
      "text/plain": [
       "<IPython.core.display.HTML object>"
      ]
     },
     "metadata": {},
     "output_type": "display_data"
    },
    {
     "data": {
      "text/html": [
       "<p>Estimated 350 of 351 pages (99.72% complete)</p>"
      ],
      "text/plain": [
       "<IPython.core.display.HTML object>"
      ]
     },
     "metadata": {},
     "output_type": "display_data"
    },
    {
     "data": {
      "text/html": [
       "<ul><li><a href=\"https://archivescollection.anu.edu.au/index.php/sydney-stock-exchange-stock-and-share-lists-84\">View description in archive</a></li><li><a href=\"https://openresearch-repository.anu.edu.au/handle/1885/146856\">View item in respository</a></li><li><a href=\"https://openresearch-repository.anu.edu.au/bitstream/1885/146856/2/AU%20NBAC%20N193-083.pdf\">View PDF</a></li><li><a href=\"https://cloudstor.aarnet.edu.au/plus/s/i02k4gxeEpMAUkm/download?path=AU%20NBAC%20N193-083\">Download images from Cloudstor</a></li><li><a href=\"volumes/vol-83-pages.csv\" download=\"volumes/vol-83-pages.csv\">Download page list as CSV</a></li></ul>"
      ],
      "text/plain": [
       "<IPython.core.display.HTML object>"
      ]
     },
     "metadata": {},
     "output_type": "display_data"
    },
    {
     "data": {
      "text/html": [
       "<h3>Volume 84: 1 October 1921 – 22 December 1921</h3>"
      ],
      "text/plain": [
       "<IPython.core.display.HTML object>"
      ]
     },
     "metadata": {},
     "output_type": "display_data"
    },
    {
     "data": {
      "text/html": [
       "<p>Estimated 312 of 314 pages (99.36% complete)</p>"
      ],
      "text/plain": [
       "<IPython.core.display.HTML object>"
      ]
     },
     "metadata": {},
     "output_type": "display_data"
    },
    {
     "data": {
      "text/html": [
       "<ul><li><a href=\"https://archivescollection.anu.edu.au/index.php/sydney-stock-exchange-stock-and-share-lists-85\">View description in archive</a></li><li><a href=\"https://openresearch-repository.anu.edu.au/handle/1885/146857\">View item in respository</a></li><li><a href=\"https://openresearch-repository.anu.edu.au/bitstream/1885/146857/2/AU%20NBAC%20N193-084.pdf\">View PDF</a></li><li><a href=\"https://cloudstor.aarnet.edu.au/plus/s/i02k4gxeEpMAUkm/download?path=AU%20NBAC%20N193-084\">Download images from Cloudstor</a></li><li><a href=\"volumes/vol-84-pages.csv\" download=\"volumes/vol-84-pages.csv\">Download page list as CSV</a></li></ul>"
      ],
      "text/plain": [
       "<IPython.core.display.HTML object>"
      ]
     },
     "metadata": {},
     "output_type": "display_data"
    },
    {
     "data": {
      "text/html": [
       "<h3>Volume 85: 9 January 1922 – 31 March 1922</h3>"
      ],
      "text/plain": [
       "<IPython.core.display.HTML object>"
      ]
     },
     "metadata": {},
     "output_type": "display_data"
    },
    {
     "data": {
      "text/html": [
       "<p>Estimated 315 of 317 pages (99.37% complete)</p>"
      ],
      "text/plain": [
       "<IPython.core.display.HTML object>"
      ]
     },
     "metadata": {},
     "output_type": "display_data"
    },
    {
     "data": {
      "text/html": [
       "<ul><li><a href=\"https://archivescollection.anu.edu.au/index.php/sydney-stock-exchange-stock-and-share-lists-86\">View description in archive</a></li><li><a href=\"https://openresearch-repository.anu.edu.au/handle/1885/146858\">View item in respository</a></li><li><a href=\"https://openresearch-repository.anu.edu.au/bitstream/1885/146858/2/AU%20NBAC%20N193-085.pdf\">View PDF</a></li><li><a href=\"https://cloudstor.aarnet.edu.au/plus/s/i02k4gxeEpMAUkm/download?path=AU%20NBAC%20N193-085\">Download images from Cloudstor</a></li><li><a href=\"volumes/vol-85-pages.csv\" download=\"volumes/vol-85-pages.csv\">Download page list as CSV</a></li></ul>"
      ],
      "text/plain": [
       "<IPython.core.display.HTML object>"
      ]
     },
     "metadata": {},
     "output_type": "display_data"
    },
    {
     "data": {
      "text/html": [
       "<h3>Volume 86: 1 April 1922 – 30 June 1922</h3>"
      ],
      "text/plain": [
       "<IPython.core.display.HTML object>"
      ]
     },
     "metadata": {},
     "output_type": "display_data"
    },
    {
     "data": {
      "text/html": [
       "<p>Estimated 307 of 309 pages (99.35% complete)</p>"
      ],
      "text/plain": [
       "<IPython.core.display.HTML object>"
      ]
     },
     "metadata": {},
     "output_type": "display_data"
    },
    {
     "data": {
      "text/html": [
       "<ul><li><a href=\"https://archivescollection.anu.edu.au/index.php/sydney-stock-exchange-stock-and-share-lists-87\">View description in archive</a></li><li><a href=\"https://openresearch-repository.anu.edu.au/handle/1885/146859\">View item in respository</a></li><li><a href=\"https://openresearch-repository.anu.edu.au/bitstream/1885/146859/2/AU%20NBAC%20N193-086.pdf\">View PDF</a></li><li><a href=\"https://cloudstor.aarnet.edu.au/plus/s/i02k4gxeEpMAUkm/download?path=AU%20NBAC%20N193-086\">Download images from Cloudstor</a></li><li><a href=\"volumes/vol-86-pages.csv\" download=\"volumes/vol-86-pages.csv\">Download page list as CSV</a></li></ul>"
      ],
      "text/plain": [
       "<IPython.core.display.HTML object>"
      ]
     },
     "metadata": {},
     "output_type": "display_data"
    },
    {
     "data": {
      "text/html": [
       "<h3>Volume 87: 1 July 1922 – 30 September 1922</h3>"
      ],
      "text/plain": [
       "<IPython.core.display.HTML object>"
      ]
     },
     "metadata": {},
     "output_type": "display_data"
    },
    {
     "data": {
      "text/html": [
       "<p>Estimated 348 of 348 pages (100.00% complete)</p>"
      ],
      "text/plain": [
       "<IPython.core.display.HTML object>"
      ]
     },
     "metadata": {},
     "output_type": "display_data"
    },
    {
     "data": {
      "text/html": [
       "<ul><li><a href=\"https://archivescollection.anu.edu.au/index.php/sydney-stock-exchange-stock-and-share-lists-88\">View description in archive</a></li><li><a href=\"https://openresearch-repository.anu.edu.au/handle/1885/146860\">View item in respository</a></li><li><a href=\"https://openresearch-repository.anu.edu.au/bitstream/1885/146860/2/AU%20NBAC%20N193-087.pdf\">View PDF</a></li><li><a href=\"https://cloudstor.aarnet.edu.au/plus/s/i02k4gxeEpMAUkm/download?path=AU%20NBAC%20N193-087\">Download images from Cloudstor</a></li><li><a href=\"volumes/vol-87-pages.csv\" download=\"volumes/vol-87-pages.csv\">Download page list as CSV</a></li></ul>"
      ],
      "text/plain": [
       "<IPython.core.display.HTML object>"
      ]
     },
     "metadata": {},
     "output_type": "display_data"
    },
    {
     "data": {
      "text/html": [
       "<h3>Volume 88: 3 October 1922 – 22 December 1922</h3>"
      ],
      "text/plain": [
       "<IPython.core.display.HTML object>"
      ]
     },
     "metadata": {},
     "output_type": "display_data"
    },
    {
     "data": {
      "text/html": [
       "<p>Estimated 315 of 317 pages (99.37% complete)</p>"
      ],
      "text/plain": [
       "<IPython.core.display.HTML object>"
      ]
     },
     "metadata": {},
     "output_type": "display_data"
    },
    {
     "data": {
      "text/html": [
       "<ul><li><a href=\"https://archivescollection.anu.edu.au/index.php/sydney-stock-exchange-stock-and-share-lists-89\">View description in archive</a></li><li><a href=\"https://openresearch-repository.anu.edu.au/handle/1885/146861\">View item in respository</a></li><li><a href=\"https://openresearch-repository.anu.edu.au/bitstream/1885/146861/2/AU%20NBAC%20N193-088.pdf\">View PDF</a></li><li><a href=\"https://cloudstor.aarnet.edu.au/plus/s/i02k4gxeEpMAUkm/download?path=AU%20NBAC%20N193-088\">Download images from Cloudstor</a></li><li><a href=\"volumes/vol-88-pages.csv\" download=\"volumes/vol-88-pages.csv\">Download page list as CSV</a></li></ul>"
      ],
      "text/plain": [
       "<IPython.core.display.HTML object>"
      ]
     },
     "metadata": {},
     "output_type": "display_data"
    },
    {
     "data": {
      "text/html": [
       "<h3>Volume 89: 8 January 1923 – 28 March 1923</h3>"
      ],
      "text/plain": [
       "<IPython.core.display.HTML object>"
      ]
     },
     "metadata": {},
     "output_type": "display_data"
    },
    {
     "data": {
      "text/html": [
       "<p>Estimated 305 of 307 pages (99.35% complete)</p>"
      ],
      "text/plain": [
       "<IPython.core.display.HTML object>"
      ]
     },
     "metadata": {},
     "output_type": "display_data"
    },
    {
     "data": {
      "text/html": [
       "<ul><li><a href=\"https://archivescollection.anu.edu.au/index.php/sydney-stock-exchange-stock-and-share-lists-90\">View description in archive</a></li><li><a href=\"https://openresearch-repository.anu.edu.au/handle/1885/146862\">View item in respository</a></li><li><a href=\"https://openresearch-repository.anu.edu.au/bitstream/1885/146862/2/AU%20NBAC%20N193-089.pdf\">View PDF</a></li><li><a href=\"https://cloudstor.aarnet.edu.au/plus/s/i02k4gxeEpMAUkm/download?path=AU%20NBAC%20N193-089\">Download images from Cloudstor</a></li><li><a href=\"volumes/vol-89-pages.csv\" download=\"volumes/vol-89-pages.csv\">Download page list as CSV</a></li></ul>"
      ],
      "text/plain": [
       "<IPython.core.display.HTML object>"
      ]
     },
     "metadata": {},
     "output_type": "display_data"
    },
    {
     "data": {
      "text/html": [
       "<h3>Volume 90: 5 April 1923 – 30 June 1923</h3>"
      ],
      "text/plain": [
       "<IPython.core.display.HTML object>"
      ]
     },
     "metadata": {},
     "output_type": "display_data"
    },
    {
     "data": {
      "text/html": [
       "<p>Estimated 316 of 321 pages (98.44% complete)</p>"
      ],
      "text/plain": [
       "<IPython.core.display.HTML object>"
      ]
     },
     "metadata": {},
     "output_type": "display_data"
    },
    {
     "data": {
      "text/html": [
       "<ul><li><a href=\"https://archivescollection.anu.edu.au/index.php/sydney-stock-exchange-stock-and-share-lists-91\">View description in archive</a></li><li><a href=\"https://openresearch-repository.anu.edu.au/handle/1885/146863\">View item in respository</a></li><li><a href=\"https://openresearch-repository.anu.edu.au/bitstream/1885/146863/2/AU%20NBAC%20N193-090.pdf\">View PDF</a></li><li><a href=\"https://cloudstor.aarnet.edu.au/plus/s/i02k4gxeEpMAUkm/download?path=AU%20NBAC%20N193-090\">Download images from Cloudstor</a></li><li><a href=\"volumes/vol-90-pages.csv\" download=\"volumes/vol-90-pages.csv\">Download page list as CSV</a></li></ul>"
      ],
      "text/plain": [
       "<IPython.core.display.HTML object>"
      ]
     },
     "metadata": {},
     "output_type": "display_data"
    },
    {
     "data": {
      "text/html": [
       "<h3>Volume 91: 2 July 1923 – 28 September 1923</h3>"
      ],
      "text/plain": [
       "<IPython.core.display.HTML object>"
      ]
     },
     "metadata": {},
     "output_type": "display_data"
    },
    {
     "data": {
      "text/html": [
       "<p>Estimated 343 of 344 pages (99.71% complete)</p>"
      ],
      "text/plain": [
       "<IPython.core.display.HTML object>"
      ]
     },
     "metadata": {},
     "output_type": "display_data"
    },
    {
     "data": {
      "text/html": [
       "<ul><li><a href=\"https://archivescollection.anu.edu.au/index.php/sydney-stock-exchange-stock-and-share-lists-92\">View description in archive</a></li><li><a href=\"https://openresearch-repository.anu.edu.au/handle/1885/146864\">View item in respository</a></li><li><a href=\"https://openresearch-repository.anu.edu.au/bitstream/1885/146864/2/AU%20NBAC%20N193-091.pdf\">View PDF</a></li><li><a href=\"https://cloudstor.aarnet.edu.au/plus/s/i02k4gxeEpMAUkm/download?path=AU%20NBAC%20N193-091\">Download images from Cloudstor</a></li><li><a href=\"volumes/vol-91-pages.csv\" download=\"volumes/vol-91-pages.csv\">Download page list as CSV</a></li></ul>"
      ],
      "text/plain": [
       "<IPython.core.display.HTML object>"
      ]
     },
     "metadata": {},
     "output_type": "display_data"
    },
    {
     "data": {
      "text/html": [
       "<h3>Volume 92: 29 September 1923 – 21 December 1923</h3>"
      ],
      "text/plain": [
       "<IPython.core.display.HTML object>"
      ]
     },
     "metadata": {},
     "output_type": "display_data"
    },
    {
     "data": {
      "text/html": [
       "<p>Estimated 319 of 319 pages (100.00% complete)</p>"
      ],
      "text/plain": [
       "<IPython.core.display.HTML object>"
      ]
     },
     "metadata": {},
     "output_type": "display_data"
    },
    {
     "data": {
      "text/html": [
       "<ul><li><a href=\"https://archivescollection.anu.edu.au/index.php/sydney-stock-exchange-stock-and-share-lists-93\">View description in archive</a></li><li><a href=\"https://openresearch-repository.anu.edu.au/handle/1885/146865\">View item in respository</a></li><li><a href=\"https://openresearch-repository.anu.edu.au/bitstream/1885/146865/2/AU%20NBAC%20N193-092.pdf\">View PDF</a></li><li><a href=\"https://cloudstor.aarnet.edu.au/plus/s/i02k4gxeEpMAUkm/download?path=AU%20NBAC%20N193-092\">Download images from Cloudstor</a></li><li><a href=\"volumes/vol-92-pages.csv\" download=\"volumes/vol-92-pages.csv\">Download page list as CSV</a></li></ul>"
      ],
      "text/plain": [
       "<IPython.core.display.HTML object>"
      ]
     },
     "metadata": {},
     "output_type": "display_data"
    },
    {
     "data": {
      "text/html": [
       "<h3>Volume 93: 7 January 1924 – 31 March 1924</h3>"
      ],
      "text/plain": [
       "<IPython.core.display.HTML object>"
      ]
     },
     "metadata": {},
     "output_type": "display_data"
    },
    {
     "data": {
      "text/html": [
       "<p>Estimated 325 of 327 pages (99.39% complete)</p>"
      ],
      "text/plain": [
       "<IPython.core.display.HTML object>"
      ]
     },
     "metadata": {},
     "output_type": "display_data"
    },
    {
     "data": {
      "text/html": [
       "<ul><li><a href=\"https://archivescollection.anu.edu.au/index.php/sydney-stock-exchange-stock-and-share-lists-94\">View description in archive</a></li><li><a href=\"https://openresearch-repository.anu.edu.au/handle/1885/146866\">View item in respository</a></li><li><a href=\"https://openresearch-repository.anu.edu.au/bitstream/1885/146866/2/AU%20NBAC%20N193-093.pdf\">View PDF</a></li><li><a href=\"https://cloudstor.aarnet.edu.au/plus/s/i02k4gxeEpMAUkm/download?path=AU%20NBAC%20N193-093\">Download images from Cloudstor</a></li><li><a href=\"volumes/vol-93-pages.csv\" download=\"volumes/vol-93-pages.csv\">Download page list as CSV</a></li></ul>"
      ],
      "text/plain": [
       "<IPython.core.display.HTML object>"
      ]
     },
     "metadata": {},
     "output_type": "display_data"
    },
    {
     "data": {
      "text/html": [
       "<h3>Volume 94: 1 April 1924 – 30 June 1924</h3>"
      ],
      "text/plain": [
       "<IPython.core.display.HTML object>"
      ]
     },
     "metadata": {},
     "output_type": "display_data"
    },
    {
     "data": {
      "text/html": [
       "<p>Estimated 301 of 304 pages (99.01% complete)</p>"
      ],
      "text/plain": [
       "<IPython.core.display.HTML object>"
      ]
     },
     "metadata": {},
     "output_type": "display_data"
    },
    {
     "data": {
      "text/html": [
       "<ul><li><a href=\"https://archivescollection.anu.edu.au/index.php/sydney-stock-exchange-stock-and-share-lists-95\">View description in archive</a></li><li><a href=\"https://openresearch-repository.anu.edu.au/handle/1885/146867\">View item in respository</a></li><li><a href=\"https://openresearch-repository.anu.edu.au/bitstream/1885/146867/2/AU%20NBAC%20N193-094.pdf\">View PDF</a></li><li><a href=\"https://cloudstor.aarnet.edu.au/plus/s/i02k4gxeEpMAUkm/download?path=AU%20NBAC%20N193-094\">Download images from Cloudstor</a></li><li><a href=\"volumes/vol-94-pages.csv\" download=\"volumes/vol-94-pages.csv\">Download page list as CSV</a></li></ul>"
      ],
      "text/plain": [
       "<IPython.core.display.HTML object>"
      ]
     },
     "metadata": {},
     "output_type": "display_data"
    },
    {
     "data": {
      "text/html": [
       "<h3>Volume 95: 1 July 1924 – 30 September 1924</h3>"
      ],
      "text/plain": [
       "<IPython.core.display.HTML object>"
      ]
     },
     "metadata": {},
     "output_type": "display_data"
    },
    {
     "data": {
      "text/html": [
       "<p>Estimated 351 of 351 pages (100.00% complete)</p>"
      ],
      "text/plain": [
       "<IPython.core.display.HTML object>"
      ]
     },
     "metadata": {},
     "output_type": "display_data"
    },
    {
     "data": {
      "text/html": [
       "<ul><li><a href=\"https://archivescollection.anu.edu.au/index.php/sydney-stock-exchange-stock-and-share-lists-96\">View description in archive</a></li><li><a href=\"https://openresearch-repository.anu.edu.au/handle/1885/146868\">View item in respository</a></li><li><a href=\"https://openresearch-repository.anu.edu.au/bitstream/1885/146868/2/AU%20NBAC%20N193-095.pdf\">View PDF</a></li><li><a href=\"https://cloudstor.aarnet.edu.au/plus/s/i02k4gxeEpMAUkm/download?path=AU%20NBAC%20N193-095\">Download images from Cloudstor</a></li><li><a href=\"volumes/vol-95-pages.csv\" download=\"volumes/vol-95-pages.csv\">Download page list as CSV</a></li></ul>"
      ],
      "text/plain": [
       "<IPython.core.display.HTML object>"
      ]
     },
     "metadata": {},
     "output_type": "display_data"
    },
    {
     "data": {
      "text/html": [
       "<h3>Volume 96: 1 October 1924 – 23 December 1924</h3>"
      ],
      "text/plain": [
       "<IPython.core.display.HTML object>"
      ]
     },
     "metadata": {},
     "output_type": "display_data"
    },
    {
     "data": {
      "text/html": [
       "<p>Estimated 317 of 317 pages (100.00% complete)</p>"
      ],
      "text/plain": [
       "<IPython.core.display.HTML object>"
      ]
     },
     "metadata": {},
     "output_type": "display_data"
    },
    {
     "data": {
      "text/html": [
       "<ul><li><a href=\"https://archivescollection.anu.edu.au/index.php/sydney-stock-exchange-stock-and-share-lists-97\">View description in archive</a></li><li><a href=\"https://openresearch-repository.anu.edu.au/handle/1885/146869\">View item in respository</a></li><li><a href=\"https://openresearch-repository.anu.edu.au/bitstream/1885/146869/2/AU%20NBAC%20N193-096.pdf\">View PDF</a></li><li><a href=\"https://cloudstor.aarnet.edu.au/plus/s/i02k4gxeEpMAUkm/download?path=AU%20NBAC%20N193-096\">Download images from Cloudstor</a></li><li><a href=\"volumes/vol-96-pages.csv\" download=\"volumes/vol-96-pages.csv\">Download page list as CSV</a></li></ul>"
      ],
      "text/plain": [
       "<IPython.core.display.HTML object>"
      ]
     },
     "metadata": {},
     "output_type": "display_data"
    },
    {
     "data": {
      "text/html": [
       "<h3>Volume 97: 8 January 1925 – 31 March 1925</h3>"
      ],
      "text/plain": [
       "<IPython.core.display.HTML object>"
      ]
     },
     "metadata": {},
     "output_type": "display_data"
    },
    {
     "data": {
      "text/html": [
       "<p>Estimated 314 of 314 pages (100.00% complete)</p>"
      ],
      "text/plain": [
       "<IPython.core.display.HTML object>"
      ]
     },
     "metadata": {},
     "output_type": "display_data"
    },
    {
     "data": {
      "text/html": [
       "<ul><li><a href=\"https://archivescollection.anu.edu.au/index.php/sydney-stock-exchange-stock-and-share-lists-98\">View description in archive</a></li><li><a href=\"https://openresearch-repository.anu.edu.au/handle/1885/146870\">View item in respository</a></li><li><a href=\"https://openresearch-repository.anu.edu.au/bitstream/1885/146870/2/AU%20NBAC%20N193-097.pdf\">View PDF</a></li><li><a href=\"https://cloudstor.aarnet.edu.au/plus/s/i02k4gxeEpMAUkm/download?path=AU%20NBAC%20N193-097\">Download images from Cloudstor</a></li><li><a href=\"volumes/vol-97-pages.csv\" download=\"volumes/vol-97-pages.csv\">Download page list as CSV</a></li></ul>"
      ],
      "text/plain": [
       "<IPython.core.display.HTML object>"
      ]
     },
     "metadata": {},
     "output_type": "display_data"
    },
    {
     "data": {
      "text/html": [
       "<h3>Volume 98: 1 April 1925 – 30 June 1925</h3>"
      ],
      "text/plain": [
       "<IPython.core.display.HTML object>"
      ]
     },
     "metadata": {},
     "output_type": "display_data"
    },
    {
     "data": {
      "text/html": [
       "<p>Estimated 308 of 317 pages (97.16% complete)</p>"
      ],
      "text/plain": [
       "<IPython.core.display.HTML object>"
      ]
     },
     "metadata": {},
     "output_type": "display_data"
    },
    {
     "data": {
      "text/html": [
       "<ul><li><a href=\"https://archivescollection.anu.edu.au/index.php/sydney-stock-exchange-stock-and-share-lists-99\">View description in archive</a></li><li><a href=\"https://openresearch-repository.anu.edu.au/handle/1885/146871\">View item in respository</a></li><li><a href=\"https://openresearch-repository.anu.edu.au/bitstream/1885/146871/2/AU%20NBAC%20N193-098.pdf\">View PDF</a></li><li><a href=\"https://cloudstor.aarnet.edu.au/plus/s/i02k4gxeEpMAUkm/download?path=AU%20NBAC%20N193-098\">Download images from Cloudstor</a></li><li><a href=\"volumes/vol-98-pages.csv\" download=\"volumes/vol-98-pages.csv\">Download page list as CSV</a></li></ul>"
      ],
      "text/plain": [
       "<IPython.core.display.HTML object>"
      ]
     },
     "metadata": {},
     "output_type": "display_data"
    },
    {
     "data": {
      "text/html": [
       "<h3>Volume 99: 1 July 1925 – 30 September 1925</h3>"
      ],
      "text/plain": [
       "<IPython.core.display.HTML object>"
      ]
     },
     "metadata": {},
     "output_type": "display_data"
    },
    {
     "data": {
      "text/html": [
       "<p>Estimated 346 of 346 pages (100.00% complete)</p>"
      ],
      "text/plain": [
       "<IPython.core.display.HTML object>"
      ]
     },
     "metadata": {},
     "output_type": "display_data"
    },
    {
     "data": {
      "text/html": [
       "<ul><li><a href=\"https://archivescollection.anu.edu.au/index.php/sydney-stock-exchange-stock-and-share-lists-100\">View description in archive</a></li><li><a href=\"https://openresearch-repository.anu.edu.au/handle/1885/146872\">View item in respository</a></li><li><a href=\"https://openresearch-repository.anu.edu.au/bitstream/1885/146872/2/AU%20NBAC%20N193-099.pdf\">View PDF</a></li><li><a href=\"https://cloudstor.aarnet.edu.au/plus/s/i02k4gxeEpMAUkm/download?path=AU%20NBAC%20N193-099\">Download images from Cloudstor</a></li><li><a href=\"volumes/vol-99-pages.csv\" download=\"volumes/vol-99-pages.csv\">Download page list as CSV</a></li></ul>"
      ],
      "text/plain": [
       "<IPython.core.display.HTML object>"
      ]
     },
     "metadata": {},
     "output_type": "display_data"
    },
    {
     "data": {
      "text/html": [
       "<h3>Volume 100: 1 October 1925 – 23 December 1925</h3>"
      ],
      "text/plain": [
       "<IPython.core.display.HTML object>"
      ]
     },
     "metadata": {},
     "output_type": "display_data"
    },
    {
     "data": {
      "text/html": [
       "<p>Estimated 317 of 319 pages (99.37% complete)</p>"
      ],
      "text/plain": [
       "<IPython.core.display.HTML object>"
      ]
     },
     "metadata": {},
     "output_type": "display_data"
    },
    {
     "data": {
      "text/html": [
       "<ul><li><a href=\"https://archivescollection.anu.edu.au/index.php/sydney-stock-exchange-stock-and-share-lists-101\">View description in archive</a></li><li><a href=\"https://openresearch-repository.anu.edu.au/handle/1885/146873\">View item in respository</a></li><li><a href=\"https://openresearch-repository.anu.edu.au/bitstream/1885/146873/2/AU%20NBAC%20N193-100.pdf\">View PDF</a></li><li><a href=\"https://cloudstor.aarnet.edu.au/plus/s/i02k4gxeEpMAUkm/download?path=AU%20NBAC%20N193-100\">Download images from Cloudstor</a></li><li><a href=\"volumes/vol-100-pages.csv\" download=\"volumes/vol-100-pages.csv\">Download page list as CSV</a></li></ul>"
      ],
      "text/plain": [
       "<IPython.core.display.HTML object>"
      ]
     },
     "metadata": {},
     "output_type": "display_data"
    },
    {
     "data": {
      "text/html": [
       "<h3>Volume 101: 7 January 1926 – 31 March 1926</h3>"
      ],
      "text/plain": [
       "<IPython.core.display.HTML object>"
      ]
     },
     "metadata": {},
     "output_type": "display_data"
    },
    {
     "data": {
      "text/html": [
       "<p>Estimated 315 of 319 pages (98.75% complete)</p>"
      ],
      "text/plain": [
       "<IPython.core.display.HTML object>"
      ]
     },
     "metadata": {},
     "output_type": "display_data"
    },
    {
     "data": {
      "text/html": [
       "<ul><li><a href=\"https://archivescollection.anu.edu.au/index.php/sydney-stock-exchange-stock-and-share-lists-102\">View description in archive</a></li><li><a href=\"https://openresearch-repository.anu.edu.au/handle/1885/146874\">View item in respository</a></li><li><a href=\"https://openresearch-repository.anu.edu.au/bitstream/1885/146874/2/AU%20NBAC%20N193-101.pdf\">View PDF</a></li><li><a href=\"https://cloudstor.aarnet.edu.au/plus/s/i02k4gxeEpMAUkm/download?path=AU%20NBAC%20N193-101\">Download images from Cloudstor</a></li><li><a href=\"volumes/vol-101-pages.csv\" download=\"volumes/vol-101-pages.csv\">Download page list as CSV</a></li></ul>"
      ],
      "text/plain": [
       "<IPython.core.display.HTML object>"
      ]
     },
     "metadata": {},
     "output_type": "display_data"
    },
    {
     "data": {
      "text/html": [
       "<h3>Volume 102: 8 April 1926 – 30 June 1926</h3>"
      ],
      "text/plain": [
       "<IPython.core.display.HTML object>"
      ]
     },
     "metadata": {},
     "output_type": "display_data"
    },
    {
     "data": {
      "text/html": [
       "<p>Estimated 314 of 314 pages (100.00% complete)</p>"
      ],
      "text/plain": [
       "<IPython.core.display.HTML object>"
      ]
     },
     "metadata": {},
     "output_type": "display_data"
    },
    {
     "data": {
      "text/html": [
       "<ul><li><a href=\"https://archivescollection.anu.edu.au/index.php/sydney-stock-exchange-stock-and-share-lists-103\">View description in archive</a></li><li><a href=\"https://openresearch-repository.anu.edu.au/handle/1885/146875\">View item in respository</a></li><li><a href=\"https://openresearch-repository.anu.edu.au/bitstream/1885/146875/2/AU%20NBAC%20N193-102.pdf\">View PDF</a></li><li><a href=\"https://cloudstor.aarnet.edu.au/plus/s/i02k4gxeEpMAUkm/download?path=AU%20NBAC%20N193-102\">Download images from Cloudstor</a></li><li><a href=\"volumes/vol-102-pages.csv\" download=\"volumes/vol-102-pages.csv\">Download page list as CSV</a></li></ul>"
      ],
      "text/plain": [
       "<IPython.core.display.HTML object>"
      ]
     },
     "metadata": {},
     "output_type": "display_data"
    },
    {
     "data": {
      "text/html": [
       "<h3>Volume 103: 1 July 1926 – 30 September 1926</h3>"
      ],
      "text/plain": [
       "<IPython.core.display.HTML object>"
      ]
     },
     "metadata": {},
     "output_type": "display_data"
    },
    {
     "data": {
      "text/html": [
       "<p>Estimated 351 of 351 pages (100.00% complete)</p>"
      ],
      "text/plain": [
       "<IPython.core.display.HTML object>"
      ]
     },
     "metadata": {},
     "output_type": "display_data"
    },
    {
     "data": {
      "text/html": [
       "<ul><li><a href=\"https://archivescollection.anu.edu.au/index.php/sydney-stock-exchange-stock-and-share-lists-104\">View description in archive</a></li><li><a href=\"https://openresearch-repository.anu.edu.au/handle/1885/146876\">View item in respository</a></li><li><a href=\"https://openresearch-repository.anu.edu.au/bitstream/1885/146876/2/AU%20NBAC%20N193-103.pdf\">View PDF</a></li><li><a href=\"https://cloudstor.aarnet.edu.au/plus/s/i02k4gxeEpMAUkm/download?path=AU%20NBAC%20N193-103\">Download images from Cloudstor</a></li><li><a href=\"volumes/vol-103-pages.csv\" download=\"volumes/vol-103-pages.csv\">Download page list as CSV</a></li></ul>"
      ],
      "text/plain": [
       "<IPython.core.display.HTML object>"
      ]
     },
     "metadata": {},
     "output_type": "display_data"
    },
    {
     "data": {
      "text/html": [
       "<h3>Volume 104: 1 October 1926 – 22 December 1926</h3>"
      ],
      "text/plain": [
       "<IPython.core.display.HTML object>"
      ]
     },
     "metadata": {},
     "output_type": "display_data"
    },
    {
     "data": {
      "text/html": [
       "<p>Estimated 313 of 314 pages (99.68% complete)</p>"
      ],
      "text/plain": [
       "<IPython.core.display.HTML object>"
      ]
     },
     "metadata": {},
     "output_type": "display_data"
    },
    {
     "data": {
      "text/html": [
       "<ul><li><a href=\"https://archivescollection.anu.edu.au/index.php/sydney-stock-exchange-stock-and-share-lists-105\">View description in archive</a></li><li><a href=\"https://openresearch-repository.anu.edu.au/handle/1885/146877\">View item in respository</a></li><li><a href=\"https://openresearch-repository.anu.edu.au/bitstream/1885/146877/2/AU%20NBAC%20N193-104.pdf\">View PDF</a></li><li><a href=\"https://cloudstor.aarnet.edu.au/plus/s/i02k4gxeEpMAUkm/download?path=AU%20NBAC%20N193-104\">Download images from Cloudstor</a></li><li><a href=\"volumes/vol-104-pages.csv\" download=\"volumes/vol-104-pages.csv\">Download page list as CSV</a></li></ul>"
      ],
      "text/plain": [
       "<IPython.core.display.HTML object>"
      ]
     },
     "metadata": {},
     "output_type": "display_data"
    },
    {
     "data": {
      "text/html": [
       "<h3>Volume 105: 6 January 1927 – 31 March 1927</h3>"
      ],
      "text/plain": [
       "<IPython.core.display.HTML object>"
      ]
     },
     "metadata": {},
     "output_type": "display_data"
    },
    {
     "data": {
      "text/html": [
       "<p>Estimated 320 of 324 pages (98.77% complete)</p>"
      ],
      "text/plain": [
       "<IPython.core.display.HTML object>"
      ]
     },
     "metadata": {},
     "output_type": "display_data"
    },
    {
     "data": {
      "text/html": [
       "<ul><li><a href=\"https://archivescollection.anu.edu.au/index.php/sydney-stock-exchange-stock-and-share-lists-106\">View description in archive</a></li><li><a href=\"https://openresearch-repository.anu.edu.au/handle/1885/146878\">View item in respository</a></li><li><a href=\"https://openresearch-repository.anu.edu.au/bitstream/1885/146878/2/AU%20NBAC%20N193-105.pdf\">View PDF</a></li><li><a href=\"https://cloudstor.aarnet.edu.au/plus/s/i02k4gxeEpMAUkm/download?path=AU%20NBAC%20N193-105\">Download images from Cloudstor</a></li><li><a href=\"volumes/vol-105-pages.csv\" download=\"volumes/vol-105-pages.csv\">Download page list as CSV</a></li></ul>"
      ],
      "text/plain": [
       "<IPython.core.display.HTML object>"
      ]
     },
     "metadata": {},
     "output_type": "display_data"
    },
    {
     "data": {
      "text/html": [
       "<h3>Volume 106: 1 April 1927 – 30 June 1927</h3>"
      ],
      "text/plain": [
       "<IPython.core.display.HTML object>"
      ]
     },
     "metadata": {},
     "output_type": "display_data"
    },
    {
     "data": {
      "text/html": [
       "<p>Estimated 312 of 314 pages (99.36% complete)</p>"
      ],
      "text/plain": [
       "<IPython.core.display.HTML object>"
      ]
     },
     "metadata": {},
     "output_type": "display_data"
    },
    {
     "data": {
      "text/html": [
       "<ul><li><a href=\"https://archivescollection.anu.edu.au/index.php/sydney-stock-exchange-stock-and-share-lists-107\">View description in archive</a></li><li><a href=\"https://openresearch-repository.anu.edu.au/handle/1885/146879\">View item in respository</a></li><li><a href=\"https://openresearch-repository.anu.edu.au/bitstream/1885/146879/2/AU%20NBAC%20N193-106.pdf\">View PDF</a></li><li><a href=\"https://cloudstor.aarnet.edu.au/plus/s/i02k4gxeEpMAUkm/download?path=AU%20NBAC%20N193-106\">Download images from Cloudstor</a></li><li><a href=\"volumes/vol-106-pages.csv\" download=\"volumes/vol-106-pages.csv\">Download page list as CSV</a></li></ul>"
      ],
      "text/plain": [
       "<IPython.core.display.HTML object>"
      ]
     },
     "metadata": {},
     "output_type": "display_data"
    },
    {
     "data": {
      "text/html": [
       "<h3>Volume 107: 1 July 1927 – 30 September 1927</h3>"
      ],
      "text/plain": [
       "<IPython.core.display.HTML object>"
      ]
     },
     "metadata": {},
     "output_type": "display_data"
    },
    {
     "data": {
      "text/html": [
       "<p>Estimated 349 of 351 pages (99.43% complete)</p>"
      ],
      "text/plain": [
       "<IPython.core.display.HTML object>"
      ]
     },
     "metadata": {},
     "output_type": "display_data"
    },
    {
     "data": {
      "text/html": [
       "<ul><li><a href=\"https://archivescollection.anu.edu.au/index.php/sydney-stock-exchange-stock-and-share-lists-108\">View description in archive</a></li><li><a href=\"https://openresearch-repository.anu.edu.au/handle/1885/146880\">View item in respository</a></li><li><a href=\"https://openresearch-repository.anu.edu.au/bitstream/1885/146880/2/AU%20NBAC%20N193-107.pdf\">View PDF</a></li><li><a href=\"https://cloudstor.aarnet.edu.au/plus/s/i02k4gxeEpMAUkm/download?path=AU%20NBAC%20N193-107\">Download images from Cloudstor</a></li><li><a href=\"volumes/vol-107-pages.csv\" download=\"volumes/vol-107-pages.csv\">Download page list as CSV</a></li></ul>"
      ],
      "text/plain": [
       "<IPython.core.display.HTML object>"
      ]
     },
     "metadata": {},
     "output_type": "display_data"
    },
    {
     "data": {
      "text/html": [
       "<h3>Volume 108: 1 October 1927 – 21 December 1927</h3>"
      ],
      "text/plain": [
       "<IPython.core.display.HTML object>"
      ]
     },
     "metadata": {},
     "output_type": "display_data"
    },
    {
     "data": {
      "text/html": [
       "<p>Estimated 309 of 309 pages (100.00% complete)</p>"
      ],
      "text/plain": [
       "<IPython.core.display.HTML object>"
      ]
     },
     "metadata": {},
     "output_type": "display_data"
    },
    {
     "data": {
      "text/html": [
       "<ul><li><a href=\"https://archivescollection.anu.edu.au/index.php/sydney-stock-exchange-stock-and-share-lists-109\">View description in archive</a></li><li><a href=\"https://openresearch-repository.anu.edu.au/handle/1885/146881\">View item in respository</a></li><li><a href=\"https://openresearch-repository.anu.edu.au/bitstream/1885/146881/2/AU%20NBAC%20N193-108.pdf\">View PDF</a></li><li><a href=\"https://cloudstor.aarnet.edu.au/plus/s/i02k4gxeEpMAUkm/download?path=AU%20NBAC%20N193-108\">Download images from Cloudstor</a></li><li><a href=\"volumes/vol-108-pages.csv\" download=\"volumes/vol-108-pages.csv\">Download page list as CSV</a></li></ul>"
      ],
      "text/plain": [
       "<IPython.core.display.HTML object>"
      ]
     },
     "metadata": {},
     "output_type": "display_data"
    },
    {
     "data": {
      "text/html": [
       "<h3>Volume 109: 5 January 1928 – 31 March 1928</h3>"
      ],
      "text/plain": [
       "<IPython.core.display.HTML object>"
      ]
     },
     "metadata": {},
     "output_type": "display_data"
    },
    {
     "data": {
      "text/html": [
       "<p>Estimated 329 of 331 pages (99.40% complete)</p>"
      ],
      "text/plain": [
       "<IPython.core.display.HTML object>"
      ]
     },
     "metadata": {},
     "output_type": "display_data"
    },
    {
     "data": {
      "text/html": [
       "<ul><li><a href=\"https://archivescollection.anu.edu.au/index.php/sydney-stock-exchange-stock-and-share-lists-110\">View description in archive</a></li><li><a href=\"https://openresearch-repository.anu.edu.au/handle/1885/146882\">View item in respository</a></li><li><a href=\"https://openresearch-repository.anu.edu.au/bitstream/1885/146882/2/AU%20NBAC%20N193-109.pdf\">View PDF</a></li><li><a href=\"https://cloudstor.aarnet.edu.au/plus/s/i02k4gxeEpMAUkm/download?path=AU%20NBAC%20N193-109\">Download images from Cloudstor</a></li><li><a href=\"volumes/vol-109-pages.csv\" download=\"volumes/vol-109-pages.csv\">Download page list as CSV</a></li></ul>"
      ],
      "text/plain": [
       "<IPython.core.display.HTML object>"
      ]
     },
     "metadata": {},
     "output_type": "display_data"
    },
    {
     "data": {
      "text/html": [
       "<h3>Volume 110: 2 April 1928 – 30 June 1928</h3>"
      ],
      "text/plain": [
       "<IPython.core.display.HTML object>"
      ]
     },
     "metadata": {},
     "output_type": "display_data"
    },
    {
     "data": {
      "text/html": [
       "<p>Estimated 310 of 314 pages (98.73% complete)</p>"
      ],
      "text/plain": [
       "<IPython.core.display.HTML object>"
      ]
     },
     "metadata": {},
     "output_type": "display_data"
    },
    {
     "data": {
      "text/html": [
       "<ul><li><a href=\"https://archivescollection.anu.edu.au/index.php/sydney-stock-exchange-stock-and-share-lists-111\">View description in archive</a></li><li><a href=\"https://openresearch-repository.anu.edu.au/handle/1885/146883\">View item in respository</a></li><li><a href=\"https://openresearch-repository.anu.edu.au/bitstream/1885/146883/2/AU%20NBAC%20N193-110.pdf\">View PDF</a></li><li><a href=\"https://cloudstor.aarnet.edu.au/plus/s/i02k4gxeEpMAUkm/download?path=AU%20NBAC%20N193-110\">Download images from Cloudstor</a></li><li><a href=\"volumes/vol-110-pages.csv\" download=\"volumes/vol-110-pages.csv\">Download page list as CSV</a></li></ul>"
      ],
      "text/plain": [
       "<IPython.core.display.HTML object>"
      ]
     },
     "metadata": {},
     "output_type": "display_data"
    },
    {
     "data": {
      "text/html": [
       "<h3>Volume 111: 2 July 1928 – 29 September 1928</h3>"
      ],
      "text/plain": [
       "<IPython.core.display.HTML object>"
      ]
     },
     "metadata": {},
     "output_type": "display_data"
    },
    {
     "data": {
      "text/html": [
       "<p>Estimated 343 of 346 pages (99.13% complete)</p>"
      ],
      "text/plain": [
       "<IPython.core.display.HTML object>"
      ]
     },
     "metadata": {},
     "output_type": "display_data"
    },
    {
     "data": {
      "text/html": [
       "<ul><li><a href=\"https://archivescollection.anu.edu.au/index.php/sydney-stock-exchange-stock-and-share-lists-112\">View description in archive</a></li><li><a href=\"https://openresearch-repository.anu.edu.au/handle/1885/146884\">View item in respository</a></li><li><a href=\"https://openresearch-repository.anu.edu.au/bitstream/1885/146884/2/AU%20NBAC%20N193-111.pdf\">View PDF</a></li><li><a href=\"https://cloudstor.aarnet.edu.au/plus/s/i02k4gxeEpMAUkm/download?path=AU%20NBAC%20N193-111\">Download images from Cloudstor</a></li><li><a href=\"volumes/vol-111-pages.csv\" download=\"volumes/vol-111-pages.csv\">Download page list as CSV</a></li></ul>"
      ],
      "text/plain": [
       "<IPython.core.display.HTML object>"
      ]
     },
     "metadata": {},
     "output_type": "display_data"
    },
    {
     "data": {
      "text/html": [
       "<h3>Volume 112: 2 October 1928 – 21 December 1928</h3>"
      ],
      "text/plain": [
       "<IPython.core.display.HTML object>"
      ]
     },
     "metadata": {},
     "output_type": "display_data"
    },
    {
     "data": {
      "text/html": [
       "<p>Estimated 317 of 317 pages (100.00% complete)</p>"
      ],
      "text/plain": [
       "<IPython.core.display.HTML object>"
      ]
     },
     "metadata": {},
     "output_type": "display_data"
    },
    {
     "data": {
      "text/html": [
       "<ul><li><a href=\"https://archivescollection.anu.edu.au/index.php/sydney-stock-exchange-stock-and-share-lists-113\">View description in archive</a></li><li><a href=\"https://openresearch-repository.anu.edu.au/handle/1885/146885\">View item in respository</a></li><li><a href=\"https://openresearch-repository.anu.edu.au/bitstream/1885/146885/2/AU%20NBAC%20N193-112.pdf\">View PDF</a></li><li><a href=\"https://cloudstor.aarnet.edu.au/plus/s/i02k4gxeEpMAUkm/download?path=AU%20NBAC%20N193-112\">Download images from Cloudstor</a></li><li><a href=\"volumes/vol-112-pages.csv\" download=\"volumes/vol-112-pages.csv\">Download page list as CSV</a></li></ul>"
      ],
      "text/plain": [
       "<IPython.core.display.HTML object>"
      ]
     },
     "metadata": {},
     "output_type": "display_data"
    },
    {
     "data": {
      "text/html": [
       "<h3>Volume 113: 7 January 1929 – 27 March 1929</h3>"
      ],
      "text/plain": [
       "<IPython.core.display.HTML object>"
      ]
     },
     "metadata": {},
     "output_type": "display_data"
    },
    {
     "data": {
      "text/html": [
       "<p>Estimated 305 of 310 pages (98.39% complete)</p>"
      ],
      "text/plain": [
       "<IPython.core.display.HTML object>"
      ]
     },
     "metadata": {},
     "output_type": "display_data"
    },
    {
     "data": {
      "text/html": [
       "<ul><li><a href=\"https://archivescollection.anu.edu.au/index.php/sydney-stock-exchange-stock-and-share-lists-114\">View description in archive</a></li><li><a href=\"https://openresearch-repository.anu.edu.au/handle/1885/146886\">View item in respository</a></li><li><a href=\"https://openresearch-repository.anu.edu.au/bitstream/1885/146886/2/AU%20NBAC%20N193-113.pdf\">View PDF</a></li><li><a href=\"https://cloudstor.aarnet.edu.au/plus/s/i02k4gxeEpMAUkm/download?path=AU%20NBAC%20N193-113\">Download images from Cloudstor</a></li><li><a href=\"volumes/vol-113-pages.csv\" download=\"volumes/vol-113-pages.csv\">Download page list as CSV</a></li></ul>"
      ],
      "text/plain": [
       "<IPython.core.display.HTML object>"
      ]
     },
     "metadata": {},
     "output_type": "display_data"
    },
    {
     "data": {
      "text/html": [
       "<h3>Volume 114: 4 April 1929 – 29 June 1929</h3>"
      ],
      "text/plain": [
       "<IPython.core.display.HTML object>"
      ]
     },
     "metadata": {},
     "output_type": "display_data"
    },
    {
     "data": {
      "text/html": [
       "<p>Estimated 326 of 326 pages (100.00% complete)</p>"
      ],
      "text/plain": [
       "<IPython.core.display.HTML object>"
      ]
     },
     "metadata": {},
     "output_type": "display_data"
    },
    {
     "data": {
      "text/html": [
       "<ul><li><a href=\"https://archivescollection.anu.edu.au/index.php/sydney-stock-exchange-stock-and-share-lists-115\">View description in archive</a></li><li><a href=\"https://openresearch-repository.anu.edu.au/handle/1885/146887\">View item in respository</a></li><li><a href=\"https://openresearch-repository.anu.edu.au/bitstream/1885/146887/2/AU%20NBAC%20N193-114.pdf\">View PDF</a></li><li><a href=\"https://cloudstor.aarnet.edu.au/plus/s/i02k4gxeEpMAUkm/download?path=AU%20NBAC%20N193-114\">Download images from Cloudstor</a></li><li><a href=\"volumes/vol-114-pages.csv\" download=\"volumes/vol-114-pages.csv\">Download page list as CSV</a></li></ul>"
      ],
      "text/plain": [
       "<IPython.core.display.HTML object>"
      ]
     },
     "metadata": {},
     "output_type": "display_data"
    },
    {
     "data": {
      "text/html": [
       "<h3>Volume 115: 1 July 1929 – 30 September 1929</h3>"
      ],
      "text/plain": [
       "<IPython.core.display.HTML object>"
      ]
     },
     "metadata": {},
     "output_type": "display_data"
    },
    {
     "data": {
      "text/html": [
       "<p>Estimated 351 of 351 pages (100.00% complete)</p>"
      ],
      "text/plain": [
       "<IPython.core.display.HTML object>"
      ]
     },
     "metadata": {},
     "output_type": "display_data"
    },
    {
     "data": {
      "text/html": [
       "<ul><li><a href=\"https://archivescollection.anu.edu.au/index.php/sydney-stock-exchange-stock-and-share-lists-116\">View description in archive</a></li><li><a href=\"https://openresearch-repository.anu.edu.au/handle/1885/146888\">View item in respository</a></li><li><a href=\"https://openresearch-repository.anu.edu.au/bitstream/1885/146888/2/AU%20NBAC%20N193-115.pdf\">View PDF</a></li><li><a href=\"https://cloudstor.aarnet.edu.au/plus/s/i02k4gxeEpMAUkm/download?path=AU%20NBAC%20N193-115\">Download images from Cloudstor</a></li><li><a href=\"volumes/vol-115-pages.csv\" download=\"volumes/vol-115-pages.csv\">Download page list as CSV</a></li></ul>"
      ],
      "text/plain": [
       "<IPython.core.display.HTML object>"
      ]
     },
     "metadata": {},
     "output_type": "display_data"
    },
    {
     "data": {
      "text/html": [
       "<h3>Volume 116: 1 October 1929 – 21 December 1929</h3>"
      ],
      "text/plain": [
       "<IPython.core.display.HTML object>"
      ]
     },
     "metadata": {},
     "output_type": "display_data"
    },
    {
     "data": {
      "text/html": [
       "<p>Estimated 314 of 314 pages (100.00% complete)</p>"
      ],
      "text/plain": [
       "<IPython.core.display.HTML object>"
      ]
     },
     "metadata": {},
     "output_type": "display_data"
    },
    {
     "data": {
      "text/html": [
       "<ul><li><a href=\"https://archivescollection.anu.edu.au/index.php/sydney-stock-exchange-stock-and-share-lists-117\">View description in archive</a></li><li><a href=\"https://openresearch-repository.anu.edu.au/handle/1885/146889\">View item in respository</a></li><li><a href=\"https://openresearch-repository.anu.edu.au/bitstream/1885/146889/2/AU%20NBAC%20N193-116.pdf\">View PDF</a></li><li><a href=\"https://cloudstor.aarnet.edu.au/plus/s/i02k4gxeEpMAUkm/download?path=AU%20NBAC%20N193-116\">Download images from Cloudstor</a></li><li><a href=\"volumes/vol-116-pages.csv\" download=\"volumes/vol-116-pages.csv\">Download page list as CSV</a></li></ul>"
      ],
      "text/plain": [
       "<IPython.core.display.HTML object>"
      ]
     },
     "metadata": {},
     "output_type": "display_data"
    },
    {
     "data": {
      "text/html": [
       "<h3>Volume 117: 6 January 1930 – 31 March 1930</h3>"
      ],
      "text/plain": [
       "<IPython.core.display.HTML object>"
      ]
     },
     "metadata": {},
     "output_type": "display_data"
    },
    {
     "data": {
      "text/html": [
       "<p>Estimated 322 of 324 pages (99.38% complete)</p>"
      ],
      "text/plain": [
       "<IPython.core.display.HTML object>"
      ]
     },
     "metadata": {},
     "output_type": "display_data"
    },
    {
     "data": {
      "text/html": [
       "<ul><li><a href=\"https://archivescollection.anu.edu.au/index.php/sydney-stock-exchange-stock-and-share-lists-118\">View description in archive</a></li><li><a href=\"https://openresearch-repository.anu.edu.au/handle/1885/146890\">View item in respository</a></li><li><a href=\"https://openresearch-repository.anu.edu.au/bitstream/1885/146890/2/AU%20NBAC%20N193-117.pdf\">View PDF</a></li><li><a href=\"https://cloudstor.aarnet.edu.au/plus/s/i02k4gxeEpMAUkm/download?path=AU%20NBAC%20N193-117\">Download images from Cloudstor</a></li><li><a href=\"volumes/vol-117-pages.csv\" download=\"volumes/vol-117-pages.csv\">Download page list as CSV</a></li></ul>"
      ],
      "text/plain": [
       "<IPython.core.display.HTML object>"
      ]
     },
     "metadata": {},
     "output_type": "display_data"
    },
    {
     "data": {
      "text/html": [
       "<h3>Volume 118: 1 April 1930 – 30 June 1930</h3>"
      ],
      "text/plain": [
       "<IPython.core.display.HTML object>"
      ]
     },
     "metadata": {},
     "output_type": "display_data"
    },
    {
     "data": {
      "text/html": [
       "<p>Estimated 307 of 312 pages (98.40% complete)</p>"
      ],
      "text/plain": [
       "<IPython.core.display.HTML object>"
      ]
     },
     "metadata": {},
     "output_type": "display_data"
    },
    {
     "data": {
      "text/html": [
       "<ul><li><a href=\"https://archivescollection.anu.edu.au/index.php/sydney-stock-exchange-stock-and-share-lists-119\">View description in archive</a></li><li><a href=\"https://openresearch-repository.anu.edu.au/handle/1885/146891\">View item in respository</a></li><li><a href=\"https://openresearch-repository.anu.edu.au/bitstream/1885/146891/2/AU%20NBAC%20N193-118.pdf\">View PDF</a></li><li><a href=\"https://cloudstor.aarnet.edu.au/plus/s/i02k4gxeEpMAUkm/download?path=AU%20NBAC%20N193-118\">Download images from Cloudstor</a></li><li><a href=\"volumes/vol-118-pages.csv\" download=\"volumes/vol-118-pages.csv\">Download page list as CSV</a></li></ul>"
      ],
      "text/plain": [
       "<IPython.core.display.HTML object>"
      ]
     },
     "metadata": {},
     "output_type": "display_data"
    },
    {
     "data": {
      "text/html": [
       "<h3>Volume 119: 1 July 1930 – 30 September 1930</h3>"
      ],
      "text/plain": [
       "<IPython.core.display.HTML object>"
      ]
     },
     "metadata": {},
     "output_type": "display_data"
    },
    {
     "data": {
      "text/html": [
       "<p>Estimated 351 of 351 pages (100.00% complete)</p>"
      ],
      "text/plain": [
       "<IPython.core.display.HTML object>"
      ]
     },
     "metadata": {},
     "output_type": "display_data"
    },
    {
     "data": {
      "text/html": [
       "<ul><li><a href=\"https://archivescollection.anu.edu.au/index.php/sydney-stock-exchange-stock-and-share-lists-120\">View description in archive</a></li><li><a href=\"https://openresearch-repository.anu.edu.au/handle/1885/146892\">View item in respository</a></li><li><a href=\"https://openresearch-repository.anu.edu.au/bitstream/1885/146892/2/AU%20NBAC%20N193-119.pdf\">View PDF</a></li><li><a href=\"https://cloudstor.aarnet.edu.au/plus/s/i02k4gxeEpMAUkm/download?path=AU%20NBAC%20N193-119\">Download images from Cloudstor</a></li><li><a href=\"volumes/vol-119-pages.csv\" download=\"volumes/vol-119-pages.csv\">Download page list as CSV</a></li></ul>"
      ],
      "text/plain": [
       "<IPython.core.display.HTML object>"
      ]
     },
     "metadata": {},
     "output_type": "display_data"
    },
    {
     "data": {
      "text/html": [
       "<h3>Volume 120: 1 October 1930 – 23 December 1930</h3>"
      ],
      "text/plain": [
       "<IPython.core.display.HTML object>"
      ]
     },
     "metadata": {},
     "output_type": "display_data"
    },
    {
     "data": {
      "text/html": [
       "<p>Estimated 317 of 319 pages (99.37% complete)</p>"
      ],
      "text/plain": [
       "<IPython.core.display.HTML object>"
      ]
     },
     "metadata": {},
     "output_type": "display_data"
    },
    {
     "data": {
      "text/html": [
       "<ul><li><a href=\"https://archivescollection.anu.edu.au/index.php/sydney-stock-exchange-stock-and-share-lists-121\">View description in archive</a></li><li><a href=\"https://openresearch-repository.anu.edu.au/handle/1885/146898\">View item in respository</a></li><li><a href=\"https://openresearch-repository.anu.edu.au/bitstream/1885/146898/2/AU%20NBAC%20N193-120.pdf\">View PDF</a></li><li><a href=\"https://cloudstor.aarnet.edu.au/plus/s/i02k4gxeEpMAUkm/download?path=AU%20NBAC%20N193-120\">Download images from Cloudstor</a></li><li><a href=\"volumes/vol-120-pages.csv\" download=\"volumes/vol-120-pages.csv\">Download page list as CSV</a></li></ul>"
      ],
      "text/plain": [
       "<IPython.core.display.HTML object>"
      ]
     },
     "metadata": {},
     "output_type": "display_data"
    },
    {
     "data": {
      "text/html": [
       "<h3>Volume 121: 6 January 1931 – 31 March 1931</h3>"
      ],
      "text/plain": [
       "<IPython.core.display.HTML object>"
      ]
     },
     "metadata": {},
     "output_type": "display_data"
    },
    {
     "data": {
      "text/html": [
       "<p>Estimated 322 of 324 pages (99.38% complete)</p>"
      ],
      "text/plain": [
       "<IPython.core.display.HTML object>"
      ]
     },
     "metadata": {},
     "output_type": "display_data"
    },
    {
     "data": {
      "text/html": [
       "<ul><li><a href=\"https://archivescollection.anu.edu.au/index.php/sydney-stock-exchange-stock-and-share-lists-122\">View description in archive</a></li><li><a href=\"https://openresearch-repository.anu.edu.au/handle/1885/146899\">View item in respository</a></li><li><a href=\"https://openresearch-repository.anu.edu.au/bitstream/1885/146899/2/AU%20NBAC%20N193-121.pdf\">View PDF</a></li><li><a href=\"https://cloudstor.aarnet.edu.au/plus/s/i02k4gxeEpMAUkm/download?path=AU%20NBAC%20N193-121\">Download images from Cloudstor</a></li><li><a href=\"volumes/vol-121-pages.csv\" download=\"volumes/vol-121-pages.csv\">Download page list as CSV</a></li></ul>"
      ],
      "text/plain": [
       "<IPython.core.display.HTML object>"
      ]
     },
     "metadata": {},
     "output_type": "display_data"
    },
    {
     "data": {
      "text/html": [
       "<h3>Volume 122: 1 April 1931 – 30 June 1931</h3>"
      ],
      "text/plain": [
       "<IPython.core.display.HTML object>"
      ]
     },
     "metadata": {},
     "output_type": "display_data"
    },
    {
     "data": {
      "text/html": [
       "<p>Estimated 314 of 317 pages (99.05% complete)</p>"
      ],
      "text/plain": [
       "<IPython.core.display.HTML object>"
      ]
     },
     "metadata": {},
     "output_type": "display_data"
    },
    {
     "data": {
      "text/html": [
       "<ul><li><a href=\"https://archivescollection.anu.edu.au/index.php/sydney-stock-exchange-stock-and-share-lists-123\">View description in archive</a></li><li><a href=\"https://openresearch-repository.anu.edu.au/handle/1885/146900\">View item in respository</a></li><li><a href=\"https://openresearch-repository.anu.edu.au/bitstream/1885/146900/2/AU%20NBAC%20N193-122.pdf\">View PDF</a></li><li><a href=\"https://cloudstor.aarnet.edu.au/plus/s/i02k4gxeEpMAUkm/download?path=AU%20NBAC%20N193-122\">Download images from Cloudstor</a></li><li><a href=\"volumes/vol-122-pages.csv\" download=\"volumes/vol-122-pages.csv\">Download page list as CSV</a></li></ul>"
      ],
      "text/plain": [
       "<IPython.core.display.HTML object>"
      ]
     },
     "metadata": {},
     "output_type": "display_data"
    },
    {
     "data": {
      "text/html": [
       "<h3>Volume 123: 1 July 1931 – 30 September 1931</h3>"
      ],
      "text/plain": [
       "<IPython.core.display.HTML object>"
      ]
     },
     "metadata": {},
     "output_type": "display_data"
    },
    {
     "data": {
      "text/html": [
       "<p>Estimated 347 of 351 pages (98.86% complete)</p>"
      ],
      "text/plain": [
       "<IPython.core.display.HTML object>"
      ]
     },
     "metadata": {},
     "output_type": "display_data"
    },
    {
     "data": {
      "text/html": [
       "<ul><li><a href=\"https://archivescollection.anu.edu.au/index.php/sydney-stock-exchange-stock-and-share-lists-124\">View description in archive</a></li><li><a href=\"https://openresearch-repository.anu.edu.au/handle/1885/146901\">View item in respository</a></li><li><a href=\"https://openresearch-repository.anu.edu.au/bitstream/1885/146901/2/AU%20NBAC%20N193-123.pdf\">View PDF</a></li><li><a href=\"https://cloudstor.aarnet.edu.au/plus/s/i02k4gxeEpMAUkm/download?path=AU%20NBAC%20N193-123\">Download images from Cloudstor</a></li><li><a href=\"volumes/vol-123-pages.csv\" download=\"volumes/vol-123-pages.csv\">Download page list as CSV</a></li></ul>"
      ],
      "text/plain": [
       "<IPython.core.display.HTML object>"
      ]
     },
     "metadata": {},
     "output_type": "display_data"
    },
    {
     "data": {
      "text/html": [
       "<h3>Volume 124: 1 October 1931 – 23 December 1931</h3>"
      ],
      "text/plain": [
       "<IPython.core.display.HTML object>"
      ]
     },
     "metadata": {},
     "output_type": "display_data"
    },
    {
     "data": {
      "text/html": [
       "<p>Estimated 316 of 319 pages (99.06% complete)</p>"
      ],
      "text/plain": [
       "<IPython.core.display.HTML object>"
      ]
     },
     "metadata": {},
     "output_type": "display_data"
    },
    {
     "data": {
      "text/html": [
       "<ul><li><a href=\"https://archivescollection.anu.edu.au/index.php/sydney-stock-exchange-stock-and-share-lists-125\">View description in archive</a></li><li><a href=\"https://openresearch-repository.anu.edu.au/handle/1885/146902\">View item in respository</a></li><li><a href=\"https://openresearch-repository.anu.edu.au/bitstream/1885/146902/2/AU%20NBAC%20N193-124.pdf\">View PDF</a></li><li><a href=\"https://cloudstor.aarnet.edu.au/plus/s/i02k4gxeEpMAUkm/download?path=AU%20NBAC%20N193-124\">Download images from Cloudstor</a></li><li><a href=\"volumes/vol-124-pages.csv\" download=\"volumes/vol-124-pages.csv\">Download page list as CSV</a></li></ul>"
      ],
      "text/plain": [
       "<IPython.core.display.HTML object>"
      ]
     },
     "metadata": {},
     "output_type": "display_data"
    },
    {
     "data": {
      "text/html": [
       "<h3>Volume 125: 6 January 1932 – 31 March 1932</h3>"
      ],
      "text/plain": [
       "<IPython.core.display.HTML object>"
      ]
     },
     "metadata": {},
     "output_type": "display_data"
    },
    {
     "data": {
      "text/html": [
       "<p>Estimated 296 of 302 pages (98.01% complete)</p>"
      ],
      "text/plain": [
       "<IPython.core.display.HTML object>"
      ]
     },
     "metadata": {},
     "output_type": "display_data"
    },
    {
     "data": {
      "text/html": [
       "<ul><li><a href=\"https://archivescollection.anu.edu.au/index.php/sydney-stock-exchange-stock-and-share-lists-126\">View description in archive</a></li><li><a href=\"https://openresearch-repository.anu.edu.au/handle/1885/146903\">View item in respository</a></li><li><a href=\"https://openresearch-repository.anu.edu.au/bitstream/1885/146903/2/AU%20NBAC%20N193-125.pdf\">View PDF</a></li><li><a href=\"https://cloudstor.aarnet.edu.au/plus/s/i02k4gxeEpMAUkm/download?path=AU%20NBAC%20N193-125\">Download images from Cloudstor</a></li><li><a href=\"volumes/vol-125-pages.csv\" download=\"volumes/vol-125-pages.csv\">Download page list as CSV</a></li></ul>"
      ],
      "text/plain": [
       "<IPython.core.display.HTML object>"
      ]
     },
     "metadata": {},
     "output_type": "display_data"
    },
    {
     "data": {
      "text/html": [
       "<h3>Volume 126: 1 April 1932 – 30 June 1932</h3>"
      ],
      "text/plain": [
       "<IPython.core.display.HTML object>"
      ]
     },
     "metadata": {},
     "output_type": "display_data"
    },
    {
     "data": {
      "text/html": [
       "<p>Estimated 340 of 341 pages (99.71% complete)</p>"
      ],
      "text/plain": [
       "<IPython.core.display.HTML object>"
      ]
     },
     "metadata": {},
     "output_type": "display_data"
    },
    {
     "data": {
      "text/html": [
       "<ul><li><a href=\"https://archivescollection.anu.edu.au/index.php/sydney-stock-exchange-stock-and-share-lists-127\">View description in archive</a></li><li><a href=\"https://openresearch-repository.anu.edu.au/handle/1885/146904\">View item in respository</a></li><li><a href=\"https://openresearch-repository.anu.edu.au/bitstream/1885/146904/2/AU%20NBAC%20N193-126.pdf\">View PDF</a></li><li><a href=\"https://cloudstor.aarnet.edu.au/plus/s/i02k4gxeEpMAUkm/download?path=AU%20NBAC%20N193-126\">Download images from Cloudstor</a></li><li><a href=\"volumes/vol-126-pages.csv\" download=\"volumes/vol-126-pages.csv\">Download page list as CSV</a></li></ul>"
      ],
      "text/plain": [
       "<IPython.core.display.HTML object>"
      ]
     },
     "metadata": {},
     "output_type": "display_data"
    },
    {
     "data": {
      "text/html": [
       "<h3>Volume 127: 1 July 1932 – 30 September 1932</h3>"
      ],
      "text/plain": [
       "<IPython.core.display.HTML object>"
      ]
     },
     "metadata": {},
     "output_type": "display_data"
    },
    {
     "data": {
      "text/html": [
       "<p>Estimated 351 of 351 pages (100.00% complete)</p>"
      ],
      "text/plain": [
       "<IPython.core.display.HTML object>"
      ]
     },
     "metadata": {},
     "output_type": "display_data"
    },
    {
     "data": {
      "text/html": [
       "<ul><li><a href=\"https://archivescollection.anu.edu.au/index.php/sydney-stock-exchange-stock-and-share-lists-128\">View description in archive</a></li><li><a href=\"https://openresearch-repository.anu.edu.au/handle/1885/146905\">View item in respository</a></li><li><a href=\"https://openresearch-repository.anu.edu.au/bitstream/1885/146905/2/AU%20NBAC%20N193-127.pdf\">View PDF</a></li><li><a href=\"https://cloudstor.aarnet.edu.au/plus/s/i02k4gxeEpMAUkm/download?path=AU%20NBAC%20N193-127\">Download images from Cloudstor</a></li><li><a href=\"volumes/vol-127-pages.csv\" download=\"volumes/vol-127-pages.csv\">Download page list as CSV</a></li></ul>"
      ],
      "text/plain": [
       "<IPython.core.display.HTML object>"
      ]
     },
     "metadata": {},
     "output_type": "display_data"
    },
    {
     "data": {
      "text/html": [
       "<h3>Volume 128: 1 October 1932 – 22 December 1932</h3>"
      ],
      "text/plain": [
       "<IPython.core.display.HTML object>"
      ]
     },
     "metadata": {},
     "output_type": "display_data"
    },
    {
     "data": {
      "text/html": [
       "<p>Estimated 312 of 314 pages (99.36% complete)</p>"
      ],
      "text/plain": [
       "<IPython.core.display.HTML object>"
      ]
     },
     "metadata": {},
     "output_type": "display_data"
    },
    {
     "data": {
      "text/html": [
       "<ul><li><a href=\"https://archivescollection.anu.edu.au/index.php/sydney-stock-exchange-stock-and-share-lists-129\">View description in archive</a></li><li><a href=\"https://openresearch-repository.anu.edu.au/handle/1885/146906\">View item in respository</a></li><li><a href=\"https://openresearch-repository.anu.edu.au/bitstream/1885/146906/2/AU%20NBAC%20N193-128.pdf\">View PDF</a></li><li><a href=\"https://cloudstor.aarnet.edu.au/plus/s/i02k4gxeEpMAUkm/download?path=AU%20NBAC%20N193-128\">Download images from Cloudstor</a></li><li><a href=\"volumes/vol-128-pages.csv\" download=\"volumes/vol-128-pages.csv\">Download page list as CSV</a></li></ul>"
      ],
      "text/plain": [
       "<IPython.core.display.HTML object>"
      ]
     },
     "metadata": {},
     "output_type": "display_data"
    },
    {
     "data": {
      "text/html": [
       "<h3>Volume 129: 5 January 1933 – 31 March 1933</h3>"
      ],
      "text/plain": [
       "<IPython.core.display.HTML object>"
      ]
     },
     "metadata": {},
     "output_type": "display_data"
    },
    {
     "data": {
      "text/html": [
       "<p>Estimated 327 of 329 pages (99.39% complete)</p>"
      ],
      "text/plain": [
       "<IPython.core.display.HTML object>"
      ]
     },
     "metadata": {},
     "output_type": "display_data"
    },
    {
     "data": {
      "text/html": [
       "<ul><li><a href=\"https://archivescollection.anu.edu.au/index.php/sydney-stock-exchange-stock-and-share-lists-130\">View description in archive</a></li><li><a href=\"https://openresearch-repository.anu.edu.au/handle/1885/146907\">View item in respository</a></li><li><a href=\"https://openresearch-repository.anu.edu.au/bitstream/1885/146907/2/AU%20NBAC%20N193-129.pdf\">View PDF</a></li><li><a href=\"https://cloudstor.aarnet.edu.au/plus/s/i02k4gxeEpMAUkm/download?path=AU%20NBAC%20N193-129\">Download images from Cloudstor</a></li><li><a href=\"volumes/vol-129-pages.csv\" download=\"volumes/vol-129-pages.csv\">Download page list as CSV</a></li></ul>"
      ],
      "text/plain": [
       "<IPython.core.display.HTML object>"
      ]
     },
     "metadata": {},
     "output_type": "display_data"
    },
    {
     "data": {
      "text/html": [
       "<h3>Volume 130: 1 April 1933 – 30 June 1933</h3>"
      ],
      "text/plain": [
       "<IPython.core.display.HTML object>"
      ]
     },
     "metadata": {},
     "output_type": "display_data"
    },
    {
     "data": {
      "text/html": [
       "<p>Estimated 307 of 314 pages (97.77% complete)</p>"
      ],
      "text/plain": [
       "<IPython.core.display.HTML object>"
      ]
     },
     "metadata": {},
     "output_type": "display_data"
    },
    {
     "data": {
      "text/html": [
       "<ul><li><a href=\"https://archivescollection.anu.edu.au/index.php/sydney-stock-exchange-stock-and-share-lists-131\">View description in archive</a></li><li><a href=\"https://openresearch-repository.anu.edu.au/handle/1885/146908\">View item in respository</a></li><li><a href=\"https://openresearch-repository.anu.edu.au/bitstream/1885/146908/2/AU%20NBAC%20N193-130.pdf\">View PDF</a></li><li><a href=\"https://cloudstor.aarnet.edu.au/plus/s/i02k4gxeEpMAUkm/download?path=AU%20NBAC%20N193-130\">Download images from Cloudstor</a></li><li><a href=\"volumes/vol-130-pages.csv\" download=\"volumes/vol-130-pages.csv\">Download page list as CSV</a></li></ul>"
      ],
      "text/plain": [
       "<IPython.core.display.HTML object>"
      ]
     },
     "metadata": {},
     "output_type": "display_data"
    },
    {
     "data": {
      "text/html": [
       "<h3>Volume 131: 1 July 1933 – 30 September 1933</h3>"
      ],
      "text/plain": [
       "<IPython.core.display.HTML object>"
      ]
     },
     "metadata": {},
     "output_type": "display_data"
    },
    {
     "data": {
      "text/html": [
       "<p>Estimated 348 of 348 pages (100.00% complete)</p>"
      ],
      "text/plain": [
       "<IPython.core.display.HTML object>"
      ]
     },
     "metadata": {},
     "output_type": "display_data"
    },
    {
     "data": {
      "text/html": [
       "<ul><li><a href=\"https://archivescollection.anu.edu.au/index.php/sydney-stock-exchange-stock-and-share-lists-132\">View description in archive</a></li><li><a href=\"https://openresearch-repository.anu.edu.au/handle/1885/146909\">View item in respository</a></li><li><a href=\"https://openresearch-repository.anu.edu.au/bitstream/1885/146909/2/AU%20NBAC%20N193-131.pdf\">View PDF</a></li><li><a href=\"https://cloudstor.aarnet.edu.au/plus/s/i02k4gxeEpMAUkm/download?path=AU%20NBAC%20N193-131\">Download images from Cloudstor</a></li><li><a href=\"volumes/vol-131-pages.csv\" download=\"volumes/vol-131-pages.csv\">Download page list as CSV</a></li></ul>"
      ],
      "text/plain": [
       "<IPython.core.display.HTML object>"
      ]
     },
     "metadata": {},
     "output_type": "display_data"
    },
    {
     "data": {
      "text/html": [
       "<h3>Volume 132: 3 October 1933 – 22 December 1933</h3>"
      ],
      "text/plain": [
       "<IPython.core.display.HTML object>"
      ]
     },
     "metadata": {},
     "output_type": "display_data"
    },
    {
     "data": {
      "text/html": [
       "<p>Estimated 315 of 317 pages (99.37% complete)</p>"
      ],
      "text/plain": [
       "<IPython.core.display.HTML object>"
      ]
     },
     "metadata": {},
     "output_type": "display_data"
    },
    {
     "data": {
      "text/html": [
       "<ul><li><a href=\"https://archivescollection.anu.edu.au/index.php/sydney-stock-exchange-stock-and-share-lists-133\">View description in archive</a></li><li><a href=\"https://openresearch-repository.anu.edu.au/handle/1885/146910\">View item in respository</a></li><li><a href=\"https://openresearch-repository.anu.edu.au/bitstream/1885/146910/2/AU%20NBAC%20N193-132.pdf\">View PDF</a></li><li><a href=\"https://cloudstor.aarnet.edu.au/plus/s/i02k4gxeEpMAUkm/download?path=AU%20NBAC%20N193-132\">Download images from Cloudstor</a></li><li><a href=\"volumes/vol-132-pages.csv\" download=\"volumes/vol-132-pages.csv\">Download page list as CSV</a></li></ul>"
      ],
      "text/plain": [
       "<IPython.core.display.HTML object>"
      ]
     },
     "metadata": {},
     "output_type": "display_data"
    },
    {
     "data": {
      "text/html": [
       "<h3>Volume 133: 8 January 1934 – 28 March 1934</h3>"
      ],
      "text/plain": [
       "<IPython.core.display.HTML object>"
      ]
     },
     "metadata": {},
     "output_type": "display_data"
    },
    {
     "data": {
      "text/html": [
       "<p>Estimated 303 of 307 pages (98.70% complete)</p>"
      ],
      "text/plain": [
       "<IPython.core.display.HTML object>"
      ]
     },
     "metadata": {},
     "output_type": "display_data"
    },
    {
     "data": {
      "text/html": [
       "<ul><li><a href=\"https://archivescollection.anu.edu.au/index.php/sydney-stock-exchange-stock-and-share-lists-134\">View description in archive</a></li><li><a href=\"https://openresearch-repository.anu.edu.au/handle/1885/146911\">View item in respository</a></li><li><a href=\"https://openresearch-repository.anu.edu.au/bitstream/1885/146911/2/AU%20NBAC%20N193-133.pdf\">View PDF</a></li><li><a href=\"https://cloudstor.aarnet.edu.au/plus/s/i02k4gxeEpMAUkm/download?path=AU%20NBAC%20N193-133\">Download images from Cloudstor</a></li><li><a href=\"volumes/vol-133-pages.csv\" download=\"volumes/vol-133-pages.csv\">Download page list as CSV</a></li></ul>"
      ],
      "text/plain": [
       "<IPython.core.display.HTML object>"
      ]
     },
     "metadata": {},
     "output_type": "display_data"
    },
    {
     "data": {
      "text/html": [
       "<h3>Volume 134: 5 April 1934 – 30 June 1934</h3>"
      ],
      "text/plain": [
       "<IPython.core.display.HTML object>"
      ]
     },
     "metadata": {},
     "output_type": "display_data"
    },
    {
     "data": {
      "text/html": [
       "<p>Estimated 309 of 313 pages (98.72% complete)</p>"
      ],
      "text/plain": [
       "<IPython.core.display.HTML object>"
      ]
     },
     "metadata": {},
     "output_type": "display_data"
    },
    {
     "data": {
      "text/html": [
       "<ul><li><a href=\"https://archivescollection.anu.edu.au/index.php/sydney-stock-exchange-stock-and-share-lists-135\">View description in archive</a></li><li><a href=\"https://openresearch-repository.anu.edu.au/handle/1885/146912\">View item in respository</a></li><li><a href=\"https://openresearch-repository.anu.edu.au/bitstream/1885/146912/2/AU%20NBAC%20N193-134.pdf\">View PDF</a></li><li><a href=\"https://cloudstor.aarnet.edu.au/plus/s/i02k4gxeEpMAUkm/download?path=AU%20NBAC%20N193-134\">Download images from Cloudstor</a></li><li><a href=\"volumes/vol-134-pages.csv\" download=\"volumes/vol-134-pages.csv\">Download page list as CSV</a></li></ul>"
      ],
      "text/plain": [
       "<IPython.core.display.HTML object>"
      ]
     },
     "metadata": {},
     "output_type": "display_data"
    },
    {
     "data": {
      "text/html": [
       "<h3>Volume 135: 2 July 1934 – 29 September 1934</h3>"
      ],
      "text/plain": [
       "<IPython.core.display.HTML object>"
      ]
     },
     "metadata": {},
     "output_type": "display_data"
    },
    {
     "data": {
      "text/html": [
       "<p>Estimated 390 of 392 pages (99.49% complete)</p>"
      ],
      "text/plain": [
       "<IPython.core.display.HTML object>"
      ]
     },
     "metadata": {},
     "output_type": "display_data"
    },
    {
     "data": {
      "text/html": [
       "<ul><li><a href=\"https://archivescollection.anu.edu.au/index.php/sydney-stock-exchange-stock-and-share-lists-136\">View description in archive</a></li><li><a href=\"https://openresearch-repository.anu.edu.au/handle/1885/146913\">View item in respository</a></li><li><a href=\"https://openresearch-repository.anu.edu.au/bitstream/1885/146913/2/AU%20NBAC%20N193-135.pdf\">View PDF</a></li><li><a href=\"https://cloudstor.aarnet.edu.au/plus/s/i02k4gxeEpMAUkm/download?path=AU%20NBAC%20N193-135\">Download images from Cloudstor</a></li><li><a href=\"volumes/vol-135-pages.csv\" download=\"volumes/vol-135-pages.csv\">Download page list as CSV</a></li></ul>"
      ],
      "text/plain": [
       "<IPython.core.display.HTML object>"
      ]
     },
     "metadata": {},
     "output_type": "display_data"
    },
    {
     "data": {
      "text/html": [
       "<h3>Volume 136: 2 October 1934 – 21 December 1934</h3>"
      ],
      "text/plain": [
       "<IPython.core.display.HTML object>"
      ]
     },
     "metadata": {},
     "output_type": "display_data"
    },
    {
     "data": {
      "text/html": [
       "<p>Estimated 365 of 368 pages (99.18% complete)</p>"
      ],
      "text/plain": [
       "<IPython.core.display.HTML object>"
      ]
     },
     "metadata": {},
     "output_type": "display_data"
    },
    {
     "data": {
      "text/html": [
       "<ul><li><a href=\"https://archivescollection.anu.edu.au/index.php/sydney-stock-exchange-stock-and-share-lists-137\">View description in archive</a></li><li><a href=\"https://openresearch-repository.anu.edu.au/handle/1885/146914\">View item in respository</a></li><li><a href=\"https://openresearch-repository.anu.edu.au/bitstream/1885/146914/2/AU%20NBAC%20N193-136.pdf\">View PDF</a></li><li><a href=\"https://cloudstor.aarnet.edu.au/plus/s/i02k4gxeEpMAUkm/download?path=AU%20NBAC%20N193-136\">Download images from Cloudstor</a></li><li><a href=\"volumes/vol-136-pages.csv\" download=\"volumes/vol-136-pages.csv\">Download page list as CSV</a></li></ul>"
      ],
      "text/plain": [
       "<IPython.core.display.HTML object>"
      ]
     },
     "metadata": {},
     "output_type": "display_data"
    },
    {
     "data": {
      "text/html": [
       "<h3>Volume 137: 7 January 1935 – 30 March 1935</h3>"
      ],
      "text/plain": [
       "<IPython.core.display.HTML object>"
      ]
     },
     "metadata": {},
     "output_type": "display_data"
    },
    {
     "data": {
      "text/html": [
       "<p>Estimated 375 of 378 pages (99.21% complete)</p>"
      ],
      "text/plain": [
       "<IPython.core.display.HTML object>"
      ]
     },
     "metadata": {},
     "output_type": "display_data"
    },
    {
     "data": {
      "text/html": [
       "<ul><li><a href=\"https://archivescollection.anu.edu.au/index.php/sydney-stock-exchange-stock-and-share-lists-138\">View description in archive</a></li><li><a href=\"https://openresearch-repository.anu.edu.au/handle/1885/146915\">View item in respository</a></li><li><a href=\"https://openresearch-repository.anu.edu.au/bitstream/1885/146915/2/AU%20NBAC%20N193-137.pdf\">View PDF</a></li><li><a href=\"https://cloudstor.aarnet.edu.au/plus/s/i02k4gxeEpMAUkm/download?path=AU%20NBAC%20N193-137\">Download images from Cloudstor</a></li><li><a href=\"volumes/vol-137-pages.csv\" download=\"volumes/vol-137-pages.csv\">Download page list as CSV</a></li></ul>"
      ],
      "text/plain": [
       "<IPython.core.display.HTML object>"
      ]
     },
     "metadata": {},
     "output_type": "display_data"
    },
    {
     "data": {
      "text/html": [
       "<h3>Volume 138: 1 April 1935 – 29 June 1935</h3>"
      ],
      "text/plain": [
       "<IPython.core.display.HTML object>"
      ]
     },
     "metadata": {},
     "output_type": "display_data"
    },
    {
     "data": {
      "text/html": [
       "<p>Estimated 366 of 366 pages (100.00% complete)</p>"
      ],
      "text/plain": [
       "<IPython.core.display.HTML object>"
      ]
     },
     "metadata": {},
     "output_type": "display_data"
    },
    {
     "data": {
      "text/html": [
       "<ul><li><a href=\"https://archivescollection.anu.edu.au/index.php/sydney-stock-exchange-stock-and-share-lists-139\">View description in archive</a></li><li><a href=\"https://openresearch-repository.anu.edu.au/handle/1885/146921\">View item in respository</a></li><li><a href=\"https://openresearch-repository.anu.edu.au/bitstream/1885/146921/2/AU%20NBAC%20N193-138.pdf\">View PDF</a></li><li><a href=\"https://cloudstor.aarnet.edu.au/plus/s/i02k4gxeEpMAUkm/download?path=AU%20NBAC%20N193-138\">Download images from Cloudstor</a></li><li><a href=\"volumes/vol-138-pages.csv\" download=\"volumes/vol-138-pages.csv\">Download page list as CSV</a></li></ul>"
      ],
      "text/plain": [
       "<IPython.core.display.HTML object>"
      ]
     },
     "metadata": {},
     "output_type": "display_data"
    },
    {
     "data": {
      "text/html": [
       "<h3>Volume 139: 1 July 1935 – 30 September 1935</h3>"
      ],
      "text/plain": [
       "<IPython.core.display.HTML object>"
      ]
     },
     "metadata": {},
     "output_type": "display_data"
    },
    {
     "data": {
      "text/html": [
       "<p>Estimated 416 of 422 pages (98.58% complete)</p>"
      ],
      "text/plain": [
       "<IPython.core.display.HTML object>"
      ]
     },
     "metadata": {},
     "output_type": "display_data"
    },
    {
     "data": {
      "text/html": [
       "<ul><li><a href=\"https://archivescollection.anu.edu.au/index.php/sydney-stock-exchange-stock-and-share-lists-140\">View description in archive</a></li><li><a href=\"https://openresearch-repository.anu.edu.au/handle/1885/146922\">View item in respository</a></li><li><a href=\"https://openresearch-repository.anu.edu.au/bitstream/1885/146922/2/AU%20NBAC%20N193-139.pdf\">View PDF</a></li><li><a href=\"https://cloudstor.aarnet.edu.au/plus/s/i02k4gxeEpMAUkm/download?path=AU%20NBAC%20N193-139\">Download images from Cloudstor</a></li><li><a href=\"volumes/vol-139-pages.csv\" download=\"volumes/vol-139-pages.csv\">Download page list as CSV</a></li></ul>"
      ],
      "text/plain": [
       "<IPython.core.display.HTML object>"
      ]
     },
     "metadata": {},
     "output_type": "display_data"
    },
    {
     "data": {
      "text/html": [
       "<h3>Volume 140: 1 October 1935 – 21 December 1935</h3>"
      ],
      "text/plain": [
       "<IPython.core.display.HTML object>"
      ]
     },
     "metadata": {},
     "output_type": "display_data"
    },
    {
     "data": {
      "text/html": [
       "<p>Estimated 371 of 372 pages (99.73% complete)</p>"
      ],
      "text/plain": [
       "<IPython.core.display.HTML object>"
      ]
     },
     "metadata": {},
     "output_type": "display_data"
    },
    {
     "data": {
      "text/html": [
       "<ul><li><a href=\"https://archivescollection.anu.edu.au/index.php/sydney-stock-exchange-stock-and-share-lists-141\">View description in archive</a></li><li><a href=\"https://openresearch-repository.anu.edu.au/handle/1885/146923\">View item in respository</a></li><li><a href=\"https://openresearch-repository.anu.edu.au/bitstream/1885/146923/2/AU%20NBAC%20N193-140.pdf\">View PDF</a></li><li><a href=\"https://cloudstor.aarnet.edu.au/plus/s/i02k4gxeEpMAUkm/download?path=AU%20NBAC%20N193-140\">Download images from Cloudstor</a></li><li><a href=\"volumes/vol-140-pages.csv\" download=\"volumes/vol-140-pages.csv\">Download page list as CSV</a></li></ul>"
      ],
      "text/plain": [
       "<IPython.core.display.HTML object>"
      ]
     },
     "metadata": {},
     "output_type": "display_data"
    },
    {
     "data": {
      "text/html": [
       "<h3>Volume 141: 6 January 1936 – 31 March 1936</h3>"
      ],
      "text/plain": [
       "<IPython.core.display.HTML object>"
      ]
     },
     "metadata": {},
     "output_type": "display_data"
    },
    {
     "data": {
      "text/html": [
       "<p>Estimated 381 of 390 pages (97.69% complete)</p>"
      ],
      "text/plain": [
       "<IPython.core.display.HTML object>"
      ]
     },
     "metadata": {},
     "output_type": "display_data"
    },
    {
     "data": {
      "text/html": [
       "<ul><li><a href=\"https://archivescollection.anu.edu.au/index.php/sydney-stock-exchange-stock-and-share-lists-142\">View description in archive</a></li><li><a href=\"https://openresearch-repository.anu.edu.au/handle/1885/146924\">View item in respository</a></li><li><a href=\"https://openresearch-repository.anu.edu.au/bitstream/1885/146924/2/AU%20NBAC%20N193-141.pdf\">View PDF</a></li><li><a href=\"https://cloudstor.aarnet.edu.au/plus/s/i02k4gxeEpMAUkm/download?path=AU%20NBAC%20N193-141\">Download images from Cloudstor</a></li><li><a href=\"volumes/vol-141-pages.csv\" download=\"volumes/vol-141-pages.csv\">Download page list as CSV</a></li></ul>"
      ],
      "text/plain": [
       "<IPython.core.display.HTML object>"
      ]
     },
     "metadata": {},
     "output_type": "display_data"
    },
    {
     "data": {
      "text/html": [
       "<h3>Volume 142: 1 April 1936 – 30 June 1936</h3>"
      ],
      "text/plain": [
       "<IPython.core.display.HTML object>"
      ]
     },
     "metadata": {},
     "output_type": "display_data"
    },
    {
     "data": {
      "text/html": [
       "<p>Estimated 373 of 376 pages (99.20% complete)</p>"
      ],
      "text/plain": [
       "<IPython.core.display.HTML object>"
      ]
     },
     "metadata": {},
     "output_type": "display_data"
    },
    {
     "data": {
      "text/html": [
       "<ul><li><a href=\"https://archivescollection.anu.edu.au/index.php/sydney-stock-exchange-stock-and-share-lists-143\">View description in archive</a></li><li><a href=\"https://openresearch-repository.anu.edu.au/handle/1885/146925\">View item in respository</a></li><li><a href=\"https://openresearch-repository.anu.edu.au/bitstream/1885/146925/2/AU%20NBAC%20N193-142.pdf\">View PDF</a></li><li><a href=\"https://cloudstor.aarnet.edu.au/plus/s/i02k4gxeEpMAUkm/download?path=AU%20NBAC%20N193-142\">Download images from Cloudstor</a></li><li><a href=\"volumes/vol-142-pages.csv\" download=\"volumes/vol-142-pages.csv\">Download page list as CSV</a></li></ul>"
      ],
      "text/plain": [
       "<IPython.core.display.HTML object>"
      ]
     },
     "metadata": {},
     "output_type": "display_data"
    },
    {
     "data": {
      "text/html": [
       "<h3>Volume 143: 1 July 1936 – 30 September 1936</h3>"
      ],
      "text/plain": [
       "<IPython.core.display.HTML object>"
      ]
     },
     "metadata": {},
     "output_type": "display_data"
    },
    {
     "data": {
      "text/html": [
       "<p>Estimated 416 of 416 pages (100.00% complete)</p>"
      ],
      "text/plain": [
       "<IPython.core.display.HTML object>"
      ]
     },
     "metadata": {},
     "output_type": "display_data"
    },
    {
     "data": {
      "text/html": [
       "<ul><li><a href=\"https://archivescollection.anu.edu.au/index.php/sydney-stock-exchange-stock-and-share-lists-144\">View description in archive</a></li><li><a href=\"https://openresearch-repository.anu.edu.au/handle/1885/146926\">View item in respository</a></li><li><a href=\"https://openresearch-repository.anu.edu.au/bitstream/1885/146926/2/AU%20NBAC%20N193-143.pdf\">View PDF</a></li><li><a href=\"https://cloudstor.aarnet.edu.au/plus/s/i02k4gxeEpMAUkm/download?path=AU%20NBAC%20N193-143\">Download images from Cloudstor</a></li><li><a href=\"volumes/vol-143-pages.csv\" download=\"volumes/vol-143-pages.csv\">Download page list as CSV</a></li></ul>"
      ],
      "text/plain": [
       "<IPython.core.display.HTML object>"
      ]
     },
     "metadata": {},
     "output_type": "display_data"
    },
    {
     "data": {
      "text/html": [
       "<h3>Volume 144: 1 October 1936 – 23 December 1936</h3>"
      ],
      "text/plain": [
       "<IPython.core.display.HTML object>"
      ]
     },
     "metadata": {},
     "output_type": "display_data"
    },
    {
     "data": {
      "text/html": [
       "<p>Estimated 366 of 370 pages (98.92% complete)</p>"
      ],
      "text/plain": [
       "<IPython.core.display.HTML object>"
      ]
     },
     "metadata": {},
     "output_type": "display_data"
    },
    {
     "data": {
      "text/html": [
       "<ul><li><a href=\"https://archivescollection.anu.edu.au/index.php/sydney-stock-exchange-stock-and-share-lists-145\">View description in archive</a></li><li><a href=\"https://openresearch-repository.anu.edu.au/handle/1885/146927\">View item in respository</a></li><li><a href=\"https://openresearch-repository.anu.edu.au/bitstream/1885/146927/2/AU%20NBAC%20N193-144.pdf\">View PDF</a></li><li><a href=\"https://cloudstor.aarnet.edu.au/plus/s/i02k4gxeEpMAUkm/download?path=AU%20NBAC%20N193-144\">Download images from Cloudstor</a></li><li><a href=\"volumes/vol-144-pages.csv\" download=\"volumes/vol-144-pages.csv\">Download page list as CSV</a></li></ul>"
      ],
      "text/plain": [
       "<IPython.core.display.HTML object>"
      ]
     },
     "metadata": {},
     "output_type": "display_data"
    },
    {
     "data": {
      "text/html": [
       "<h3>Volume 145: 4 January 1937 – 24 March 1937</h3>"
      ],
      "text/plain": [
       "<IPython.core.display.HTML object>"
      ]
     },
     "metadata": {},
     "output_type": "display_data"
    },
    {
     "data": {
      "text/html": [
       "<p>Estimated 359 of 364 pages (98.63% complete)</p>"
      ],
      "text/plain": [
       "<IPython.core.display.HTML object>"
      ]
     },
     "metadata": {},
     "output_type": "display_data"
    },
    {
     "data": {
      "text/html": [
       "<ul><li><a href=\"https://archivescollection.anu.edu.au/index.php/sydney-stock-exchange-stock-and-share-lists-146\">View description in archive</a></li><li><a href=\"https://openresearch-repository.anu.edu.au/handle/1885/146928\">View item in respository</a></li><li><a href=\"https://openresearch-repository.anu.edu.au/bitstream/1885/146928/2/AU%20NBAC%20N193-145.pdf\">View PDF</a></li><li><a href=\"https://cloudstor.aarnet.edu.au/plus/s/i02k4gxeEpMAUkm/download?path=AU%20NBAC%20N193-145\">Download images from Cloudstor</a></li><li><a href=\"volumes/vol-145-pages.csv\" download=\"volumes/vol-145-pages.csv\">Download page list as CSV</a></li></ul>"
      ],
      "text/plain": [
       "<IPython.core.display.HTML object>"
      ]
     },
     "metadata": {},
     "output_type": "display_data"
    },
    {
     "data": {
      "text/html": [
       "<h3>Volume 146: 1 April 1937 – 30 June 1937</h3>"
      ],
      "text/plain": [
       "<IPython.core.display.HTML object>"
      ]
     },
     "metadata": {},
     "output_type": "display_data"
    },
    {
     "data": {
      "text/html": [
       "<p>Estimated 605 of 606 pages (99.83% complete)</p>"
      ],
      "text/plain": [
       "<IPython.core.display.HTML object>"
      ]
     },
     "metadata": {},
     "output_type": "display_data"
    },
    {
     "data": {
      "text/html": [
       "<ul><li><a href=\"https://archivescollection.anu.edu.au/index.php/sydney-stock-exchange-stock-and-share-lists-147\">View description in archive</a></li><li><a href=\"https://openresearch-repository.anu.edu.au/handle/1885/146929\">View item in respository</a></li><li><a href=\"https://openresearch-repository.anu.edu.au/bitstream/1885/146929/2/AU%20NBAC%20N193-146.pdf\">View PDF</a></li><li><a href=\"https://cloudstor.aarnet.edu.au/plus/s/i02k4gxeEpMAUkm/download?path=AU%20NBAC%20N193-146\">Download images from Cloudstor</a></li><li><a href=\"volumes/vol-146-pages.csv\" download=\"volumes/vol-146-pages.csv\">Download page list as CSV</a></li></ul>"
      ],
      "text/plain": [
       "<IPython.core.display.HTML object>"
      ]
     },
     "metadata": {},
     "output_type": "display_data"
    },
    {
     "data": {
      "text/html": [
       "<h3>Volume 147: 1 July 1937 – 30 September 1937</h3>"
      ],
      "text/plain": [
       "<IPython.core.display.HTML object>"
      ]
     },
     "metadata": {},
     "output_type": "display_data"
    },
    {
     "data": {
      "text/html": [
       "<p>Estimated 621 of 624 pages (99.52% complete)</p>"
      ],
      "text/plain": [
       "<IPython.core.display.HTML object>"
      ]
     },
     "metadata": {},
     "output_type": "display_data"
    },
    {
     "data": {
      "text/html": [
       "<ul><li><a href=\"https://archivescollection.anu.edu.au/index.php/sydney-stock-exchange-stock-and-share-lists-148\">View description in archive</a></li><li><a href=\"https://openresearch-repository.anu.edu.au/handle/1885/146930\">View item in respository</a></li><li><a href=\"https://openresearch-repository.anu.edu.au/bitstream/1885/146930/2/AU%20NBAC%20N193-147.pdf\">View PDF</a></li><li><a href=\"https://cloudstor.aarnet.edu.au/plus/s/i02k4gxeEpMAUkm/download?path=AU%20NBAC%20N193-147\">Download images from Cloudstor</a></li><li><a href=\"volumes/vol-147-pages.csv\" download=\"volumes/vol-147-pages.csv\">Download page list as CSV</a></li></ul>"
      ],
      "text/plain": [
       "<IPython.core.display.HTML object>"
      ]
     },
     "metadata": {},
     "output_type": "display_data"
    },
    {
     "data": {
      "text/html": [
       "<h3>Volume 148: 1 October 1937 – 23 December 1937</h3>"
      ],
      "text/plain": [
       "<IPython.core.display.HTML object>"
      ]
     },
     "metadata": {},
     "output_type": "display_data"
    },
    {
     "data": {
      "text/html": [
       "<p>Estimated 564 of 567 pages (99.47% complete)</p>"
      ],
      "text/plain": [
       "<IPython.core.display.HTML object>"
      ]
     },
     "metadata": {},
     "output_type": "display_data"
    },
    {
     "data": {
      "text/html": [
       "<ul><li><a href=\"https://archivescollection.anu.edu.au/index.php/sydney-stock-exchange-stock-and-share-lists-149\">View description in archive</a></li><li><a href=\"https://openresearch-repository.anu.edu.au/handle/1885/146931\">View item in respository</a></li><li><a href=\"https://openresearch-repository.anu.edu.au/bitstream/1885/146931/2/AU%20NBAC%20N193-148.pdf\">View PDF</a></li><li><a href=\"https://cloudstor.aarnet.edu.au/plus/s/i02k4gxeEpMAUkm/download?path=AU%20NBAC%20N193-148\">Download images from Cloudstor</a></li><li><a href=\"volumes/vol-148-pages.csv\" download=\"volumes/vol-148-pages.csv\">Download page list as CSV</a></li></ul>"
      ],
      "text/plain": [
       "<IPython.core.display.HTML object>"
      ]
     },
     "metadata": {},
     "output_type": "display_data"
    },
    {
     "data": {
      "text/html": [
       "<h3>Volume 149: 5 January 1938 – 31 March 1938</h3>"
      ],
      "text/plain": [
       "<IPython.core.display.HTML object>"
      ]
     },
     "metadata": {},
     "output_type": "display_data"
    },
    {
     "data": {
      "text/html": [
       "<p>Estimated 585 of 585 pages (100.00% complete)</p>"
      ],
      "text/plain": [
       "<IPython.core.display.HTML object>"
      ]
     },
     "metadata": {},
     "output_type": "display_data"
    },
    {
     "data": {
      "text/html": [
       "<ul><li><a href=\"https://archivescollection.anu.edu.au/index.php/sydney-stock-exchange-stock-and-share-lists-150\">View description in archive</a></li><li><a href=\"https://openresearch-repository.anu.edu.au/handle/1885/146932\">View item in respository</a></li><li><a href=\"https://openresearch-repository.anu.edu.au/bitstream/1885/146932/2/AU%20NBAC%20N193-149.pdf\">View PDF</a></li><li><a href=\"https://cloudstor.aarnet.edu.au/plus/s/i02k4gxeEpMAUkm/download?path=AU%20NBAC%20N193-149\">Download images from Cloudstor</a></li><li><a href=\"volumes/vol-149-pages.csv\" download=\"volumes/vol-149-pages.csv\">Download page list as CSV</a></li></ul>"
      ],
      "text/plain": [
       "<IPython.core.display.HTML object>"
      ]
     },
     "metadata": {},
     "output_type": "display_data"
    },
    {
     "data": {
      "text/html": [
       "<h3>Volume 150: 1 April 1938 – 30 June 1938</h3>"
      ],
      "text/plain": [
       "<IPython.core.display.HTML object>"
      ]
     },
     "metadata": {},
     "output_type": "display_data"
    },
    {
     "data": {
      "text/html": [
       "<p>Estimated 555 of 558 pages (99.46% complete)</p>"
      ],
      "text/plain": [
       "<IPython.core.display.HTML object>"
      ]
     },
     "metadata": {},
     "output_type": "display_data"
    },
    {
     "data": {
      "text/html": [
       "<ul><li><a href=\"https://archivescollection.anu.edu.au/index.php/sydney-stock-exchange-stock-and-share-lists-151\">View description in archive</a></li><li><a href=\"https://openresearch-repository.anu.edu.au/handle/1885/146934\">View item in respository</a></li><li><a href=\"https://openresearch-repository.anu.edu.au/bitstream/1885/146934/2/AU%20NBAC%20N193-150.pdf\">View PDF</a></li><li><a href=\"https://cloudstor.aarnet.edu.au/plus/s/i02k4gxeEpMAUkm/download?path=AU%20NBAC%20N193-150\">Download images from Cloudstor</a></li><li><a href=\"volumes/vol-150-pages.csv\" download=\"volumes/vol-150-pages.csv\">Download page list as CSV</a></li></ul>"
      ],
      "text/plain": [
       "<IPython.core.display.HTML object>"
      ]
     },
     "metadata": {},
     "output_type": "display_data"
    },
    {
     "data": {
      "text/html": [
       "<h3>Volume 151: 1 July 1938 – 30 September 1938</h3>"
      ],
      "text/plain": [
       "<IPython.core.display.HTML object>"
      ]
     },
     "metadata": {},
     "output_type": "display_data"
    },
    {
     "data": {
      "text/html": [
       "<p>Estimated 623 of 624 pages (99.84% complete)</p>"
      ],
      "text/plain": [
       "<IPython.core.display.HTML object>"
      ]
     },
     "metadata": {},
     "output_type": "display_data"
    },
    {
     "data": {
      "text/html": [
       "<ul><li><a href=\"https://archivescollection.anu.edu.au/index.php/sydney-stock-exchange-stock-and-share-lists-152\">View description in archive</a></li><li><a href=\"https://openresearch-repository.anu.edu.au/handle/1885/146935\">View item in respository</a></li><li><a href=\"https://openresearch-repository.anu.edu.au/bitstream/1885/146935/2/AU%20NBAC%20N193-151.pdf\">View PDF</a></li><li><a href=\"https://cloudstor.aarnet.edu.au/plus/s/i02k4gxeEpMAUkm/download?path=AU%20NBAC%20N193-151\">Download images from Cloudstor</a></li><li><a href=\"volumes/vol-151-pages.csv\" download=\"volumes/vol-151-pages.csv\">Download page list as CSV</a></li></ul>"
      ],
      "text/plain": [
       "<IPython.core.display.HTML object>"
      ]
     },
     "metadata": {},
     "output_type": "display_data"
    },
    {
     "data": {
      "text/html": [
       "<h3>Volume 152: 1 October 1938 – 22 December 1938</h3>"
      ],
      "text/plain": [
       "<IPython.core.display.HTML object>"
      ]
     },
     "metadata": {},
     "output_type": "display_data"
    },
    {
     "data": {
      "text/html": [
       "<p>Estimated 555 of 558 pages (99.46% complete)</p>"
      ],
      "text/plain": [
       "<IPython.core.display.HTML object>"
      ]
     },
     "metadata": {},
     "output_type": "display_data"
    },
    {
     "data": {
      "text/html": [
       "<ul><li><a href=\"https://archivescollection.anu.edu.au/index.php/sydney-stock-exchange-stock-and-share-lists-153\">View description in archive</a></li><li><a href=\"https://openresearch-repository.anu.edu.au/handle/1885/146993\">View item in respository</a></li><li><a href=\"https://openresearch-repository.anu.edu.au/bitstream/1885/146993/2/AU%20NBAC%20N193-152.pdf\">View PDF</a></li><li><a href=\"https://cloudstor.aarnet.edu.au/plus/s/i02k4gxeEpMAUkm/download?path=AU%20NBAC%20N193-152\">Download images from Cloudstor</a></li><li><a href=\"volumes/vol-152-pages.csv\" download=\"volumes/vol-152-pages.csv\">Download page list as CSV</a></li></ul>"
      ],
      "text/plain": [
       "<IPython.core.display.HTML object>"
      ]
     },
     "metadata": {},
     "output_type": "display_data"
    },
    {
     "data": {
      "text/html": [
       "<h3>Volume 153: 3 January 1939 – 31 March 1939</h3>"
      ],
      "text/plain": [
       "<IPython.core.display.HTML object>"
      ]
     },
     "metadata": {},
     "output_type": "display_data"
    },
    {
     "data": {
      "text/html": [
       "<p>Estimated 600 of 603 pages (99.50% complete)</p>"
      ],
      "text/plain": [
       "<IPython.core.display.HTML object>"
      ]
     },
     "metadata": {},
     "output_type": "display_data"
    },
    {
     "data": {
      "text/html": [
       "<ul><li><a href=\"https://archivescollection.anu.edu.au/index.php/sydney-stock-exchange-stock-and-share-lists-154\">View description in archive</a></li><li><a href=\"https://openresearch-repository.anu.edu.au/handle/1885/146994\">View item in respository</a></li><li><a href=\"https://openresearch-repository.anu.edu.au/bitstream/1885/146994/2/AU%20NBAC%20N193-153.pdf\">View PDF</a></li><li><a href=\"https://cloudstor.aarnet.edu.au/plus/s/i02k4gxeEpMAUkm/download?path=AU%20NBAC%20N193-153\">Download images from Cloudstor</a></li><li><a href=\"volumes/vol-153-pages.csv\" download=\"volumes/vol-153-pages.csv\">Download page list as CSV</a></li></ul>"
      ],
      "text/plain": [
       "<IPython.core.display.HTML object>"
      ]
     },
     "metadata": {},
     "output_type": "display_data"
    },
    {
     "data": {
      "text/html": [
       "<h3>Volume 154: 1 April 1939 – 30 June 1939</h3>"
      ],
      "text/plain": [
       "<IPython.core.display.HTML object>"
      ]
     },
     "metadata": {},
     "output_type": "display_data"
    },
    {
     "data": {
      "text/html": [
       "<p>Estimated 573 of 585 pages (97.95% complete)</p>"
      ],
      "text/plain": [
       "<IPython.core.display.HTML object>"
      ]
     },
     "metadata": {},
     "output_type": "display_data"
    },
    {
     "data": {
      "text/html": [
       "<ul><li><a href=\"https://archivescollection.anu.edu.au/index.php/sydney-stock-exchange-stock-and-share-lists-155\">View description in archive</a></li><li><a href=\"https://openresearch-repository.anu.edu.au/handle/1885/146995\">View item in respository</a></li><li><a href=\"https://openresearch-repository.anu.edu.au/bitstream/1885/146995/2/AU%20NBAC%20N193-154.pdf\">View PDF</a></li><li><a href=\"https://cloudstor.aarnet.edu.au/plus/s/i02k4gxeEpMAUkm/download?path=AU%20NBAC%20N193-154\">Download images from Cloudstor</a></li><li><a href=\"volumes/vol-154-pages.csv\" download=\"volumes/vol-154-pages.csv\">Download page list as CSV</a></li></ul>"
      ],
      "text/plain": [
       "<IPython.core.display.HTML object>"
      ]
     },
     "metadata": {},
     "output_type": "display_data"
    },
    {
     "data": {
      "text/html": [
       "<h3>Volume 155: 1 July 1939 – 30 September 1939</h3>"
      ],
      "text/plain": [
       "<IPython.core.display.HTML object>"
      ]
     },
     "metadata": {},
     "output_type": "display_data"
    },
    {
     "data": {
      "text/html": [
       "<p>Estimated 605 of 606 pages (99.83% complete)</p>"
      ],
      "text/plain": [
       "<IPython.core.display.HTML object>"
      ]
     },
     "metadata": {},
     "output_type": "display_data"
    },
    {
     "data": {
      "text/html": [
       "<ul><li><a href=\"https://archivescollection.anu.edu.au/index.php/sydney-stock-exchange-stock-and-share-lists-156\">View description in archive</a></li><li><a href=\"https://openresearch-repository.anu.edu.au/handle/1885/146996\">View item in respository</a></li><li><a href=\"https://openresearch-repository.anu.edu.au/bitstream/1885/146996/2/AU%20NBAC%20N193-155.pdf\">View PDF</a></li><li><a href=\"https://cloudstor.aarnet.edu.au/plus/s/i02k4gxeEpMAUkm/download?path=AU%20NBAC%20N193-155\">Download images from Cloudstor</a></li><li><a href=\"volumes/vol-155-pages.csv\" download=\"volumes/vol-155-pages.csv\">Download page list as CSV</a></li></ul>"
      ],
      "text/plain": [
       "<IPython.core.display.HTML object>"
      ]
     },
     "metadata": {},
     "output_type": "display_data"
    },
    {
     "data": {
      "text/html": [
       "<h3>Volume 156: 3 October 1939 – 22 December 1939</h3>"
      ],
      "text/plain": [
       "<IPython.core.display.HTML object>"
      ]
     },
     "metadata": {},
     "output_type": "display_data"
    },
    {
     "data": {
      "text/html": [
       "<p>Estimated 558 of 564 pages (98.94% complete)</p>"
      ],
      "text/plain": [
       "<IPython.core.display.HTML object>"
      ]
     },
     "metadata": {},
     "output_type": "display_data"
    },
    {
     "data": {
      "text/html": [
       "<ul><li><a href=\"https://archivescollection.anu.edu.au/index.php/sydney-stock-exchange-stock-and-share-lists-157\">View description in archive</a></li><li><a href=\"https://openresearch-repository.anu.edu.au/handle/1885/146997\">View item in respository</a></li><li><a href=\"https://openresearch-repository.anu.edu.au/bitstream/1885/146997/2/AU%20NBAC%20N193-156.pdf\">View PDF</a></li><li><a href=\"https://cloudstor.aarnet.edu.au/plus/s/i02k4gxeEpMAUkm/download?path=AU%20NBAC%20N193-156\">Download images from Cloudstor</a></li><li><a href=\"volumes/vol-156-pages.csv\" download=\"volumes/vol-156-pages.csv\">Download page list as CSV</a></li></ul>"
      ],
      "text/plain": [
       "<IPython.core.display.HTML object>"
      ]
     },
     "metadata": {},
     "output_type": "display_data"
    },
    {
     "data": {
      "text/html": [
       "<h3>Volume 157: 2 January 1940 – 30 March 1940</h3>"
      ],
      "text/plain": [
       "<IPython.core.display.HTML object>"
      ]
     },
     "metadata": {},
     "output_type": "display_data"
    },
    {
     "data": {
      "text/html": [
       "<p>Estimated 579 of 585 pages (98.97% complete)</p>"
      ],
      "text/plain": [
       "<IPython.core.display.HTML object>"
      ]
     },
     "metadata": {},
     "output_type": "display_data"
    },
    {
     "data": {
      "text/html": [
       "<ul><li><a href=\"https://archivescollection.anu.edu.au/index.php/sydney-stock-exchange-stock-and-share-lists-158\">View description in archive</a></li><li><a href=\"https://openresearch-repository.anu.edu.au/handle/1885/146998\">View item in respository</a></li><li><a href=\"https://openresearch-repository.anu.edu.au/bitstream/1885/146998/2/AU%20NBAC%20N193-157.pdf\">View PDF</a></li><li><a href=\"https://cloudstor.aarnet.edu.au/plus/s/i02k4gxeEpMAUkm/download?path=AU%20NBAC%20N193-157\">Download images from Cloudstor</a></li><li><a href=\"volumes/vol-157-pages.csv\" download=\"volumes/vol-157-pages.csv\">Download page list as CSV</a></li></ul>"
      ],
      "text/plain": [
       "<IPython.core.display.HTML object>"
      ]
     },
     "metadata": {},
     "output_type": "display_data"
    },
    {
     "data": {
      "text/html": [
       "<h3>Volume 158: 1 April 1940 – 29 June 1940</h3>"
      ],
      "text/plain": [
       "<IPython.core.display.HTML object>"
      ]
     },
     "metadata": {},
     "output_type": "display_data"
    },
    {
     "data": {
      "text/html": [
       "<p>Estimated 606 of 606 pages (100.00% complete)</p>"
      ],
      "text/plain": [
       "<IPython.core.display.HTML object>"
      ]
     },
     "metadata": {},
     "output_type": "display_data"
    },
    {
     "data": {
      "text/html": [
       "<ul><li><a href=\"https://archivescollection.anu.edu.au/index.php/sydney-stock-exchange-stock-and-share-lists-159\">View description in archive</a></li><li><a href=\"https://openresearch-repository.anu.edu.au/handle/1885/146999\">View item in respository</a></li><li><a href=\"https://openresearch-repository.anu.edu.au/bitstream/1885/146999/2/AU%20NBAC%20N193-158.pdf\">View PDF</a></li><li><a href=\"https://cloudstor.aarnet.edu.au/plus/s/i02k4gxeEpMAUkm/download?path=AU%20NBAC%20N193-158\">Download images from Cloudstor</a></li><li><a href=\"volumes/vol-158-pages.csv\" download=\"volumes/vol-158-pages.csv\">Download page list as CSV</a></li></ul>"
      ],
      "text/plain": [
       "<IPython.core.display.HTML object>"
      ]
     },
     "metadata": {},
     "output_type": "display_data"
    },
    {
     "data": {
      "text/html": [
       "<h3>Volume 159: 1 July 1940 – 30 September 1940</h3>"
      ],
      "text/plain": [
       "<IPython.core.display.HTML object>"
      ]
     },
     "metadata": {},
     "output_type": "display_data"
    },
    {
     "data": {
      "text/html": [
       "<p>Estimated 632 of 633 pages (99.84% complete)</p>"
      ],
      "text/plain": [
       "<IPython.core.display.HTML object>"
      ]
     },
     "metadata": {},
     "output_type": "display_data"
    },
    {
     "data": {
      "text/html": [
       "<ul><li><a href=\"https://archivescollection.anu.edu.au/index.php/sydney-stock-exchange-stock-and-share-lists-160\">View description in archive</a></li><li><a href=\"https://openresearch-repository.anu.edu.au/handle/1885/147000\">View item in respository</a></li><li><a href=\"https://openresearch-repository.anu.edu.au/bitstream/1885/147000/2/AU%20NBAC%20N193-159.pdf\">View PDF</a></li><li><a href=\"https://cloudstor.aarnet.edu.au/plus/s/i02k4gxeEpMAUkm/download?path=AU%20NBAC%20N193-159\">Download images from Cloudstor</a></li><li><a href=\"volumes/vol-159-pages.csv\" download=\"volumes/vol-159-pages.csv\">Download page list as CSV</a></li></ul>"
      ],
      "text/plain": [
       "<IPython.core.display.HTML object>"
      ]
     },
     "metadata": {},
     "output_type": "display_data"
    },
    {
     "data": {
      "text/html": [
       "<h3>Volume 160: 1 October 1940 – 21 December 1940</h3>"
      ],
      "text/plain": [
       "<IPython.core.display.HTML object>"
      ]
     },
     "metadata": {},
     "output_type": "display_data"
    },
    {
     "data": {
      "text/html": [
       "<p>Estimated 555 of 558 pages (99.46% complete)</p>"
      ],
      "text/plain": [
       "<IPython.core.display.HTML object>"
      ]
     },
     "metadata": {},
     "output_type": "display_data"
    },
    {
     "data": {
      "text/html": [
       "<ul><li><a href=\"https://archivescollection.anu.edu.au/index.php/sydney-stock-exchange-stock-and-share-lists-161\">View description in archive</a></li><li><a href=\"https://openresearch-repository.anu.edu.au/handle/1885/147001\">View item in respository</a></li><li><a href=\"https://openresearch-repository.anu.edu.au/bitstream/1885/147001/2/AU%20NBAC%20N193-160.pdf\">View PDF</a></li><li><a href=\"https://cloudstor.aarnet.edu.au/plus/s/i02k4gxeEpMAUkm/download?path=AU%20NBAC%20N193-160\">Download images from Cloudstor</a></li><li><a href=\"volumes/vol-160-pages.csv\" download=\"volumes/vol-160-pages.csv\">Download page list as CSV</a></li></ul>"
      ],
      "text/plain": [
       "<IPython.core.display.HTML object>"
      ]
     },
     "metadata": {},
     "output_type": "display_data"
    },
    {
     "data": {
      "text/html": [
       "<h3>Volume 161: 2 January 1941 – 31 March 1941</h3>"
      ],
      "text/plain": [
       "<IPython.core.display.HTML object>"
      ]
     },
     "metadata": {},
     "output_type": "display_data"
    },
    {
     "data": {
      "text/html": [
       "<p>Estimated 591 of 597 pages (98.99% complete)</p>"
      ],
      "text/plain": [
       "<IPython.core.display.HTML object>"
      ]
     },
     "metadata": {},
     "output_type": "display_data"
    },
    {
     "data": {
      "text/html": [
       "<ul><li><a href=\"https://archivescollection.anu.edu.au/index.php/sydney-stock-exchange-stock-and-share-lists-162\">View description in archive</a></li><li><a href=\"https://openresearch-repository.anu.edu.au/handle/1885/147002\">View item in respository</a></li><li><a href=\"https://openresearch-repository.anu.edu.au/bitstream/1885/147002/2/AU%20NBAC%20N193-161.pdf\">View PDF</a></li><li><a href=\"https://cloudstor.aarnet.edu.au/plus/s/i02k4gxeEpMAUkm/download?path=AU%20NBAC%20N193-161\">Download images from Cloudstor</a></li><li><a href=\"volumes/vol-161-pages.csv\" download=\"volumes/vol-161-pages.csv\">Download page list as CSV</a></li></ul>"
      ],
      "text/plain": [
       "<IPython.core.display.HTML object>"
      ]
     },
     "metadata": {},
     "output_type": "display_data"
    },
    {
     "data": {
      "text/html": [
       "<h3>Volume 162: 1 April 1941 – 30 June 1941</h3>"
      ],
      "text/plain": [
       "<IPython.core.display.HTML object>"
      ]
     },
     "metadata": {},
     "output_type": "display_data"
    },
    {
     "data": {
      "text/html": [
       "<p>Estimated 570 of 585 pages (97.44% complete)</p>"
      ],
      "text/plain": [
       "<IPython.core.display.HTML object>"
      ]
     },
     "metadata": {},
     "output_type": "display_data"
    },
    {
     "data": {
      "text/html": [
       "<ul><li><a href=\"https://archivescollection.anu.edu.au/index.php/sydney-stock-exchange-stock-and-share-lists-163\">View description in archive</a></li><li><a href=\"https://openresearch-repository.anu.edu.au/handle/1885/147003\">View item in respository</a></li><li><a href=\"https://openresearch-repository.anu.edu.au/bitstream/1885/147003/2/AU%20NBAC%20N193-162.pdf\">View PDF</a></li><li><a href=\"https://cloudstor.aarnet.edu.au/plus/s/i02k4gxeEpMAUkm/download?path=AU%20NBAC%20N193-162\">Download images from Cloudstor</a></li><li><a href=\"volumes/vol-162-pages.csv\" download=\"volumes/vol-162-pages.csv\">Download page list as CSV</a></li></ul>"
      ],
      "text/plain": [
       "<IPython.core.display.HTML object>"
      ]
     },
     "metadata": {},
     "output_type": "display_data"
    },
    {
     "data": {
      "text/html": [
       "<h3>Volume 163: 1 July 1941 – 30 September 1941</h3>"
      ],
      "text/plain": [
       "<IPython.core.display.HTML object>"
      ]
     },
     "metadata": {},
     "output_type": "display_data"
    },
    {
     "data": {
      "text/html": [
       "<p>Estimated 620 of 624 pages (99.36% complete)</p>"
      ],
      "text/plain": [
       "<IPython.core.display.HTML object>"
      ]
     },
     "metadata": {},
     "output_type": "display_data"
    },
    {
     "data": {
      "text/html": [
       "<ul><li><a href=\"https://archivescollection.anu.edu.au/index.php/sydney-stock-exchange-stock-and-share-lists-164\">View description in archive</a></li><li><a href=\"https://openresearch-repository.anu.edu.au/handle/1885/147004\">View item in respository</a></li><li><a href=\"https://openresearch-repository.anu.edu.au/bitstream/1885/147004/2/AU%20NBAC%20N193-163.pdf\">View PDF</a></li><li><a href=\"https://cloudstor.aarnet.edu.au/plus/s/i02k4gxeEpMAUkm/download?path=AU%20NBAC%20N193-163\">Download images from Cloudstor</a></li><li><a href=\"volumes/vol-163-pages.csv\" download=\"volumes/vol-163-pages.csv\">Download page list as CSV</a></li></ul>"
      ],
      "text/plain": [
       "<IPython.core.display.HTML object>"
      ]
     },
     "metadata": {},
     "output_type": "display_data"
    },
    {
     "data": {
      "text/html": [
       "<h3>Volume 164: 1 October 1941 – 31 December 1941</h3>"
      ],
      "text/plain": [
       "<IPython.core.display.HTML object>"
      ]
     },
     "metadata": {},
     "output_type": "display_data"
    },
    {
     "data": {
      "text/html": [
       "<p>Estimated 600 of 606 pages (99.01% complete)</p>"
      ],
      "text/plain": [
       "<IPython.core.display.HTML object>"
      ]
     },
     "metadata": {},
     "output_type": "display_data"
    },
    {
     "data": {
      "text/html": [
       "<ul><li><a href=\"https://archivescollection.anu.edu.au/index.php/sydney-stock-exchange-stock-and-share-lists-165\">View description in archive</a></li><li><a href=\"https://openresearch-repository.anu.edu.au/handle/1885/147006\">View item in respository</a></li><li><a href=\"https://openresearch-repository.anu.edu.au/bitstream/1885/147006/2/AU%20NBAC%20N193-164.pdf\">View PDF</a></li><li><a href=\"https://cloudstor.aarnet.edu.au/plus/s/i02k4gxeEpMAUkm/download?path=AU%20NBAC%20N193-164\">Download images from Cloudstor</a></li><li><a href=\"volumes/vol-164-pages.csv\" download=\"volumes/vol-164-pages.csv\">Download page list as CSV</a></li></ul>"
      ],
      "text/plain": [
       "<IPython.core.display.HTML object>"
      ]
     },
     "metadata": {},
     "output_type": "display_data"
    },
    {
     "data": {
      "text/html": [
       "<h3>Volume 165: 2 January 1942 – 31 March 1942</h3>"
      ],
      "text/plain": [
       "<IPython.core.display.HTML object>"
      ]
     },
     "metadata": {},
     "output_type": "display_data"
    },
    {
     "data": {
      "text/html": [
       "<p>Estimated 439 of 501 pages (87.62% complete)</p>"
      ],
      "text/plain": [
       "<IPython.core.display.HTML object>"
      ]
     },
     "metadata": {},
     "output_type": "display_data"
    },
    {
     "data": {
      "text/html": [
       "<ul><li><a href=\"https://archivescollection.anu.edu.au/index.php/sydney-stock-exchange-stock-and-share-lists-166\">View description in archive</a></li><li><a href=\"https://openresearch-repository.anu.edu.au/handle/1885/147007\">View item in respository</a></li><li><a href=\"https://openresearch-repository.anu.edu.au/bitstream/1885/147007/2/AU%20NBAC%20N193-165.pdf\">View PDF</a></li><li><a href=\"https://cloudstor.aarnet.edu.au/plus/s/i02k4gxeEpMAUkm/download?path=AU%20NBAC%20N193-165\">Download images from Cloudstor</a></li><li><a href=\"volumes/vol-165-pages.csv\" download=\"volumes/vol-165-pages.csv\">Download page list as CSV</a></li></ul>"
      ],
      "text/plain": [
       "<IPython.core.display.HTML object>"
      ]
     },
     "metadata": {},
     "output_type": "display_data"
    },
    {
     "data": {
      "text/html": [
       "<h3>Volume 166: 1 April 1942 – 30 June 1942</h3>"
      ],
      "text/plain": [
       "<IPython.core.display.HTML object>"
      ]
     },
     "metadata": {},
     "output_type": "display_data"
    },
    {
     "data": {
      "text/html": [
       "<p>Estimated 408 of 411 pages (99.27% complete)</p>"
      ],
      "text/plain": [
       "<IPython.core.display.HTML object>"
      ]
     },
     "metadata": {},
     "output_type": "display_data"
    },
    {
     "data": {
      "text/html": [
       "<ul><li><a href=\"https://archivescollection.anu.edu.au/index.php/sydney-stock-exchange-stock-and-share-lists-167\">View description in archive</a></li><li><a href=\"https://openresearch-repository.anu.edu.au/handle/1885/147008\">View item in respository</a></li><li><a href=\"https://openresearch-repository.anu.edu.au/bitstream/1885/147008/2/AU%20NBAC%20N193-166.pdf\">View PDF</a></li><li><a href=\"https://cloudstor.aarnet.edu.au/plus/s/i02k4gxeEpMAUkm/download?path=AU%20NBAC%20N193-166\">Download images from Cloudstor</a></li><li><a href=\"volumes/vol-166-pages.csv\" download=\"volumes/vol-166-pages.csv\">Download page list as CSV</a></li></ul>"
      ],
      "text/plain": [
       "<IPython.core.display.HTML object>"
      ]
     },
     "metadata": {},
     "output_type": "display_data"
    },
    {
     "data": {
      "text/html": [
       "<h3>Volume 167: 1 July 1942 – 30 September 1942</h3>"
      ],
      "text/plain": [
       "<IPython.core.display.HTML object>"
      ]
     },
     "metadata": {},
     "output_type": "display_data"
    },
    {
     "data": {
      "text/html": [
       "<p>Estimated 429 of 429 pages (100.00% complete)</p>"
      ],
      "text/plain": [
       "<IPython.core.display.HTML object>"
      ]
     },
     "metadata": {},
     "output_type": "display_data"
    },
    {
     "data": {
      "text/html": [
       "<ul><li><a href=\"https://archivescollection.anu.edu.au/index.php/sydney-stock-exchange-stock-and-share-lists-168\">View description in archive</a></li><li><a href=\"https://cloudstor.aarnet.edu.au/plus/s/i02k4gxeEpMAUkm/download?path=AU%20NBAC%20N193-167\">Download images from Cloudstor</a></li><li><a href=\"volumes/vol-167-pages.csv\" download=\"volumes/vol-167-pages.csv\">Download page list as CSV</a></li></ul>"
      ],
      "text/plain": [
       "<IPython.core.display.HTML object>"
      ]
     },
     "metadata": {},
     "output_type": "display_data"
    },
    {
     "data": {
      "text/html": [
       "<h3>Volume 168: 1 October 1942 – 31 December 1942</h3>"
      ],
      "text/plain": [
       "<IPython.core.display.HTML object>"
      ]
     },
     "metadata": {},
     "output_type": "display_data"
    },
    {
     "data": {
      "text/html": [
       "<p>Estimated 414 of 414 pages (100.00% complete)</p>"
      ],
      "text/plain": [
       "<IPython.core.display.HTML object>"
      ]
     },
     "metadata": {},
     "output_type": "display_data"
    },
    {
     "data": {
      "text/html": [
       "<ul><li><a href=\"https://archivescollection.anu.edu.au/index.php/sydney-stock-exchange-stock-and-share-lists-169\">View description in archive</a></li><li><a href=\"https://openresearch-repository.anu.edu.au/handle/1885/147010\">View item in respository</a></li><li><a href=\"https://openresearch-repository.anu.edu.au/bitstream/1885/147010/2/AU%20NBAC%20N193-168.pdf\">View PDF</a></li><li><a href=\"https://cloudstor.aarnet.edu.au/plus/s/i02k4gxeEpMAUkm/download?path=AU%20NBAC%20N193-168\">Download images from Cloudstor</a></li><li><a href=\"volumes/vol-168-pages.csv\" download=\"volumes/vol-168-pages.csv\">Download page list as CSV</a></li></ul>"
      ],
      "text/plain": [
       "<IPython.core.display.HTML object>"
      ]
     },
     "metadata": {},
     "output_type": "display_data"
    },
    {
     "data": {
      "text/html": [
       "<h3>Volume 169: 1 January 1943 – 31 March 1943</h3>"
      ],
      "text/plain": [
       "<IPython.core.display.HTML object>"
      ]
     },
     "metadata": {},
     "output_type": "display_data"
    },
    {
     "data": {
      "text/html": [
       "<p>Estimated 416 of 417 pages (99.76% complete)</p>"
      ],
      "text/plain": [
       "<IPython.core.display.HTML object>"
      ]
     },
     "metadata": {},
     "output_type": "display_data"
    },
    {
     "data": {
      "text/html": [
       "<ul><li><a href=\"https://archivescollection.anu.edu.au/index.php/sydney-stock-exchange-stock-and-share-lists-170\">View description in archive</a></li><li><a href=\"https://openresearch-repository.anu.edu.au/handle/1885/147011\">View item in respository</a></li><li><a href=\"https://openresearch-repository.anu.edu.au/bitstream/1885/147011/2/AU%20NBAC%20N193-169.pdf\">View PDF</a></li><li><a href=\"https://cloudstor.aarnet.edu.au/plus/s/i02k4gxeEpMAUkm/download?path=AU%20NBAC%20N193-169\">Download images from Cloudstor</a></li><li><a href=\"volumes/vol-169-pages.csv\" download=\"volumes/vol-169-pages.csv\">Download page list as CSV</a></li></ul>"
      ],
      "text/plain": [
       "<IPython.core.display.HTML object>"
      ]
     },
     "metadata": {},
     "output_type": "display_data"
    },
    {
     "data": {
      "text/html": [
       "<h3>Volume 170: 1 April 1943 – 30 June 1943</h3>"
      ],
      "text/plain": [
       "<IPython.core.display.HTML object>"
      ]
     },
     "metadata": {},
     "output_type": "display_data"
    },
    {
     "data": {
      "text/html": [
       "<p>Estimated 408 of 408 pages (100.00% complete)</p>"
      ],
      "text/plain": [
       "<IPython.core.display.HTML object>"
      ]
     },
     "metadata": {},
     "output_type": "display_data"
    },
    {
     "data": {
      "text/html": [
       "<ul><li><a href=\"https://archivescollection.anu.edu.au/index.php/sydney-stock-exchange-stock-and-share-lists-171\">View description in archive</a></li><li><a href=\"https://openresearch-repository.anu.edu.au/handle/1885/147012\">View item in respository</a></li><li><a href=\"https://openresearch-repository.anu.edu.au/bitstream/1885/147012/2/AU%20NBAC%20N193-170.pdf\">View PDF</a></li><li><a href=\"https://cloudstor.aarnet.edu.au/plus/s/i02k4gxeEpMAUkm/download?path=AU%20NBAC%20N193-170\">Download images from Cloudstor</a></li><li><a href=\"volumes/vol-170-pages.csv\" download=\"volumes/vol-170-pages.csv\">Download page list as CSV</a></li></ul>"
      ],
      "text/plain": [
       "<IPython.core.display.HTML object>"
      ]
     },
     "metadata": {},
     "output_type": "display_data"
    },
    {
     "data": {
      "text/html": [
       "<h3>Volume 171: 1 July 1943 – 30 September 1943</h3>"
      ],
      "text/plain": [
       "<IPython.core.display.HTML object>"
      ]
     },
     "metadata": {},
     "output_type": "display_data"
    },
    {
     "data": {
      "text/html": [
       "<p>Estimated 428 of 429 pages (99.77% complete)</p>"
      ],
      "text/plain": [
       "<IPython.core.display.HTML object>"
      ]
     },
     "metadata": {},
     "output_type": "display_data"
    },
    {
     "data": {
      "text/html": [
       "<ul><li><a href=\"https://archivescollection.anu.edu.au/index.php/sydney-stock-exchange-stock-and-share-lists-172\">View description in archive</a></li><li><a href=\"https://openresearch-repository.anu.edu.au/handle/1885/147013\">View item in respository</a></li><li><a href=\"https://openresearch-repository.anu.edu.au/bitstream/1885/147013/2/AU%20NBAC%20N193-171.pdf\">View PDF</a></li><li><a href=\"https://cloudstor.aarnet.edu.au/plus/s/i02k4gxeEpMAUkm/download?path=AU%20NBAC%20N193-171\">Download images from Cloudstor</a></li><li><a href=\"volumes/vol-171-pages.csv\" download=\"volumes/vol-171-pages.csv\">Download page list as CSV</a></li></ul>"
      ],
      "text/plain": [
       "<IPython.core.display.HTML object>"
      ]
     },
     "metadata": {},
     "output_type": "display_data"
    },
    {
     "data": {
      "text/html": [
       "<h3>Volume 172: 1 October 1943 – 24 December 1943</h3>"
      ],
      "text/plain": [
       "<IPython.core.display.HTML object>"
      ]
     },
     "metadata": {},
     "output_type": "display_data"
    },
    {
     "data": {
      "text/html": [
       "<p>Estimated 392 of 396 pages (98.99% complete)</p>"
      ],
      "text/plain": [
       "<IPython.core.display.HTML object>"
      ]
     },
     "metadata": {},
     "output_type": "display_data"
    },
    {
     "data": {
      "text/html": [
       "<ul><li><a href=\"https://archivescollection.anu.edu.au/index.php/sydney-stock-exchange-stock-and-share-lists-173\">View description in archive</a></li><li><a href=\"https://openresearch-repository.anu.edu.au/handle/1885/147014\">View item in respository</a></li><li><a href=\"https://openresearch-repository.anu.edu.au/bitstream/1885/147014/2/AU%20NBAC%20N193-172.pdf\">View PDF</a></li><li><a href=\"https://cloudstor.aarnet.edu.au/plus/s/i02k4gxeEpMAUkm/download?path=AU%20NBAC%20N193-172\">Download images from Cloudstor</a></li><li><a href=\"volumes/vol-172-pages.csv\" download=\"volumes/vol-172-pages.csv\">Download page list as CSV</a></li></ul>"
      ],
      "text/plain": [
       "<IPython.core.display.HTML object>"
      ]
     },
     "metadata": {},
     "output_type": "display_data"
    },
    {
     "data": {
      "text/html": [
       "<h3>Volume 173: 4 January 1944 – 31 March 1944</h3>"
      ],
      "text/plain": [
       "<IPython.core.display.HTML object>"
      ]
     },
     "metadata": {},
     "output_type": "display_data"
    },
    {
     "data": {
      "text/html": [
       "<p>Estimated 414 of 414 pages (100.00% complete)</p>"
      ],
      "text/plain": [
       "<IPython.core.display.HTML object>"
      ]
     },
     "metadata": {},
     "output_type": "display_data"
    },
    {
     "data": {
      "text/html": [
       "<ul><li><a href=\"https://archivescollection.anu.edu.au/index.php/sydney-stock-exchange-stock-and-share-lists-174\">View description in archive</a></li><li><a href=\"https://openresearch-repository.anu.edu.au/handle/1885/147015\">View item in respository</a></li><li><a href=\"https://openresearch-repository.anu.edu.au/bitstream/1885/147015/2/AU%20NBAC%20N193-173.pdf\">View PDF</a></li><li><a href=\"https://cloudstor.aarnet.edu.au/plus/s/i02k4gxeEpMAUkm/download?path=AU%20NBAC%20N193-173\">Download images from Cloudstor</a></li><li><a href=\"volumes/vol-173-pages.csv\" download=\"volumes/vol-173-pages.csv\">Download page list as CSV</a></li></ul>"
      ],
      "text/plain": [
       "<IPython.core.display.HTML object>"
      ]
     },
     "metadata": {},
     "output_type": "display_data"
    },
    {
     "data": {
      "text/html": [
       "<h3>Volume 174: 1 April 1944 – 30 June 1944</h3>"
      ],
      "text/plain": [
       "<IPython.core.display.HTML object>"
      ]
     },
     "metadata": {},
     "output_type": "display_data"
    },
    {
     "data": {
      "text/html": [
       "<p>Estimated 393 of 396 pages (99.24% complete)</p>"
      ],
      "text/plain": [
       "<IPython.core.display.HTML object>"
      ]
     },
     "metadata": {},
     "output_type": "display_data"
    },
    {
     "data": {
      "text/html": [
       "<ul><li><a href=\"https://archivescollection.anu.edu.au/index.php/sydney-stock-exchange-stock-and-share-lists-175\">View description in archive</a></li><li><a href=\"https://openresearch-repository.anu.edu.au/handle/1885/147016\">View item in respository</a></li><li><a href=\"https://openresearch-repository.anu.edu.au/bitstream/1885/147016/2/AU%20NBAC%20N193-174.pdf\">View PDF</a></li><li><a href=\"https://cloudstor.aarnet.edu.au/plus/s/i02k4gxeEpMAUkm/download?path=AU%20NBAC%20N193-174\">Download images from Cloudstor</a></li><li><a href=\"volumes/vol-174-pages.csv\" download=\"volumes/vol-174-pages.csv\">Download page list as CSV</a></li></ul>"
      ],
      "text/plain": [
       "<IPython.core.display.HTML object>"
      ]
     },
     "metadata": {},
     "output_type": "display_data"
    },
    {
     "data": {
      "text/html": [
       "<h3>Volume 175: 1 July 1944 – 30 September 1944</h3>"
      ],
      "text/plain": [
       "<IPython.core.display.HTML object>"
      ]
     },
     "metadata": {},
     "output_type": "display_data"
    },
    {
     "data": {
      "text/html": [
       "<p>Estimated 426 of 426 pages (100.00% complete)</p>"
      ],
      "text/plain": [
       "<IPython.core.display.HTML object>"
      ]
     },
     "metadata": {},
     "output_type": "display_data"
    },
    {
     "data": {
      "text/html": [
       "<ul><li><a href=\"https://archivescollection.anu.edu.au/index.php/sydney-stock-exchange-stock-and-share-lists-176\">View description in archive</a></li><li><a href=\"https://openresearch-repository.anu.edu.au/handle/1885/147017\">View item in respository</a></li><li><a href=\"https://openresearch-repository.anu.edu.au/bitstream/1885/147017/2/AU%20NBAC%20N193-175.pdf\">View PDF</a></li><li><a href=\"https://cloudstor.aarnet.edu.au/plus/s/i02k4gxeEpMAUkm/download?path=AU%20NBAC%20N193-175\">Download images from Cloudstor</a></li><li><a href=\"volumes/vol-175-pages.csv\" download=\"volumes/vol-175-pages.csv\">Download page list as CSV</a></li></ul>"
      ],
      "text/plain": [
       "<IPython.core.display.HTML object>"
      ]
     },
     "metadata": {},
     "output_type": "display_data"
    },
    {
     "data": {
      "text/html": [
       "<h3>Volume 176: 3 October 1944 – 22 December 1944</h3>"
      ],
      "text/plain": [
       "<IPython.core.display.HTML object>"
      ]
     },
     "metadata": {},
     "output_type": "display_data"
    },
    {
     "data": {
      "text/html": [
       "<p>Estimated 384 of 387 pages (99.22% complete)</p>"
      ],
      "text/plain": [
       "<IPython.core.display.HTML object>"
      ]
     },
     "metadata": {},
     "output_type": "display_data"
    },
    {
     "data": {
      "text/html": [
       "<ul><li><a href=\"https://archivescollection.anu.edu.au/index.php/sydney-stock-exchange-stock-and-share-lists-177\">View description in archive</a></li><li><a href=\"https://openresearch-repository.anu.edu.au/handle/1885/147018\">View item in respository</a></li><li><a href=\"https://openresearch-repository.anu.edu.au/bitstream/1885/147018/2/AU%20NBAC%20N193-176.pdf\">View PDF</a></li><li><a href=\"https://cloudstor.aarnet.edu.au/plus/s/i02k4gxeEpMAUkm/download?path=AU%20NBAC%20N193-176\">Download images from Cloudstor</a></li><li><a href=\"volumes/vol-176-pages.csv\" download=\"volumes/vol-176-pages.csv\">Download page list as CSV</a></li></ul>"
      ],
      "text/plain": [
       "<IPython.core.display.HTML object>"
      ]
     },
     "metadata": {},
     "output_type": "display_data"
    },
    {
     "data": {
      "text/html": [
       "<h3>Volume 177: 4 January 1945 – 29 March 1945</h3>"
      ],
      "text/plain": [
       "<IPython.core.display.HTML object>"
      ]
     },
     "metadata": {},
     "output_type": "display_data"
    },
    {
     "data": {
      "text/html": [
       "<p>Estimated 393 of 396 pages (99.24% complete)</p>"
      ],
      "text/plain": [
       "<IPython.core.display.HTML object>"
      ]
     },
     "metadata": {},
     "output_type": "display_data"
    },
    {
     "data": {
      "text/html": [
       "<ul><li><a href=\"https://archivescollection.anu.edu.au/index.php/sydney-stock-exchange-stock-and-share-lists-178\">View description in archive</a></li><li><a href=\"https://openresearch-repository.anu.edu.au/handle/1885/147019\">View item in respository</a></li><li><a href=\"https://openresearch-repository.anu.edu.au/bitstream/1885/147019/2/AU%20NBAC%20N193-177.pdf\">View PDF</a></li><li><a href=\"https://cloudstor.aarnet.edu.au/plus/s/i02k4gxeEpMAUkm/download?path=AU%20NBAC%20N193-177\">Download images from Cloudstor</a></li><li><a href=\"volumes/vol-177-pages.csv\" download=\"volumes/vol-177-pages.csv\">Download page list as CSV</a></li></ul>"
      ],
      "text/plain": [
       "<IPython.core.display.HTML object>"
      ]
     },
     "metadata": {},
     "output_type": "display_data"
    },
    {
     "data": {
      "text/html": [
       "<h3>Volume 178: 4 April 1945 – 30 June 1945</h3>"
      ],
      "text/plain": [
       "<IPython.core.display.HTML object>"
      ]
     },
     "metadata": {},
     "output_type": "display_data"
    },
    {
     "data": {
      "text/html": [
       "<p>Estimated 399 of 399 pages (100.00% complete)</p>"
      ],
      "text/plain": [
       "<IPython.core.display.HTML object>"
      ]
     },
     "metadata": {},
     "output_type": "display_data"
    },
    {
     "data": {
      "text/html": [
       "<ul><li><a href=\"https://archivescollection.anu.edu.au/index.php/sydney-stock-exchange-stock-and-share-lists-179\">View description in archive</a></li><li><a href=\"https://openresearch-repository.anu.edu.au/handle/1885/147020\">View item in respository</a></li><li><a href=\"https://openresearch-repository.anu.edu.au/bitstream/1885/147020/2/AU%20NBAC%20N193-178.pdf\">View PDF</a></li><li><a href=\"https://cloudstor.aarnet.edu.au/plus/s/i02k4gxeEpMAUkm/download?path=AU%20NBAC%20N193-178\">Download images from Cloudstor</a></li><li><a href=\"volumes/vol-178-pages.csv\" download=\"volumes/vol-178-pages.csv\">Download page list as CSV</a></li></ul>"
      ],
      "text/plain": [
       "<IPython.core.display.HTML object>"
      ]
     },
     "metadata": {},
     "output_type": "display_data"
    },
    {
     "data": {
      "text/html": [
       "<h3>Volume 179: 2 July 1945 – 29 September 1945</h3>"
      ],
      "text/plain": [
       "<IPython.core.display.HTML object>"
      ]
     },
     "metadata": {},
     "output_type": "display_data"
    },
    {
     "data": {
      "text/html": [
       "<p>Estimated 411 of 411 pages (100.00% complete)</p>"
      ],
      "text/plain": [
       "<IPython.core.display.HTML object>"
      ]
     },
     "metadata": {},
     "output_type": "display_data"
    },
    {
     "data": {
      "text/html": [
       "<ul><li><a href=\"https://archivescollection.anu.edu.au/index.php/sydney-stock-exchange-stock-and-share-lists-180\">View description in archive</a></li><li><a href=\"https://openresearch-repository.anu.edu.au/handle/1885/147021\">View item in respository</a></li><li><a href=\"https://openresearch-repository.anu.edu.au/bitstream/1885/147021/2/AU%20NBAC%20N193-179.pdf\">View PDF</a></li><li><a href=\"https://cloudstor.aarnet.edu.au/plus/s/i02k4gxeEpMAUkm/download?path=AU%20NBAC%20N193-179\">Download images from Cloudstor</a></li><li><a href=\"volumes/vol-179-pages.csv\" download=\"volumes/vol-179-pages.csv\">Download page list as CSV</a></li></ul>"
      ],
      "text/plain": [
       "<IPython.core.display.HTML object>"
      ]
     },
     "metadata": {},
     "output_type": "display_data"
    },
    {
     "data": {
      "text/html": [
       "<h3>Volume 180: 2 October 1945 – 21 December 1945</h3>"
      ],
      "text/plain": [
       "<IPython.core.display.HTML object>"
      ]
     },
     "metadata": {},
     "output_type": "display_data"
    },
    {
     "data": {
      "text/html": [
       "<p>Estimated 384 of 387 pages (99.22% complete)</p>"
      ],
      "text/plain": [
       "<IPython.core.display.HTML object>"
      ]
     },
     "metadata": {},
     "output_type": "display_data"
    },
    {
     "data": {
      "text/html": [
       "<ul><li><a href=\"https://archivescollection.anu.edu.au/index.php/sydney-stock-exchange-stock-and-share-lists-181\">View description in archive</a></li><li><a href=\"https://openresearch-repository.anu.edu.au/handle/1885/147022\">View item in respository</a></li><li><a href=\"https://openresearch-repository.anu.edu.au/bitstream/1885/147022/2/AU%20NBAC%20N193-180.pdf\">View PDF</a></li><li><a href=\"https://cloudstor.aarnet.edu.au/plus/s/i02k4gxeEpMAUkm/download?path=AU%20NBAC%20N193-180\">Download images from Cloudstor</a></li><li><a href=\"volumes/vol-180-pages.csv\" download=\"volumes/vol-180-pages.csv\">Download page list as CSV</a></li></ul>"
      ],
      "text/plain": [
       "<IPython.core.display.HTML object>"
      ]
     },
     "metadata": {},
     "output_type": "display_data"
    },
    {
     "data": {
      "text/html": [
       "<h3>Volume 181: 3 January 1946 – 30 March 1946</h3>"
      ],
      "text/plain": [
       "<IPython.core.display.HTML object>"
      ]
     },
     "metadata": {},
     "output_type": "display_data"
    },
    {
     "data": {
      "text/html": [
       "<p>Estimated 405 of 405 pages (100.00% complete)</p>"
      ],
      "text/plain": [
       "<IPython.core.display.HTML object>"
      ]
     },
     "metadata": {},
     "output_type": "display_data"
    },
    {
     "data": {
      "text/html": [
       "<ul><li><a href=\"https://archivescollection.anu.edu.au/index.php/sydney-stock-exchange-stock-and-share-lists-182\">View description in archive</a></li><li><a href=\"https://openresearch-repository.anu.edu.au/handle/1885/147023\">View item in respository</a></li><li><a href=\"https://openresearch-repository.anu.edu.au/bitstream/1885/147023/2/AU%20NBAC%20N193-181.pdf\">View PDF</a></li><li><a href=\"https://cloudstor.aarnet.edu.au/plus/s/i02k4gxeEpMAUkm/download?path=AU%20NBAC%20N193-181\">Download images from Cloudstor</a></li><li><a href=\"volumes/vol-181-pages.csv\" download=\"volumes/vol-181-pages.csv\">Download page list as CSV</a></li></ul>"
      ],
      "text/plain": [
       "<IPython.core.display.HTML object>"
      ]
     },
     "metadata": {},
     "output_type": "display_data"
    },
    {
     "data": {
      "text/html": [
       "<h3>Volume 182: 1 April 1946 – 29 June 1946</h3>"
      ],
      "text/plain": [
       "<IPython.core.display.HTML object>"
      ]
     },
     "metadata": {},
     "output_type": "display_data"
    },
    {
     "data": {
      "text/html": [
       "<p>Estimated 378 of 384 pages (98.44% complete)</p>"
      ],
      "text/plain": [
       "<IPython.core.display.HTML object>"
      ]
     },
     "metadata": {},
     "output_type": "display_data"
    },
    {
     "data": {
      "text/html": [
       "<ul><li><a href=\"https://archivescollection.anu.edu.au/index.php/sydney-stock-exchange-stock-and-share-lists-183\">View description in archive</a></li><li><a href=\"https://openresearch-repository.anu.edu.au/handle/1885/147024\">View item in respository</a></li><li><a href=\"https://openresearch-repository.anu.edu.au/bitstream/1885/147024/2/AU%20NBAC%20N193-182.pdf\">View PDF</a></li><li><a href=\"https://cloudstor.aarnet.edu.au/plus/s/i02k4gxeEpMAUkm/download?path=AU%20NBAC%20N193-182\">Download images from Cloudstor</a></li><li><a href=\"volumes/vol-182-pages.csv\" download=\"volumes/vol-182-pages.csv\">Download page list as CSV</a></li></ul>"
      ],
      "text/plain": [
       "<IPython.core.display.HTML object>"
      ]
     },
     "metadata": {},
     "output_type": "display_data"
    },
    {
     "data": {
      "text/html": [
       "<h3>Volume 183: 1 July 1946 – 1 September 1946</h3>"
      ],
      "text/plain": [
       "<IPython.core.display.HTML object>"
      ]
     },
     "metadata": {},
     "output_type": "display_data"
    },
    {
     "data": {
      "text/html": [
       "<p>Estimated 264 of 291 pages (90.72% complete)</p>"
      ],
      "text/plain": [
       "<IPython.core.display.HTML object>"
      ]
     },
     "metadata": {},
     "output_type": "display_data"
    },
    {
     "data": {
      "text/html": [
       "<ul><li><a href=\"https://archivescollection.anu.edu.au/index.php/sydney-stock-exchange-stock-and-share-lists-184\">View description in archive</a></li><li><a href=\"https://openresearch-repository.anu.edu.au/handle/1885/147025\">View item in respository</a></li><li><a href=\"https://openresearch-repository.anu.edu.au/bitstream/1885/147025/2/AU%20NBAC%20N193-183.pdf\">View PDF</a></li><li><a href=\"https://cloudstor.aarnet.edu.au/plus/s/i02k4gxeEpMAUkm/download?path=AU%20NBAC%20N193-183\">Download images from Cloudstor</a></li><li><a href=\"volumes/vol-183-pages.csv\" download=\"volumes/vol-183-pages.csv\">Download page list as CSV</a></li></ul>"
      ],
      "text/plain": [
       "<IPython.core.display.HTML object>"
      ]
     },
     "metadata": {},
     "output_type": "display_data"
    },
    {
     "data": {
      "text/html": [
       "<h3>Volume 184: 1 October 1946 – 23 December 1946</h3>"
      ],
      "text/plain": [
       "<IPython.core.display.HTML object>"
      ]
     },
     "metadata": {},
     "output_type": "display_data"
    },
    {
     "data": {
      "text/html": [
       "<p>Estimated 387 of 390 pages (99.23% complete)</p>"
      ],
      "text/plain": [
       "<IPython.core.display.HTML object>"
      ]
     },
     "metadata": {},
     "output_type": "display_data"
    },
    {
     "data": {
      "text/html": [
       "<ul><li><a href=\"https://archivescollection.anu.edu.au/index.php/sydney-stock-exchange-stock-and-share-lists-185\">View description in archive</a></li><li><a href=\"https://openresearch-repository.anu.edu.au/handle/1885/147026\">View item in respository</a></li><li><a href=\"https://openresearch-repository.anu.edu.au/bitstream/1885/147026/2/AU%20NBAC%20N193-184.pdf\">View PDF</a></li><li><a href=\"https://cloudstor.aarnet.edu.au/plus/s/i02k4gxeEpMAUkm/download?path=AU%20NBAC%20N193-184\">Download images from Cloudstor</a></li><li><a href=\"volumes/vol-184-pages.csv\" download=\"volumes/vol-184-pages.csv\">Download page list as CSV</a></li></ul>"
      ],
      "text/plain": [
       "<IPython.core.display.HTML object>"
      ]
     },
     "metadata": {},
     "output_type": "display_data"
    },
    {
     "data": {
      "text/html": [
       "<h3>Volume 185: 6 January 1947 – 31 March 1947</h3>"
      ],
      "text/plain": [
       "<IPython.core.display.HTML object>"
      ]
     },
     "metadata": {},
     "output_type": "display_data"
    },
    {
     "data": {
      "text/html": [
       "<p>Estimated 396 of 396 pages (100.00% complete)</p>"
      ],
      "text/plain": [
       "<IPython.core.display.HTML object>"
      ]
     },
     "metadata": {},
     "output_type": "display_data"
    },
    {
     "data": {
      "text/html": [
       "<ul><li><a href=\"https://archivescollection.anu.edu.au/index.php/sydney-stock-exchange-stock-and-share-lists-186\">View description in archive</a></li><li><a href=\"https://openresearch-repository.anu.edu.au/handle/1885/147027\">View item in respository</a></li><li><a href=\"https://openresearch-repository.anu.edu.au/bitstream/1885/147027/2/AU%20NBAC%20N193-185.pdf\">View PDF</a></li><li><a href=\"https://cloudstor.aarnet.edu.au/plus/s/i02k4gxeEpMAUkm/download?path=AU%20NBAC%20N193-185\">Download images from Cloudstor</a></li><li><a href=\"volumes/vol-185-pages.csv\" download=\"volumes/vol-185-pages.csv\">Download page list as CSV</a></li></ul>"
      ],
      "text/plain": [
       "<IPython.core.display.HTML object>"
      ]
     },
     "metadata": {},
     "output_type": "display_data"
    },
    {
     "data": {
      "text/html": [
       "<h3>Volume 186: 1 April 1947 – 30 June 1947</h3>"
      ],
      "text/plain": [
       "<IPython.core.display.HTML object>"
      ]
     },
     "metadata": {},
     "output_type": "display_data"
    },
    {
     "data": {
      "text/html": [
       "<p>Estimated 387 of 390 pages (99.23% complete)</p>"
      ],
      "text/plain": [
       "<IPython.core.display.HTML object>"
      ]
     },
     "metadata": {},
     "output_type": "display_data"
    },
    {
     "data": {
      "text/html": [
       "<ul><li><a href=\"https://archivescollection.anu.edu.au/index.php/sydney-stock-exchange-stock-and-share-lists-187\">View description in archive</a></li><li><a href=\"https://openresearch-repository.anu.edu.au/handle/1885/147028\">View item in respository</a></li><li><a href=\"https://openresearch-repository.anu.edu.au/bitstream/1885/147028/2/AU%20NBAC%20N193-186.pdf\">View PDF</a></li><li><a href=\"https://cloudstor.aarnet.edu.au/plus/s/i02k4gxeEpMAUkm/download?path=AU%20NBAC%20N193-186\">Download images from Cloudstor</a></li><li><a href=\"volumes/vol-186-pages.csv\" download=\"volumes/vol-186-pages.csv\">Download page list as CSV</a></li></ul>"
      ],
      "text/plain": [
       "<IPython.core.display.HTML object>"
      ]
     },
     "metadata": {},
     "output_type": "display_data"
    },
    {
     "data": {
      "text/html": [
       "<h3>Volume 187: 1 July 1947 – 30 September 1947</h3>"
      ],
      "text/plain": [
       "<IPython.core.display.HTML object>"
      ]
     },
     "metadata": {},
     "output_type": "display_data"
    },
    {
     "data": {
      "text/html": [
       "<p>Estimated 429 of 429 pages (100.00% complete)</p>"
      ],
      "text/plain": [
       "<IPython.core.display.HTML object>"
      ]
     },
     "metadata": {},
     "output_type": "display_data"
    },
    {
     "data": {
      "text/html": [
       "<ul><li><a href=\"https://archivescollection.anu.edu.au/index.php/sydney-stock-exchange-stock-and-share-lists-188\">View description in archive</a></li><li><a href=\"https://openresearch-repository.anu.edu.au/handle/1885/147029\">View item in respository</a></li><li><a href=\"https://openresearch-repository.anu.edu.au/bitstream/1885/147029/2/AU%20NBAC%20N193-187.pdf\">View PDF</a></li><li><a href=\"https://cloudstor.aarnet.edu.au/plus/s/i02k4gxeEpMAUkm/download?path=AU%20NBAC%20N193-187\">Download images from Cloudstor</a></li><li><a href=\"volumes/vol-187-pages.csv\" download=\"volumes/vol-187-pages.csv\">Download page list as CSV</a></li></ul>"
      ],
      "text/plain": [
       "<IPython.core.display.HTML object>"
      ]
     },
     "metadata": {},
     "output_type": "display_data"
    },
    {
     "data": {
      "text/html": [
       "<h3>Volume 188: 1 October 1947 – 23 December 1947</h3>"
      ],
      "text/plain": [
       "<IPython.core.display.HTML object>"
      ]
     },
     "metadata": {},
     "output_type": "display_data"
    },
    {
     "data": {
      "text/html": [
       "<p>Estimated 386 of 390 pages (98.97% complete)</p>"
      ],
      "text/plain": [
       "<IPython.core.display.HTML object>"
      ]
     },
     "metadata": {},
     "output_type": "display_data"
    },
    {
     "data": {
      "text/html": [
       "<ul><li><a href=\"https://archivescollection.anu.edu.au/index.php/sydney-stock-exchange-stock-and-share-lists-189\">View description in archive</a></li><li><a href=\"https://openresearch-repository.anu.edu.au/handle/1885/147030\">View item in respository</a></li><li><a href=\"https://openresearch-repository.anu.edu.au/bitstream/1885/147030/2/AU%20NBAC%20N193-188.pdf\">View PDF</a></li><li><a href=\"https://cloudstor.aarnet.edu.au/plus/s/i02k4gxeEpMAUkm/download?path=AU%20NBAC%20N193-188\">Download images from Cloudstor</a></li><li><a href=\"volumes/vol-188-pages.csv\" download=\"volumes/vol-188-pages.csv\">Download page list as CSV</a></li></ul>"
      ],
      "text/plain": [
       "<IPython.core.display.HTML object>"
      ]
     },
     "metadata": {},
     "output_type": "display_data"
    },
    {
     "data": {
      "text/html": [
       "<h3>Volume 189: 5 January 1948 – 25 March 1948</h3>"
      ],
      "text/plain": [
       "<IPython.core.display.HTML object>"
      ]
     },
     "metadata": {},
     "output_type": "display_data"
    },
    {
     "data": {
      "text/html": [
       "<p>Estimated 345 of 348 pages (99.14% complete)</p>"
      ],
      "text/plain": [
       "<IPython.core.display.HTML object>"
      ]
     },
     "metadata": {},
     "output_type": "display_data"
    },
    {
     "data": {
      "text/html": [
       "<ul><li><a href=\"https://archivescollection.anu.edu.au/index.php/sydney-stock-exchange-stock-and-share-lists-190\">View description in archive</a></li><li><a href=\"https://openresearch-repository.anu.edu.au/handle/1885/147031\">View item in respository</a></li><li><a href=\"https://openresearch-repository.anu.edu.au/bitstream/1885/147031/2/AU%20NBAC%20N193-189.pdf\">View PDF</a></li><li><a href=\"https://cloudstor.aarnet.edu.au/plus/s/i02k4gxeEpMAUkm/download?path=AU%20NBAC%20N193-189\">Download images from Cloudstor</a></li><li><a href=\"volumes/vol-189-pages.csv\" download=\"volumes/vol-189-pages.csv\">Download page list as CSV</a></li></ul>"
      ],
      "text/plain": [
       "<IPython.core.display.HTML object>"
      ]
     },
     "metadata": {},
     "output_type": "display_data"
    },
    {
     "data": {
      "text/html": [
       "<h3>Volume 190: 1 April 1948 – 30 June 1948</h3>"
      ],
      "text/plain": [
       "<IPython.core.display.HTML object>"
      ]
     },
     "metadata": {},
     "output_type": "display_data"
    },
    {
     "data": {
      "text/html": [
       "<p>Estimated 378 of 378 pages (100.00% complete)</p>"
      ],
      "text/plain": [
       "<IPython.core.display.HTML object>"
      ]
     },
     "metadata": {},
     "output_type": "display_data"
    },
    {
     "data": {
      "text/html": [
       "<ul><li><a href=\"https://archivescollection.anu.edu.au/index.php/sydney-stock-exchange-stock-and-share-lists-191\">View description in archive</a></li><li><a href=\"https://openresearch-repository.anu.edu.au/handle/1885/147032\">View item in respository</a></li><li><a href=\"https://openresearch-repository.anu.edu.au/bitstream/1885/147032/2/AU%20NBAC%20N193-190.pdf\">View PDF</a></li><li><a href=\"https://cloudstor.aarnet.edu.au/plus/s/i02k4gxeEpMAUkm/download?path=AU%20NBAC%20N193-190\">Download images from Cloudstor</a></li><li><a href=\"volumes/vol-190-pages.csv\" download=\"volumes/vol-190-pages.csv\">Download page list as CSV</a></li></ul>"
      ],
      "text/plain": [
       "<IPython.core.display.HTML object>"
      ]
     },
     "metadata": {},
     "output_type": "display_data"
    },
    {
     "data": {
      "text/html": [
       "<h3>Volume 191: 1 July 1948 – 30 September 1948</h3>"
      ],
      "text/plain": [
       "<IPython.core.display.HTML object>"
      ]
     },
     "metadata": {},
     "output_type": "display_data"
    },
    {
     "data": {
      "text/html": [
       "<p>Estimated 489 of 488 pages (100.20% complete)</p>"
      ],
      "text/plain": [
       "<IPython.core.display.HTML object>"
      ]
     },
     "metadata": {},
     "output_type": "display_data"
    },
    {
     "data": {
      "text/html": [
       "<ul><li><a href=\"https://archivescollection.anu.edu.au/index.php/sydney-stock-exchange-stock-and-share-lists-192\">View description in archive</a></li><li><a href=\"https://openresearch-repository.anu.edu.au/handle/1885/147034\">View item in respository</a></li><li><a href=\"https://openresearch-repository.anu.edu.au/bitstream/1885/147034/2/AU%20NBAC%20N193-191.pdf\">View PDF</a></li><li><a href=\"https://cloudstor.aarnet.edu.au/plus/s/i02k4gxeEpMAUkm/download?path=AU%20NBAC%20N193-191\">Download images from Cloudstor</a></li><li><a href=\"volumes/vol-191-pages.csv\" download=\"volumes/vol-191-pages.csv\">Download page list as CSV</a></li></ul>"
      ],
      "text/plain": [
       "<IPython.core.display.HTML object>"
      ]
     },
     "metadata": {},
     "output_type": "display_data"
    },
    {
     "data": {
      "text/html": [
       "<h3>Volume 192: 1 October 1948 – 23 December 1948</h3>"
      ],
      "text/plain": [
       "<IPython.core.display.HTML object>"
      ]
     },
     "metadata": {},
     "output_type": "display_data"
    },
    {
     "data": {
      "text/html": [
       "<p>Estimated 468 of 472 pages (99.15% complete)</p>"
      ],
      "text/plain": [
       "<IPython.core.display.HTML object>"
      ]
     },
     "metadata": {},
     "output_type": "display_data"
    },
    {
     "data": {
      "text/html": [
       "<ul><li><a href=\"https://archivescollection.anu.edu.au/index.php/sydney-stock-exchange-stock-and-share-lists-193\">View description in archive</a></li><li><a href=\"https://openresearch-repository.anu.edu.au/handle/1885/147034\">View item in respository</a></li><li><a href=\"https://openresearch-repository.anu.edu.au/bitstream/1885/147034/2/AU%20NBAC%20N193-192.pdf\">View PDF</a></li><li><a href=\"https://cloudstor.aarnet.edu.au/plus/s/i02k4gxeEpMAUkm/download?path=AU%20NBAC%20N193-192\">Download images from Cloudstor</a></li><li><a href=\"volumes/vol-192-pages.csv\" download=\"volumes/vol-192-pages.csv\">Download page list as CSV</a></li></ul>"
      ],
      "text/plain": [
       "<IPython.core.display.HTML object>"
      ]
     },
     "metadata": {},
     "output_type": "display_data"
    },
    {
     "data": {
      "text/html": [
       "<h3>Volume 193: 5 January 1949 – 31 March 1949</h3>"
      ],
      "text/plain": [
       "<IPython.core.display.HTML object>"
      ]
     },
     "metadata": {},
     "output_type": "display_data"
    },
    {
     "data": {
      "text/html": [
       "<p>Estimated 488 of 488 pages (100.00% complete)</p>"
      ],
      "text/plain": [
       "<IPython.core.display.HTML object>"
      ]
     },
     "metadata": {},
     "output_type": "display_data"
    },
    {
     "data": {
      "text/html": [
       "<ul><li><a href=\"https://archivescollection.anu.edu.au/index.php/sydney-stock-exchange-stock-and-share-lists-194\">View description in archive</a></li><li><a href=\"https://openresearch-repository.anu.edu.au/handle/1885/147035\">View item in respository</a></li><li><a href=\"https://openresearch-repository.anu.edu.au/bitstream/1885/147035/2/AU%20NBAC%20N193-193.pdf\">View PDF</a></li><li><a href=\"https://cloudstor.aarnet.edu.au/plus/s/i02k4gxeEpMAUkm/download?path=AU%20NBAC%20N193-193\">Download images from Cloudstor</a></li><li><a href=\"volumes/vol-193-pages.csv\" download=\"volumes/vol-193-pages.csv\">Download page list as CSV</a></li></ul>"
      ],
      "text/plain": [
       "<IPython.core.display.HTML object>"
      ]
     },
     "metadata": {},
     "output_type": "display_data"
    },
    {
     "data": {
      "text/html": [
       "<h3>Volume 194: 1 April 1949 – 30 June 1949</h3>"
      ],
      "text/plain": [
       "<IPython.core.display.HTML object>"
      ]
     },
     "metadata": {},
     "output_type": "display_data"
    },
    {
     "data": {
      "text/html": [
       "<p>Estimated 468 of 472 pages (99.15% complete)</p>"
      ],
      "text/plain": [
       "<IPython.core.display.HTML object>"
      ]
     },
     "metadata": {},
     "output_type": "display_data"
    },
    {
     "data": {
      "text/html": [
       "<ul><li><a href=\"https://archivescollection.anu.edu.au/index.php/sydney-stock-exchange-stock-and-share-lists-195\">View description in archive</a></li><li><a href=\"https://openresearch-repository.anu.edu.au/handle/1885/147036\">View item in respository</a></li><li><a href=\"https://openresearch-repository.anu.edu.au/bitstream/1885/147036/2/AU%20NBAC%20N193-194.pdf\">View PDF</a></li><li><a href=\"https://cloudstor.aarnet.edu.au/plus/s/i02k4gxeEpMAUkm/download?path=AU%20NBAC%20N193-194\">Download images from Cloudstor</a></li><li><a href=\"volumes/vol-194-pages.csv\" download=\"volumes/vol-194-pages.csv\">Download page list as CSV</a></li></ul>"
      ],
      "text/plain": [
       "<IPython.core.display.HTML object>"
      ]
     },
     "metadata": {},
     "output_type": "display_data"
    },
    {
     "data": {
      "text/html": [
       "<h3>Volume 195: 1 July 1949 – 30 September 1949</h3>"
      ],
      "text/plain": [
       "<IPython.core.display.HTML object>"
      ]
     },
     "metadata": {},
     "output_type": "display_data"
    },
    {
     "data": {
      "text/html": [
       "<p>Estimated 520 of 520 pages (100.00% complete)</p>"
      ],
      "text/plain": [
       "<IPython.core.display.HTML object>"
      ]
     },
     "metadata": {},
     "output_type": "display_data"
    },
    {
     "data": {
      "text/html": [
       "<ul><li><a href=\"https://archivescollection.anu.edu.au/index.php/sydney-stock-exchange-stock-and-share-lists-196\">View description in archive</a></li><li><a href=\"https://openresearch-repository.anu.edu.au/handle/1885/147037\">View item in respository</a></li><li><a href=\"https://openresearch-repository.anu.edu.au/bitstream/1885/147037/2/AU%20NBAC%20N193-195.pdf\">View PDF</a></li><li><a href=\"https://cloudstor.aarnet.edu.au/plus/s/i02k4gxeEpMAUkm/download?path=AU%20NBAC%20N193-195\">Download images from Cloudstor</a></li><li><a href=\"volumes/vol-195-pages.csv\" download=\"volumes/vol-195-pages.csv\">Download page list as CSV</a></li></ul>"
      ],
      "text/plain": [
       "<IPython.core.display.HTML object>"
      ]
     },
     "metadata": {},
     "output_type": "display_data"
    },
    {
     "data": {
      "text/html": [
       "<h3>Volume 196: 4 October 1949 – 22 December 1949</h3>"
      ],
      "text/plain": [
       "<IPython.core.display.HTML object>"
      ]
     },
     "metadata": {},
     "output_type": "display_data"
    },
    {
     "data": {
      "text/html": [
       "<p>Estimated 460 of 464 pages (99.14% complete)</p>"
      ],
      "text/plain": [
       "<IPython.core.display.HTML object>"
      ]
     },
     "metadata": {},
     "output_type": "display_data"
    },
    {
     "data": {
      "text/html": [
       "<ul><li><a href=\"https://archivescollection.anu.edu.au/index.php/sydney-stock-exchange-stock-and-share-lists-197\">View description in archive</a></li><li><a href=\"https://openresearch-repository.anu.edu.au/handle/1885/147038\">View item in respository</a></li><li><a href=\"https://openresearch-repository.anu.edu.au/bitstream/1885/147038/2/AU%20NBAC%20N193-196.pdf\">View PDF</a></li><li><a href=\"https://cloudstor.aarnet.edu.au/plus/s/i02k4gxeEpMAUkm/download?path=AU%20NBAC%20N193-196\">Download images from Cloudstor</a></li><li><a href=\"volumes/vol-196-pages.csv\" download=\"volumes/vol-196-pages.csv\">Download page list as CSV</a></li></ul>"
      ],
      "text/plain": [
       "<IPython.core.display.HTML object>"
      ]
     },
     "metadata": {},
     "output_type": "display_data"
    },
    {
     "data": {
      "text/html": [
       "<h3>Volume 197: 4 January 1950 – 31 March 1950</h3>"
      ],
      "text/plain": [
       "<IPython.core.display.HTML object>"
      ]
     },
     "metadata": {},
     "output_type": "display_data"
    },
    {
     "data": {
      "text/html": [
       "<p>Estimated 496 of 496 pages (100.00% complete)</p>"
      ],
      "text/plain": [
       "<IPython.core.display.HTML object>"
      ]
     },
     "metadata": {},
     "output_type": "display_data"
    },
    {
     "data": {
      "text/html": [
       "<ul><li><a href=\"https://archivescollection.anu.edu.au/index.php/sydney-stock-exchange-stock-and-share-lists-198\">View description in archive</a></li><li><a href=\"https://openresearch-repository.anu.edu.au/handle/1885/147039\">View item in respository</a></li><li><a href=\"https://openresearch-repository.anu.edu.au/bitstream/1885/147039/2/AU%20NBAC%20N193-197.pdf\">View PDF</a></li><li><a href=\"https://cloudstor.aarnet.edu.au/plus/s/i02k4gxeEpMAUkm/download?path=AU%20NBAC%20N193-197\">Download images from Cloudstor</a></li><li><a href=\"volumes/vol-197-pages.csv\" download=\"volumes/vol-197-pages.csv\">Download page list as CSV</a></li></ul>"
      ],
      "text/plain": [
       "<IPython.core.display.HTML object>"
      ]
     },
     "metadata": {},
     "output_type": "display_data"
    },
    {
     "data": {
      "text/html": [
       "<h3>Volume 198: 3 April 1950 – 30 June 1950</h3>"
      ],
      "text/plain": [
       "<IPython.core.display.HTML object>"
      ]
     },
     "metadata": {},
     "output_type": "display_data"
    },
    {
     "data": {
      "text/html": [
       "<p>Estimated 460 of 464 pages (99.14% complete)</p>"
      ],
      "text/plain": [
       "<IPython.core.display.HTML object>"
      ]
     },
     "metadata": {},
     "output_type": "display_data"
    },
    {
     "data": {
      "text/html": [
       "<ul><li><a href=\"https://archivescollection.anu.edu.au/index.php/sydney-stock-exchange-stock-and-share-lists-199\">View description in archive</a></li><li><a href=\"https://openresearch-repository.anu.edu.au/handle/1885/147040\">View item in respository</a></li><li><a href=\"https://openresearch-repository.anu.edu.au/bitstream/1885/147040/2/AU%20NBAC%20N193-198.pdf\">View PDF</a></li><li><a href=\"https://cloudstor.aarnet.edu.au/plus/s/i02k4gxeEpMAUkm/download?path=AU%20NBAC%20N193-198\">Download images from Cloudstor</a></li><li><a href=\"volumes/vol-198-pages.csv\" download=\"volumes/vol-198-pages.csv\">Download page list as CSV</a></li></ul>"
      ],
      "text/plain": [
       "<IPython.core.display.HTML object>"
      ]
     },
     "metadata": {},
     "output_type": "display_data"
    },
    {
     "data": {
      "text/html": [
       "<h3>Volume 199: 1 March 1950 – 1 July 1950</h3>"
      ],
      "text/plain": [
       "<IPython.core.display.HTML object>"
      ]
     },
     "metadata": {},
     "output_type": "display_data"
    },
    {
     "data": {
      "text/html": [
       "<p>Estimated 644 of 648 pages (99.38% complete)</p>"
      ],
      "text/plain": [
       "<IPython.core.display.HTML object>"
      ]
     },
     "metadata": {},
     "output_type": "display_data"
    },
    {
     "data": {
      "text/html": [
       "<ul><li><a href=\"https://archivescollection.anu.edu.au/index.php/sydney-stock-exchange-stock-and-share-lists-200\">View description in archive</a></li><li><a href=\"https://openresearch-repository.anu.edu.au/handle/1885/147041\">View item in respository</a></li><li><a href=\"https://openresearch-repository.anu.edu.au/bitstream/1885/147041/2/AU%20NBAC%20N193-199.pdf\">View PDF</a></li><li><a href=\"https://cloudstor.aarnet.edu.au/plus/s/i02k4gxeEpMAUkm/download?path=AU%20NBAC%20N193-199\">Download images from Cloudstor</a></li></ul>"
      ],
      "text/plain": [
       "<IPython.core.display.HTML object>"
      ]
     },
     "metadata": {},
     "output_type": "display_data"
    }
   ],
   "source": [
    "for vol in soup.find_all(\"c\"):\n",
    "    vol_num = int(re.search(r\"-(\\d+)$\", vol.find(\"unitid\").text).group(1).strip())\n",
    "    atom_url = f\"https://archivescollection.anu.edu.au/index.php/sydney-stock-exchange-stock-and-share-lists-{vol_num + 1}\"\n",
    "\n",
    "    # Get links to metadata and PDF in DSpace\n",
    "    try:\n",
    "        dspace_url = (\n",
    "            re.search(r\"(http.*)$\", vol.find(\"altformavail\").get_text())\n",
    "            .group(1)\n",
    "            .strip()\n",
    "        )\n",
    "    except AttributeError:\n",
    "        dspace_url = None\n",
    "        pdf_url = None\n",
    "    else:\n",
    "        pdf_url = f'{dspace_url.replace(\"handle\", \"bitstream\")}/2/AU%20NBAC%20N193-{vol_num:03}.pdf'\n",
    "\n",
    "    # Create link to download folder of images from Cludstor\n",
    "    cloudstor_folder_url = (\n",
    "        f\"{cloudstor_url}/download?path=AU%20NBAC%20N193-{vol_num:03}\"\n",
    "    )\n",
    "\n",
    "    # Get the list of pages from this volume and save as a CSV\n",
    "    pages = df_pages.loc[df_pages[\"vol_num\"] == vol_num].copy(deep=False)\n",
    "    if not pages.empty:\n",
    "        # Add a link to the page image on Cloudstor\n",
    "        pages[\"image_url\"] = pages.apply(\n",
    "            lambda x: f'{cloudstor_folder_url}&files=N193-{int(vol_num):03}_{int(x[\"page_num\"]):04}.jpg',\n",
    "            axis=1,\n",
    "        )\n",
    "        csv_file = Path(f\"volumes/vol-{vol_num}-pages.csv\")\n",
    "        pages.to_csv(csv_file, index=False)\n",
    "    else:\n",
    "        csv_file = None\n",
    "\n",
    "    # Get the date range of this volume\n",
    "    vol_details = df_vols.loc[df_vols[\"vol_num\"] == vol_num]\n",
    "    start_date = vol_details.iloc[0][\"start_date\"]\n",
    "    end_date = vol_details.iloc[0][\"end_date\"]\n",
    "\n",
    "    # Get list of dates covered by this volume\n",
    "    dates = df_dates.loc[\n",
    "        (df_dates[\"date\"] >= start_date) & (df_dates[\"date\"] <= end_date)\n",
    "    ]\n",
    "\n",
    "    # Get total page numbers\n",
    "    num_pages = dates[\"pages\"].sum()\n",
    "    num_expected = dates[\"expected\"].sum()\n",
    "\n",
    "    # Display the volume details\n",
    "    display(\n",
    "        HTML(\n",
    "            f'<h3>Volume {vol_num}: {arrow.get(start_date).format(\"D MMMM YYYY\")} – {arrow.get(end_date).format(\"D MMMM YYYY\")}</h3>'\n",
    "        )\n",
    "    )\n",
    "    display(\n",
    "        HTML(\n",
    "            f\"<p>Estimated {num_pages} of {num_expected} pages ({num_pages / num_expected:.2%} complete)</p>\"\n",
    "        )\n",
    "    )\n",
    "    links = f'<ul><li><a href=\"{atom_url}\">View description in archive</a></li>'\n",
    "    if dspace_url:\n",
    "        links += f'<li><a href=\"{dspace_url}\">View item in respository</a></li>'\n",
    "        links += f'<li><a href=\"{pdf_url}\">View PDF</a></li>'\n",
    "    links += (\n",
    "        f'<li><a href=\"{cloudstor_folder_url}\">Download images from Cloudstor</a></li>'\n",
    "    )\n",
    "    if csv_file:\n",
    "        links += f'<li><a href=\"{csv_file}\" download=\"{csv_file}\">Download page list as CSV</a></li>'\n",
    "    links += \"</ul>\"\n",
    "    display(HTML(links))"
   ]
  },
  {
   "cell_type": "markdown",
   "metadata": {},
   "source": [
    "---\n",
    "Created by [Tim Sherratt](https://timsherratt.org) for the [GLAM Workbench](https://glam-workbench.github.io/)."
   ]
  }
 ],
 "metadata": {
  "kernelspec": {
   "display_name": "Python 3 (ipykernel)",
   "language": "python",
   "name": "python3"
  },
  "language_info": {
   "codemirror_mode": {
    "name": "ipython",
    "version": 3
   },
   "file_extension": ".py",
   "mimetype": "text/x-python",
   "name": "python",
   "nbconvert_exporter": "python",
   "pygments_lexer": "ipython3",
   "version": "3.8.12"
  }
 },
 "nbformat": 4,
 "nbformat_minor": 4
}
